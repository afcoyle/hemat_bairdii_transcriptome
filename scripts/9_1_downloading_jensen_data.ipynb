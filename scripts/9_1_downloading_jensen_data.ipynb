{
 "cells": [
  {
   "cell_type": "markdown",
   "metadata": {},
   "source": [
    "Aidan Coyle\n",
    "\n",
    "afcoyle@uw.edu\n",
    "\n",
    "Roberts Lab, UW-SAFS\n",
    "\n",
    "2021-08-25"
   ]
  },
  {
   "cell_type": "markdown",
   "metadata": {},
   "source": [
    "## 9_1_downloading_jensen_data.ipynb\n",
    "\n",
    "In our lab cleaning, I realized that we have an absolute goldmine of samples from Pam Jensen. We have over four full totes of them! Nearly all are in the form of sealed 96-well plates, but there are a few exceptions. Here's a rundown on what we've got:\n",
    "\n",
    "Collection ates: 2019 at the latest, ~2003 at the earliest. Most are in the 2010s\n",
    "\n",
    "Species: Almost all presumed C. bairdi or C. opilio, but there are a few confirmed to be the following:\n",
    "- Hybrid C. bairdi/C. opilio\n",
    "- C. angulatus (triangle Tanner crab)\n",
    "- C. tanneri (grooved Tanner crab, yes it's confusing that regular Tanner crab aren't C. tanneri)\n",
    "- Paralithodes camtschaticus (red king crab) (!!!!!)\n",
    "- Paralithodes platypus (blue king crab) (!!!!)\n",
    "- Hyas sp (lyre crabs)\n",
    "- Lithodes couesi (scarlet king crab)\n",
    "\n",
    "Location: Generally they were collected on surveys. Many in the Eastern Bering Sea (EBS) with a good number in SE Alaska, several in the Gulf of Alaska (GOA) and northern Bering Sea (NBS), and a sprinkling from Newfoundland and Russian waters (Sea of Okhotsk/Chukchi Sea). For many, location is unknown, as boxes are marked only with the project number\n",
    "\n",
    "Preservation method: With a few exceptions, 100% EtOH\n",
    "\n",
    "Sample: Nearly all hemolymph samples, but with a smattering of tissue samples\n",
    "\n",
    "However, we're lacking a great deal of information on nearly all of these samples. Precise collection dates and locations are unknown. For many, even a general collection location is unknown. All individual crab information is completely absent. For the vast majority of these samples, we also do not know whether these crabs were infected by _Hematodinium_. Presumably, these samples were obtained to diagnose the prevalence of _Hematodinium_, and so a good number of them are uninfected.\n",
    "\n",
    "In this script, we will download the data that will hopefully let us answer these questions. Along with her samples, Pam Jensen sent along a large number of files, many of which describe the samples in detail.\n",
    "\n",
    "\n",
    "\n"
   ]
  },
  {
   "cell_type": "code",
   "execution_count": null,
   "metadata": {},
   "outputs": [],
   "source": [
    "!wget --no-check-certificate --no-parent --recursive --reject index.html* -P ../data/jensen_archived_samples/jensen_data/ https://gannet.fish.washington.edu/hematodinium/"
   ]
  },
  {
   "cell_type": "code",
   "execution_count": null,
   "metadata": {},
   "outputs": [],
   "source": []
  }
 ],
 "metadata": {
  "kernelspec": {
   "display_name": "Python 3",
   "language": "python",
   "name": "python3"
  },
  "language_info": {
   "codemirror_mode": {
    "name": "ipython",
    "version": 3
   },
   "file_extension": ".py",
   "mimetype": "text/x-python",
   "name": "python",
   "nbconvert_exporter": "python",
   "pygments_lexer": "ipython3",
   "version": "3.8.3"
  }
 },
 "nbformat": 4,
 "nbformat_minor": 4
}

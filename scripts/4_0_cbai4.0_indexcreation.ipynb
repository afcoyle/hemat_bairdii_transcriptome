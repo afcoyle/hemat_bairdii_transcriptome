{
 "cells": [
  {
   "cell_type": "markdown",
   "metadata": {},
   "source": [
    "Aspen Coyle, afcoyle@uw.edu\n",
    "\n",
    "2021/03/19\n",
    "\n",
    "Roberts lab at SAFS\n",
    "\n",
    "\n",
    "# 40_cbai4.0_indexcreation\n",
    "\n",
    "This script produces a BLASTx annotation table by BLASTing C. bairdi transcriptome v4.0 against the Swiss-Prot/UniProt database\n",
    "\n",
    "BLAST was done on Mox, so all commands are copy-pasted over, unless otherwise specified."
   ]
  },
  {
   "cell_type": "markdown",
   "metadata": {},
   "source": [
    "**Transcriptome**: Link and background info for cbai_transcriptomev4.0 available [here](https://robertslab.github.io/sams-notebook/2021/03/17/Transcriptome-Assembly-C.bairdi-Transcriptome-v4.0-Using-Trinity-on-Mox.html). \n",
    "\n",
    "Direct link to folder with data available [here](https://gannet.fish.washington.edu/Atumefaciens/20210317_cbai_trinity_RNAseq_transcriptome-v4.0/cbai_transcriptome_v4.0.fasta_trinity_out_dir/). \n",
    "\n",
    "Transcriptome md5sum is 6450d6f5650bfb5f910a5f42eef94913"
   ]
  },
  {
   "cell_type": "code",
   "execution_count": null,
   "metadata": {},
   "outputs": [],
   "source": [
    "# Working from the login node of Mox, specifically gscratch/srlab/afcoyle\n",
    "# Download cbai_transcriptomev4.0\n",
    "[afcoyle@mox2 afcoyle]$ curl -o projects/cbai4.0_blastx/cbai_transcriptomev4.0.fasta \\\n",
    "-k https://gannet.fish.washington.edu/Atumefaciens/20210317_cbai_trinity_RNAseq_transcriptome-v4.0/cbai_transcriptome_v4.0.fasta_trinity_out_dir/cbai_transcriptome_v4.0.fasta"
   ]
  },
  {
   "cell_type": "code",
   "execution_count": null,
   "metadata": {},
   "outputs": [],
   "source": [
    "# Verify checksum\n",
    "[afcoyle@mox2 afcoyle]$ md5sum projects/cbai4.0_blastx/cbai_transcriptomev4.0.fasta | grep \"6450d6f5650bfb5f910a5f42eef94913\"\n",
    "\n",
    "6450d6f5650bfb5f910a5f42eef94913  projects/cbai4.0_blastx/cbai_transcriptomev4.0.fasta"
   ]
  },
  {
   "cell_type": "code",
   "execution_count": null,
   "metadata": {},
   "outputs": [],
   "source": [
    "# Make database for uniprot db\n",
    "# Already completed for 30_hemat1.6_indexcreation so not redoing,\n",
    "# command here for completeness. \n",
    "/gscratch/srlab/programs/ncbi-blast-2.8.1+/bin/makeblastdb \\\n",
    "-in /gscratch/srlab/blastdbs/uniprot_sprot_20200123/uniprot_sprot.fasta \\\n",
    "-dbtype prot \\\n",
    "-parse_seqids \\\n",
    "-out /gscratch/srlab/afcoyle/projects/cbai4.0_blastx/output/blastdbs/uniprot_blastdb"
   ]
  },
  {
   "cell_type": "markdown",
   "metadata": {},
   "source": [
    "### Mox slurm script for BLASTx of hematodinium transcriptome v1.6"
   ]
  },
  {
   "cell_type": "code",
   "execution_count": null,
   "metadata": {},
   "outputs": [],
   "source": [
    "#!/bin/bash\n",
    "## Job Name\n",
    "#SBATCH --job-name=afcoyle_cbai4.0blast\n",
    "## Allocation Definition\n",
    "#SBATCH --account=srlab\n",
    "#SBATCH --partition=srlab\n",
    "## Resources\n",
    "## Nodes\n",
    "#SBATCH --nodes=1\n",
    "## Walltime (days-hours:minutes:seconds format)\n",
    "#SBATCH --time=1-12:00:00\n",
    "## Memory per node\n",
    "#SBATCH --mem=120G\n",
    "##turn on e-mail notification\n",
    "#SBATCH --mail-type=ALL\n",
    "#SBATCH --mail-user=afcoyle@uw.edu\n",
    "## Specify the working directory for this job\n",
    "#SBATCH --chdir=/gscratch/scrubbed/afcoyle\n",
    "\n",
    "\n",
    "/gscratch/srlab/programs/ncbi-blast-2.8.1+/bin/blastx \\\n",
    "-task=\"blastx\" \\\n",
    "-query /gscratch/srlab/afcoyle/projects/cbai4.0_blastx/cbai_transcriptomev4.0.fasta \\\n",
    "-db /gscratch/srlab/afcoyle/projects/cbai4.0_blastx/output/blastdbs/uniprot_blastdb \\\n",
    "-out /gscratch/srlab/afcoyle/projects/cbai4.0_blastx/output/cbai4.0_blastxres.tab \\\n",
    "-evalue 1E-05 \\\n",
    "-num_threads 40 \\\n",
    "-max_target_seqs 1 \\\n",
    "-outfmt 6"
   ]
  },
  {
   "cell_type": "code",
   "execution_count": null,
   "metadata": {},
   "outputs": [],
   "source": [
    "# Send job to executive node of Mox\n",
    "[afcoyle@mox1 afcoyle]$ sbatch jobs/20210319_cbai4.0_blastx.sh\n",
    "Submitted batch job 1760093"
   ]
  },
  {
   "cell_type": "code",
   "execution_count": null,
   "metadata": {},
   "outputs": [],
   "source": [
    "# Transfer BLAST output from Mox to Gannet\n",
    "# These commands performed from a folder in Gannetc\n",
    "# Gannet folder: /volume2/web/nerka/mox_transfers/scrubbed/\n",
    "rsync -avz --progress \\\n",
    "afcoyle@mox.hyak.uw.edu:/gscratch/srlab/afcoyle/projects/cbai4.0_blastx/output/cbai4.0_blastxres.tab \\\n",
    "hemat_proj/"
   ]
  },
  {
   "cell_type": "code",
   "execution_count": null,
   "metadata": {},
   "outputs": [],
   "source": [
    "# Check our md5sums to ensure correct transfer. Here's what they should be:\n",
    "# To obtain, run md5sum cbai4.0_blastxres.tab on both Mox and Gannet\n",
    "\n",
    "# e9c40aae5f5897a1cb832448dcb96f85  cbai4.0_blastxres.tab"
   ]
  },
  {
   "cell_type": "code",
   "execution_count": null,
   "metadata": {},
   "outputs": [],
   "source": [
    "# Transfer both BLAST outputs to local machine\n",
    "# Ran command from local machine\n",
    "# Using absolute path, as relative path fails\n",
    "rsync -chavzP --stats \\\n",
    "afcoyle@gannet.fish.washington.edu:/volume2/web/nerka/mox_transfers/scrubbed/hemat_proj/cbai4.0_blastxres.tab \\\n",
    "/mnt/c/Users/acoyl/Documents/GitHub/hemat_bairdi_transcriptome/output/BLASTs/uniprot_swissprot/"
   ]
  },
  {
   "cell_type": "code",
   "execution_count": null,
   "metadata": {},
   "outputs": [],
   "source": [
    "# Verify checksums still match by running md5sum ../output/BLASTs/uniprot_swissprot/cbai4.0_blastxres.tab on local machine\n",
    "\n",
    "# e9c40aae5f5897a1cb832448dcb96f85  cbai4.0_blastxres.tab"
   ]
  }
 ],
 "metadata": {
  "kernelspec": {
   "display_name": "Python 3",
   "language": "python",
   "name": "python3"
  },
  "language_info": {
   "codemirror_mode": {
    "name": "ipython",
    "version": 3
   },
   "file_extension": ".py",
   "mimetype": "text/x-python",
   "name": "python",
   "nbconvert_exporter": "python",
   "pygments_lexer": "ipython3",
   "version": "3.8.3"
  }
 },
 "nbformat": 4,
 "nbformat_minor": 4
}

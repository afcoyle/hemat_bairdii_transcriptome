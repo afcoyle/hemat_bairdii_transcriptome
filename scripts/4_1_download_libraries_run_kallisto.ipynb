{
 "cells": [
  {
   "cell_type": "markdown",
   "metadata": {},
   "source": [
    "Aidan Coyle, afcoyle@uw.edu\n",
    "\n",
    "Roberts Lab, UW-SAFS\n",
    "\n",
    "2021-03-18\n",
    "\n",
    "This script follows the same steps as 11_download_libraries_run_kallisto.ipynb and 21_download_libraries_run_kallisto.ipynb\n",
    "\n",
    "11_... dealt with cbai_trancriptomev2.0, which contained sequences from both _C. bairdi_ and _Hematodinium_.\n",
    "\n",
    "31_... dealt with hemat_transcriptomev1.6, which only contains sequences presumed to be _Hematodinium_.\n",
    "\n",
    "41_download_libraries_run_kallisto.ipynb uses a new transcriptome - cbai_transcriptomev4.0 - which contains only sequences presumed to be _C. bairdi_\n",
    "\n",
    "As the title implies, we will first download the libraries and transcriptome, then build a kallisto index from the transcriptome, and then pseudoalign the libraries to the transcriptome, thus providing counts for each library. Finally, we will build matrices for each of the pairwise comparisons we want to perform.\n",
    "\n",
    "The plan is to perform two pairwise comparisons of gene expression. The first is between individual libraries of Ambient Day 2 and Elevated Day 2 infected crab. In this, we hold day constant but examine different crabs at different temperatures. The second is between individual libraries of Elevated Day 0 and Elevated Day 2 (Day 0 samples were taken prior to exposure to elevated temperatures). In this comparison, we are examining the same crab over time, but at different temperatures and on different days.\n",
    "\n",
    "Despite the limited number of samples in these pairwise comparisons, we will download and build kallisto libraries for all samples, both individual and pooled. This makes it easier to perform future pairwise comparisons if we decide to. Nevertheless, it is not strictly necessary - feel free to skip if you are confident about the pairwise comparisons to be made.\n",
    "\n",
    "Some notes:\n",
    "\n",
    "1. We will build indices for both individual and pooled libraries, but will likely only utilize those for individual libraries\n",
    "2. Most of this script will be run remotely on the lab's Roadrunner computer, rather than on a local machine. This means that commands will largely be copied and pasted from the command line, rather than ran directly in this Jupyter notebook.\n",
    "\n",
    "\n"
   ]
  },
  {
   "cell_type": "markdown",
   "metadata": {},
   "source": [
    "Library IDs are as follows. Asterisks label Day 0 crabs that were part of either the elevated or lowered treatment groups - since at Day 0, they had not yet been exposed to changes away from ambient temperature, they are included as part of the ambient treatment group:\n",
    "\n",
    "| Crab ID    | Library ID | Day| Temperature |\n",
    "|-------------|----------------|-------------|----------|\n",
    "| G        | 272             |   2          |   Elevated       |\n",
    "| H        | 294             |   2          |   Elevated       |\n",
    "| I        | 280             |   2          |   Elevated       |\n",
    "|pooled    | 380825          |   2          |   Elevated       |\n",
    "| G*       | 173*            |   0*         |   Ambient*       |\n",
    "| H*       | 72*             |   0*         |   Ambient*       |\n",
    "| I*       | 127*            |   0*         |   Ambient*       |\n",
    "| A        | 178             |   0          |   Ambient        |\n",
    "| A        | 359             |   2          |   Ambient        |\n",
    "| A        | 463             |   17         |   Ambient        |\n",
    "| B        | 118             |   0          |   Ambient        |\n",
    "| B        | 349             |   2          |   Ambient        |\n",
    "| B        | 481             |   17         |   Ambient        |\n",
    "| C        | 132             |   0          |   Ambient        |\n",
    "| C        | 334             |   2          |   Ambient        |\n",
    "| C        | 485             |   17         |   Ambient        |\n",
    "| E*       | 151*            |   0*         |   Ambient*       |\n",
    "| pooled   | 380821          |   0          |   Ambient        |\n",
    "| E        | 254             |   2          |   Lowered        |\n",
    "| E        | 445             |   17         |   Lowered        |\n",
    "| pooled   | 380823          |   2          |   Lowered        |\n",
    "\n",
    "\n",
    "For the sake of completeness, we will also align libraries from uninfected crabs, as described below:\n",
    "\n",
    "| Crab ID    | Library ID | Day| Temperature |\n",
    "|-------------|----------------|-------------|----------|\n",
    "| D        | 073             |   0          |   Ambient*      |\n",
    "| D        | 221             |   2          |   Lowered       |\n",
    "| D        | 427             |   17         |   Lowered       |\n",
    "| F        | 113             |   0          |   Elevated      |\n",
    "| F        | 222             |   2          |   Lowered       |\n",
    "| F        | 425             |   17         |   Lowered       |\n",
    "| pooled   | 380820          |   0          |   Ambient*      |\n",
    "| pooled   | 380822          |   2          |   Lowered       |\n",
    "| pooled   | 380824          |   0          |   Elevated      |\n"
   ]
  },
  {
   "cell_type": "markdown",
   "metadata": {},
   "source": [
    "Trimmed individual libraries were downloaded from Gannet, available [here](https://gannet.fish.washington.edu/Atumefaciens/20200318_cbai_RNAseq_fastp_trimming/), at 11:00 PSTon 2021-03-08.\n",
    "\n",
    "Trimmed pooled libraries were downloaded from Gannet, available [here](https://gannet.fish.washington.edu/Atumefaciens/20200414_cbai_RNAseq_fastp_trimming/), at 12:00 PST on 2021-03-08\n"
   ]
  },
  {
   "cell_type": "markdown",
   "metadata": {},
   "source": [
    "Transcriptome used is **cbai_transcriptomev4.0**. \n",
    "\n",
    "Link and background info available [here](https://robertslab.github.io/sams-notebook/2021/03/17/Transcriptome-Assembly-C.bairdi-Transcriptome-v4.0-Using-Trinity-on-Mox.html). \n",
    "\n",
    "Direct link to folder with data available [here](https://gannet.fish.washington.edu/Atumefaciens/20210317_cbai_trinity_RNAseq_transcriptome-v4.0/cbai_transcriptome_v4.0.fasta_trinity_out_dir/). \n",
    "\n",
    "Transcriptome md5sum is 6450d6f5650bfb5f910a5f42eef94913\n",
    "\n",
    "Transcriptome was downloaded at 2:00 PST on 2021-03-18\n"
   ]
  },
  {
   "cell_type": "markdown",
   "metadata": {},
   "source": [
    "## Download individual libraries"
   ]
  },
  {
   "cell_type": "markdown",
   "metadata": {},
   "source": [
    "Working on Roadrunner as user afcoyle. Working directory: ~/projects/hemat_bairdi_transcriptome/scripts to start\n",
    "\n",
    "### If you have already ran 11_download_libraries_run_kallisto or 31_download_libraries_run_kallisto, you already downloaded all these same libraries - no need to re-download. Skip to downloading the transcriptome and building the kallisto index"
   ]
  },
  {
   "cell_type": "code",
   "execution_count": null,
   "metadata": {},
   "outputs": [],
   "source": [
    "# Download all files in directory\n",
    "!wget --no-check-certificate --no-parent --recursive --reject \"index.html\" https://gannet.fish.washington.edu/Atumefaciens/20200318_cbai_RNAseq_fastp_trimming/"
   ]
  },
  {
   "cell_type": "code",
   "execution_count": null,
   "metadata": {},
   "outputs": [],
   "source": [
    "# Move into new directory\n",
    "!cd gannet.fish.washington.edu/Atumefaciens/20200318_cbai_RNAseq_fastp_trimming/"
   ]
  },
  {
   "cell_type": "code",
   "execution_count": null,
   "metadata": {},
   "outputs": [],
   "source": [
    "# Remove all files that aren't .fq.gz or .md5\n",
    "!rm *.html\n",
    "!rm *.zip\n",
    "!rm index.html*\n",
    "!rm *.json\n",
    "!rm *.sh\n",
    "!rm *.log\n",
    "!rm *.out\n",
    "!rm *.txt\n",
    "!rm -r multiqc_data*"
   ]
  },
  {
   "cell_type": "code",
   "execution_count": null,
   "metadata": {},
   "outputs": [],
   "source": [
    "# Move files from data/gannet.fish.washington.edu/Atumefaciens/20200318_cbai_RNAseq_fastp_trimming into data/libraries\n",
    "!cd ..\n",
    "!mv 20200318_cbai_RNAseq_fastp_trimming/* ../../../data/libraries/\n",
    "# Delete old directory\n",
    "!cd ../..\n",
    "!rm -r gannet.fish.washington.edu\n",
    "# Move into directory with all libraries\n",
    "cd ../data/libraries/"
   ]
  },
  {
   "cell_type": "code",
   "execution_count": null,
   "metadata": {},
   "outputs": [],
   "source": [
    "# Rename checksum file to clarify it is specific to individual libraries\n",
    "!mv trimmed_fastq_checksums.md5 trimmed_indivfastq_checksums.md5"
   ]
  },
  {
   "cell_type": "code",
   "execution_count": null,
   "metadata": {},
   "outputs": [],
   "source": [
    "# Check that files downloaded properly with checksums\n",
    "!md5sum -c trimmed_indivfastq_checksums.md5"
   ]
  },
  {
   "cell_type": "markdown",
   "metadata": {},
   "source": [
    "## Download pooled libraries\n"
   ]
  },
  {
   "cell_type": "code",
   "execution_count": null,
   "metadata": {},
   "outputs": [],
   "source": [
    "# Move up a directory to keep download simpler\n",
    "!cd .."
   ]
  },
  {
   "cell_type": "code",
   "execution_count": null,
   "metadata": {},
   "outputs": [],
   "source": [
    "# Download all files in directory\n",
    "!wget --no-check-certificate --no-parent --recursive --reject \"index.html\" https://gannet.fish.washington.edu/Atumefaciens/20200414_cbai_RNAseq_fastp_trimming/"
   ]
  },
  {
   "cell_type": "code",
   "execution_count": null,
   "metadata": {},
   "outputs": [],
   "source": [
    "# Move into our new file structure\n",
    "cd gannet.fish.washington.edu/Atumefaciens/20200414_cbai_RNAseq_fastp_trimming"
   ]
  },
  {
   "cell_type": "code",
   "execution_count": null,
   "metadata": {},
   "outputs": [],
   "source": [
    "# Remove all files that aren't .fq.gz or .md5\n",
    "!rm *.html\n",
    "!rm *.zip\n",
    "!rm index.html*\n",
    "!rm *.json\n",
    "!rm *.log\n",
    "!rm *.out\n",
    "!rm *.txt\n",
    "!rm -r multiqc*"
   ]
  },
  {
   "cell_type": "code",
   "execution_count": null,
   "metadata": {},
   "outputs": [],
   "source": [
    "!mv trimmed_fastq_checksums.md5 trimmed_pooledfastq_checksums.md5"
   ]
  },
  {
   "cell_type": "code",
   "execution_count": null,
   "metadata": {},
   "outputs": [],
   "source": [
    "# Check that files downloaded properly with checksums\n",
    "!md5sum -c trimmed_pooledfastq_checksums.md5"
   ]
  },
  {
   "cell_type": "code",
   "execution_count": null,
   "metadata": {},
   "outputs": [],
   "source": [
    "# Move files from data/gannet.fish.washington.edu/Atumefaciens/20200414_cbai_RNAseq_fastp_trimming into data/libraries\n",
    "!cd ..\n",
    "!mv 20200414_cbai_RNAseq_fastp_trimming/* ../../libraries\n",
    "# Delete old directory\n",
    "!cd ../..\n",
    "!rm -r gannet.fish.washington.edu\n",
    "cd libraries"
   ]
  },
  {
   "cell_type": "code",
   "execution_count": null,
   "metadata": {},
   "outputs": [],
   "source": [
    "# Merge libraries by lanes, removing un-merged files\n",
    "!cat 380820_S1_L001_R1_001.fastp-trim.202004143431.fq.gz 380820_S1_L002_R1_001.fastp-trim.202004143700.fq.gz > 380820_S1_R1_001.fastp-trim.fq.gz\n",
    "!cat 380820_S1_L001_R2_001.fastp-trim.202004143431.fq.gz 380820_S1_L002_R2_001.fastp-trim.202004143700.fq.gz > 380820_S1_R2_001.fastp-trim.fq.gz\n",
    "!rm 380820_S1_cL00*\n",
    "!cat 380821_S2_L001_R1_001.fastp-trim.202004143925.fq.gz 380821_S2_L002_R1_001.fastp-trim.202004144145.fq.gz > 380821_S2_R1_001.fastp-trim.fq.gz\n",
    "!cat 380821_S2_L001_R2_001.fastp-trim.202004143925.fq.gz 380821_S2_L002_R2_001.fastp-trim.202004144145.fq.gz > 380821_S2_R2_001.fastp-trim.fq.gz\n",
    "!rm 380821_S2_L00*\n",
    "!cat 380822_S3_L001_R1_001.fastp-trim.202004144409.fq.gz 380822_S3_L002_R1_001.fastp-trim.202004144633.fq.gz > 380822_S3_R1_001.fastp-trim.fq.gz\n",
    "!cat 380822_S3_L001_R2_001.fastp-trim.202004144409.fq.gz 380822_S3_L002_R2_001.fastp-trim.202004144633.fq.gz > 380822_S3_R2_001.fastp-trim.fq.gz\n",
    "!rm 380822_S3_L00*\n",
    "!cat 380823_S4_L001_R1_001.fastp-trim.202004144852.fq.gz 380823_S4_L002_R1_001.fastp-trim.202004145106.fq.gz > 380823_S4_R1_001.fastp-trim.fq.gz\n",
    "!cat 380823_S4_L001_R2_001.fastp-trim.202004144852.fq.gz 380823_S4_L002_R2_001.fastp-trim.202004145106.fq.gz > 380823_S4_R2_001.fastp-trim.fq.gz\n",
    "!rm 380823_S4_L00*\n",
    "!cat 380824_S5_L001_R1_001.fastp-trim.202004145320.fq.gz 380824_S5_L002_R1_001.fastp-trim.202004145558.fq.gz > 380824_S5_R1_001.fastp-trim.fq.gz\n",
    "!cat 380824_S5_L001_R2_001.fastp-trim.202004145320.fq.gz 380824_S5_L002_R2_001.fastp-trim.202004145558.fq.gz > 380824_S5_R2_001.fastp-trim.fq.gz\n",
    "!rm 380824_S5_L00*\n",
    "!cat 380825_S6_L001_R1_001.fastp-trim.202004145835.fq.gz 380825_S6_L002_R1_001.fastp-trim.202004140109.fq.gz > 380825_S6_R1_001.fastp-trim.fq.gz\n",
    "!cat 380825_S6_L001_R2_001.fastp-trim.202004145835.fq.gz 380825_S6_L002_R2_001.fastp-trim.202004140109.fq.gz > 380825_S6_R2_001.fastp-trim.fq.gz\n",
    "!rm 380825_S6_L00*"
   ]
  },
  {
   "cell_type": "markdown",
   "metadata": {},
   "source": [
    "## Download transcriptome\n",
    "Transcriptome is filtered by taxa to only include presumed _C. bairdi_ sequences"
   ]
  },
  {
   "cell_type": "code",
   "execution_count": null,
   "metadata": {},
   "outputs": [],
   "source": [
    "!cd ../transcriptomes\n",
    "# Download transcriptome 4.0\n",
    "!curl -O -k https://gannet.fish.washington.edu/Atumefaciens/20210317_cbai_trinity_RNAseq_transcriptome-v4.0/cbai_transcriptome_v4.0.fasta_trinity_out_dir/cbai_transcriptome_v4.0.fasta\n",
    "# Transcriptome checksum: 6450d6f5650bfb5f910a5f42eef94913\n",
    "!md5sum cbai_transcriptome_v4.0.fasta | grep \"6450d6f5650bfb5f910a5f42eef94913\"\n",
    "# Matches"
   ]
  },
  {
   "cell_type": "markdown",
   "metadata": {},
   "source": [
    "## Create an index for kallisto\n",
    "Warning: if running on local machine, could take days. Ran in much shorter time on Roadrunner.\n",
    "\n",
    "If kallisto is not installed, follow instructions [here](http://pachterlab.github.io/kallisto/download)"
   ]
  },
  {
   "cell_type": "code",
   "execution_count": null,
   "metadata": {},
   "outputs": [],
   "source": [
    "!cd ../../output/kallisto_indices\n",
    "# Index for transcriptome\n",
    "!kallisto index -i kallisto_cbai_index_v4.0.idx ../../data/transcriptomes/cbai_transcriptome_v4.0.fasta\n"
   ]
  },
  {
   "cell_type": "markdown",
   "metadata": {},
   "source": [
    "## Run kallisto quantification for all libraries for Hemat. Transcriptome v1.6, starting with individual libraries\n",
    "Order is same as table at start of script, with all pooled libraries examined last"
   ]
  },
  {
   "cell_type": "code",
   "execution_count": null,
   "metadata": {},
   "outputs": [],
   "source": [
    "# Quantify ID 272\n",
    "kallisto quant \\\n",
    "-i kallisto_cbai_index_v4.0.idx \\\n",
    "-o ../kallisto_libraries_cbai_transcriptomev4.0/id272 \\\n",
    "../../data/libraries/272_R1_001.fastp-trim.202003184536.fq.gz \\\n",
    "../../data/libraries/272_R2_001.fastp-trim.202003184536.fq.gz \\\n",
    "2> ../kallisto_libraries_cbai_transcriptomev4.0/std_errortracking.txt"
   ]
  },
  {
   "cell_type": "code",
   "execution_count": null,
   "metadata": {},
   "outputs": [],
   "source": [
    "# Quantify ID 294\n",
    "!kallisto quant \\\n",
    "-i kallisto_cbai_index_v4.0.idx \\\n",
    "-o ../kallisto_libraries_cbai_transcriptomev4.0/id294 \\\n",
    "../../data/libraries/294_R1_001.fastp-trim.202003180701.fq.gz \\\n",
    "../../data/libraries/294_R2_001.fastp-trim.202003180701.fq.gz \\\n",
    "2>> ../kallisto_libraries_cbai_transcriptomev4.0/std_errortracking.txt"
   ]
  },
  {
   "cell_type": "code",
   "execution_count": null,
   "metadata": {},
   "outputs": [],
   "source": [
    "# Quantify ID 280\n",
    "!kallisto quant \\\n",
    "-i kallisto_cbai_index_v4.0.idx \\\n",
    "-o ../kallisto_libraries_cbai_transcriptomev4.0/id280 \\\n",
    "../../data/libraries/280_R1_001.fastp-trim.202003185124.fq.gz \\\n",
    "../../data/libraries/280_R2_001.fastp-trim.202003185124.fq.gz  \\\n",
    "2>> ../kallisto_libraries_cbai_transcriptomev4.0/std_errortracking.txt"
   ]
  },
  {
   "cell_type": "code",
   "execution_count": null,
   "metadata": {},
   "outputs": [],
   "source": [
    "# Quantify ID 173\n",
    "!kallisto quant \\\n",
    "-i kallisto_cbai_index_v4.0.idx \\\n",
    "-o ../kallisto_libraries_cbai_transcriptomev4.0/id173 \\\n",
    "../../data/libraries/173_R1_001.fastp-trim.202003181159.fq.gz \\\n",
    "../../data/libraries/173_R2_001.fastp-trim.202003181159.fq.gz \\\n",
    "2>> ../kallisto_libraries_cbai_transcriptomev4.0/std_errortracking.txt"
   ]
  },
  {
   "cell_type": "code",
   "execution_count": null,
   "metadata": {},
   "outputs": [],
   "source": [
    "# Quantify ID 072\n",
    "!kallisto quant \\\n",
    "-i kallisto_cbai_index_v4.0.idx \\\n",
    "-o ../kallisto_libraries_cbai_transcriptomev4.0/id072 \\\n",
    "../../data/libraries/72_R1_001.fastp-trim.202003181709.fq.gz \\\n",
    "../../data/libraries/72_R2_001.fastp-trim.202003181709.fq.gz \\\n",
    "2>> ../kallisto_libraries_cbai_transcriptomev4.0/std_errortracking.txt"
   ]
  },
  {
   "cell_type": "code",
   "execution_count": null,
   "metadata": {},
   "outputs": [],
   "source": [
    "# Quantify ID 127\n",
    "!kallisto quant \\\n",
    "-i kallisto_cbai_index_v4.0.idx \\\n",
    "-o ../kallisto_libraries_cbai_transcriptomev4.0/id127 \\\n",
    "../../data/libraries/127_R1_001.fastp-trim.202003185538.fq.gz \\\n",
    "../../data/libraries/127_R2_001.fastp-trim.202003185538.fq.gz \\\n",
    "2>> ../kallisto_libraries_cbai_transcriptomev4.0/std_errortracking.txt"
   ]
  },
  {
   "cell_type": "code",
   "execution_count": null,
   "metadata": {},
   "outputs": [],
   "source": [
    "# Quantify ID 178\n",
    "!kallisto quant \\\n",
    "-i kallisto_cbai_index_v4.0.idx \\\n",
    "-o ../kallisto_libraries_cbai_transcriptomev4.0/id178 \\\n",
    "../../data/libraries/178_R1_001.fastp-trim.202003181815.fq.gz \\\n",
    "../../data/libraries/178_R2_001.fastp-trim.202003181815.fq.gz \\\n",
    "2>> ../kallisto_libraries_cbai_transcriptomev4.0/std_errortracking.txt"
   ]
  },
  {
   "cell_type": "code",
   "execution_count": null,
   "metadata": {},
   "outputs": [],
   "source": [
    "# Quantify ID 359\n",
    "!kallisto quant \\\n",
    "-i kallisto_cbai_index_v4.0.idx \\\n",
    "-o ../kallisto_libraries_cbai_transcriptomev4.0/id359 \\\n",
    "../../data/libraries/359_R1_001.fastp-trim.202003182247.fq.gz \\\n",
    "../../data/libraries/359_R2_001.fastp-trim.202003182247.fq.gz \\\n",
    "2>> ../kallisto_libraries_cbai_transcriptomev4.0/std_errortracking.txt"
   ]
  },
  {
   "cell_type": "code",
   "execution_count": null,
   "metadata": {},
   "outputs": [],
   "source": [
    "# Quantify ID 463\n",
    "!kallisto quant \\\n",
    "-i kallisto_cbai_index_v4.0.idx \\\n",
    "-o ../kallisto_libraries_cbai_transcriptomev4.0/id463 \\\n",
    "../../data/libraries/463_R1_001.fastp-trim.202003185732.fq.gz \\\n",
    "../../data/libraries/463_R2_001.fastp-trim.202003185732.fq.gz \\\n",
    "2>> ../kallisto_libraries_cbai_transcriptomev4.0/std_errortracking.txt"
   ]
  },
  {
   "cell_type": "code",
   "execution_count": null,
   "metadata": {},
   "outputs": [],
   "source": [
    "# Quantify ID 118\n",
    "!kallisto quant \\\n",
    "-i kallisto_cbai_index_v4.0.idx \\\n",
    "-o ../kallisto_libraries_cbai_transcriptomev4.0/id118 \\\n",
    "../../data/libraries/118_R1_001.fastp-trim.202003184931.fq.gz \\\n",
    "../../data/libraries/118_R2_001.fastp-trim.202003184931.fq.gz \\\n",
    "2>> ../kallisto_libraries_cbai_transcriptomev4.0/std_errortracking.txt"
   ]
  },
  {
   "cell_type": "code",
   "execution_count": null,
   "metadata": {},
   "outputs": [],
   "source": [
    "# Quantify ID 349\n",
    "!kallisto quant \\\n",
    "-i kallisto_cbai_index_v4.0.idx \\\n",
    "-o ../kallisto_libraries_cbai_transcriptomev4.0/id349 \\\n",
    "../../data/libraries/349_R1_001.fastp-trim.202003181609.fq.gz \\\n",
    "../../data/libraries/349_R2_001.fastp-trim.202003181609.fq.gz \\\n",
    "2>> ../kallisto_libraries_cbai_transcriptomev4.0/std_errortracking.txt"
   ]
  },
  {
   "cell_type": "code",
   "execution_count": null,
   "metadata": {},
   "outputs": [],
   "source": [
    "# Quantify ID 481\n",
    "!kallisto quant \\\n",
    "-i kallisto_cbai_index_v4.0.idx \\\n",
    "-o ../kallisto_libraries_cbai_transcriptomev4.0/id481 \\\n",
    "../../data/libraries/481_R1_001.fastp-trim.202003180047.fq.gz \\\n",
    "../../data/libraries/481_R2_001.fastp-trim.202003180047.fq.gz \\\n",
    "2>> ../kallisto_libraries_cbai_transcriptomev4.0/std_errortracking.txt"
   ]
  },
  {
   "cell_type": "code",
   "execution_count": null,
   "metadata": {},
   "outputs": [],
   "source": [
    "# Quantify ID 132\n",
    "!kallisto quant \\\n",
    "-i kallisto_cbai_index_v4.0.idx \\\n",
    "-o ../kallisto_libraries_cbai_transcriptomev4.0/id132 \\\n",
    "../../data/libraries/132_R1_001.fastp-trim.202003180140.fq.gz \\\n",
    "../../data/libraries/132_R2_001.fastp-trim.202003180140.fq.gz \\\n",
    "2>> ../kallisto_libraries_cbai_transcriptomev4.0/std_errortracking.txt"
   ]
  },
  {
   "cell_type": "code",
   "execution_count": null,
   "metadata": {},
   "outputs": [],
   "source": [
    "# Quantify ID 334\n",
    "!kallisto quant \\\n",
    "-i kallisto_cbai_index_v4.0.idx \\\n",
    "-o ../kallisto_libraries_cbai_transcriptomev4.0/id334 \\\n",
    "../../data/libraries/334_R1_001.fastp-trim.202003181149.fq.gz \\\n",
    "../../data/libraries/334_R2_001.fastp-trim.202003181149.fq.gz \\\n",
    "2>> ../kallisto_libraries_cbai_transcriptomev4.0/std_errortracking.txt"
   ]
  },
  {
   "cell_type": "code",
   "execution_count": null,
   "metadata": {},
   "outputs": [],
   "source": [
    "# Quantify ID 485\n",
    "!kallisto quant \\\n",
    "-i kallisto_cbai_index_v4.0.idx \\\n",
    "-o ../kallisto_libraries_cbai_transcriptomev4.0/id485 \\\n",
    "../../data/libraries/485_R1_001.fastp-trim.202003181245.fq.gz \\\n",
    "../../data/libraries/485_R2_001.fastp-trim.202003181245.fq.gz \\\n",
    "2>> ../kallisto_libraries_cbai_transcriptomev4.0/std_errortracking.txt"
   ]
  },
  {
   "cell_type": "code",
   "execution_count": null,
   "metadata": {},
   "outputs": [],
   "source": [
    "# Quantify ID 151\n",
    "!kallisto quant \\\n",
    "-i kallisto_cbai_index_v4.0.idx \\\n",
    "-o ../kallisto_libraries_cbai_transcriptomev4.0/id151 \\\n",
    "../../data/libraries/151_R1_001.fastp-trim.202003180619.fq.gz \\\n",
    "../../data/libraries/151_R2_001.fastp-trim.202003180619.fq.gz \\\n",
    "2>> ../kallisto_libraries_cbai_transcriptomev4.0/std_errortracking.txt"
   ]
  },
  {
   "cell_type": "code",
   "execution_count": null,
   "metadata": {},
   "outputs": [],
   "source": [
    "# Quantify ID 254\n",
    "!kallisto quant \\\n",
    "-i kallisto_cbai_index_v4.0.idx \\\n",
    "-o ../kallisto_libraries_cbai_transcriptomev4.0/id254 \\\n",
    "../../data/libraries/254_R1_001.fastp-trim.202003184228.fq.gz \\\n",
    "../../data/libraries/254_R2_001.fastp-trim.202003184228.fq.gz \\\n",
    "2>> ../kallisto_libraries_cbai_transcriptomev4.0/std_errortracking.txt"
   ]
  },
  {
   "cell_type": "code",
   "execution_count": null,
   "metadata": {},
   "outputs": [],
   "source": [
    "# Quantify ID 445\n",
    "!kallisto quant \\\n",
    "-i kallisto_cbai_index_v4.0.idx \\\n",
    "-o ../kallisto_libraries_cbai_transcriptomev4.0/id445 \\\n",
    "../../data/libraries/445_R1_001.fastp-trim.202003185018.fq.gz \\\n",
    "../../data/libraries/445_R2_001.fastp-trim.202003185018.fq.gz \\\n",
    "2>> ../kallisto_libraries_cbai_transcriptomev4.0/std_errortracking.txt"
   ]
  },
  {
   "cell_type": "markdown",
   "metadata": {},
   "source": [
    "Continue with building libraries for individual libraries of uninfected crab"
   ]
  },
  {
   "cell_type": "code",
   "execution_count": null,
   "metadata": {},
   "outputs": [],
   "source": [
    "# Quantify ID 073\n",
    "!kallisto quant \\\n",
    "-i kallisto_cbai_index_v4.0.idx \\\n",
    "-o ../kallisto_libraries_cbai_transcriptomev4.0/id073 \\\n",
    "../../data/libraries/73_R1_001.fastp-trim.202003182229.fq.gz \\\n",
    "../../data/libraries/73_R2_001.fastp-trim.202003182229.fq.gz \\\n",
    "2>> ../kallisto_libraries_cbai_transcriptomev4.0/std_errortracking.txt"
   ]
  },
  {
   "cell_type": "code",
   "execution_count": null,
   "metadata": {},
   "outputs": [],
   "source": [
    "# Quantify ID 221\n",
    "!kallisto quant \\\n",
    "-i kallisto_cbai_index_v4.0.idx \\\n",
    "-o ../kallisto_libraries_cbai_transcriptomev4.0/id221 \\\n",
    "../../data/libraries/221_R1_001.fastp-trim.202003182309.fq.gz \\\n",
    "../../data/libraries/221_R2_001.fastp-trim.202003182309.fq.gz \\\n",
    "2>> ../kallisto_libraries_cbai_transcriptomev4.0/std_errortracking.txt"
   ]
  },
  {
   "cell_type": "code",
   "execution_count": null,
   "metadata": {},
   "outputs": [],
   "source": [
    "# Quantify ID 427\n",
    "!kallisto quant \\\n",
    "-i kallisto_cbai_index_v4.0.idx \\\n",
    "-o ../kallisto_libraries_cbai_transcriptomev4.0/id427 \\\n",
    "../../data/libraries/427_R1_001.fastp-trim.202003184618.fq.gz \\\n",
    "../../data/libraries/427_R2_001.fastp-trim.202003184618.fq.gz \\\n",
    "2>> ../kallisto_libraries_cbai_transcriptomev4.0/std_errortracking.txt"
   ]
  },
  {
   "cell_type": "code",
   "execution_count": null,
   "metadata": {},
   "outputs": [],
   "source": [
    "# Quantify ID 113\n",
    "!kallisto quant \\\n",
    "-i kallisto_cbai_index_v4.0.idx \\\n",
    "-o ../kallisto_libraries_cbai_transcriptomev4.0/id113 \\\n",
    "../../data/libraries/113_R1_001.fastp-trim.202003184225.fq.gz \\\n",
    "../../data/libraries/113_R2_001.fastp-trim.202003184225.fq.gz \\\n",
    "2>> ../kallisto_libraries_cbai_transcriptomev4.0/std_errortracking.txt"
   ]
  },
  {
   "cell_type": "code",
   "execution_count": null,
   "metadata": {},
   "outputs": [],
   "source": [
    "# Quantify ID 222\n",
    "!kallisto quant \\\n",
    "-i kallisto_cbai_index_v4.0.idx \\\n",
    "-o ../kallisto_libraries_cbai_transcriptomev4.0/id222 \\\n",
    "../../data/libraries/222_R1_001.fastp-trim.202003182800.fq.gz \\\n",
    "../../data/libraries/222_R2_001.fastp-trim.202003182800.fq.gz \\\n",
    "2>> ../kallisto_libraries_cbai_transcriptomev4.0/std_errortracking.txt"
   ]
  },
  {
   "cell_type": "code",
   "execution_count": null,
   "metadata": {},
   "outputs": [],
   "source": [
    "# Quantify ID 425\n",
    "!kallisto quant \\\n",
    "-i kallisto_cbai_index_v4.0.idx \\\n",
    "-o ../kallisto_libraries_cbai_transcriptomev4.0/id425 \\\n",
    "../../data/libraries/425_R1_001.fastp-trim.202003182722.fq.gz \\\n",
    "../../data/libraries/425_R2_001.fastp-trim.202003182722.fq.gz \\\n",
    "2>> ../kallisto_libraries_cbai_transcriptomev4.0/std_errortracking.txt"
   ]
  },
  {
   "cell_type": "markdown",
   "metadata": {},
   "source": [
    "Continue with building libraries for pooled samples of infected crab"
   ]
  },
  {
   "cell_type": "code",
   "execution_count": null,
   "metadata": {},
   "outputs": [],
   "source": [
    "# Quantify 380821\n",
    "!kallisto quant \\\n",
    "-i kallisto_cbai_index_v4.0.idx \\\n",
    "-o ../kallisto_libraries_cbai_transcriptomev4.0/id380821 \\\n",
    "../../data/libraries/380821_S2_R1_001.fastp-trim.fq.gz \\\n",
    "../../data/libraries/380821_S2_R2_001.fastp-trim.fq.gz \\\n",
    "2>> ../kallisto_libraries_cbai_transcriptomev4.0/std_errortracking.txt"
   ]
  },
  {
   "cell_type": "code",
   "execution_count": null,
   "metadata": {},
   "outputs": [],
   "source": [
    "# Quantify 380823\n",
    "!kallisto quant \\\n",
    "-i kallisto_cbai_index_v4.0.idx \\\n",
    "-o ../kallisto_libraries_cbai_transcriptomev4.0/id380823 \\\n",
    "../../data/libraries/380823_S4_R1_001.fastp-trim.fq.gz \\\n",
    "../../data/libraries/380823_S4_R2_001.fastp-trim.fq.gz \\\n",
    "2>> ../kallisto_libraries_cbai_transcriptomev4.0/std_errortracking.txt"
   ]
  },
  {
   "cell_type": "code",
   "execution_count": null,
   "metadata": {},
   "outputs": [],
   "source": [
    "# Quantify 380825\n",
    "!kallisto quant \\\n",
    "-i kallisto_cbai_index_v4.0.idx \\\n",
    "-o ../kallisto_libraries_cbai_transcriptomev4.0/id380825 \\\n",
    "../../data/libraries/380825_S6_R1_001.fastp-trim.fq.gz \\\n",
    "../../data/libraries/380825_S6_R2_001.fastp-trim.fq.gz \\\n",
    "2>> ../kallisto_libraries_cbai_transcriptomev4.0/std_errortracking.txt"
   ]
  },
  {
   "cell_type": "markdown",
   "metadata": {},
   "source": [
    "Continue with building libraries for pooled samples of uninfected crab"
   ]
  },
  {
   "cell_type": "code",
   "execution_count": null,
   "metadata": {},
   "outputs": [],
   "source": [
    "# Quantify 380820\n",
    "!kallisto quant \\\n",
    "-i kallisto_cbai_index_v4.0.idx \\\n",
    "-o ../kallisto_libraries_cbai_transcriptomev4.0/id380820 \\\n",
    "../../data/libraries/380820_S1_R1_001.fastp-trim.fq.gz \\\n",
    "../../data/libraries/380820_S1_R2_001.fastp-trim.fq.gz \\\n",
    "2>> ../kallisto_libraries_cbai_transcriptomev4.0/std_errortracking.txt"
   ]
  },
  {
   "cell_type": "code",
   "execution_count": null,
   "metadata": {},
   "outputs": [],
   "source": [
    "# Quantify 380822\n",
    "!kallisto quant \\\n",
    "-i kallisto_cbai_index_v4.0.idx \\\n",
    "-o ../kallisto_libraries_cbai_transcriptomev4.0/id380822 \\\n",
    "../../data/libraries/380822_S3_R1_001.fastp-trim.fq.gz \\\n",
    "../../data/libraries/380822_S3_R2_001.fastp-trim.fq.gz \\\n",
    "2>> ../kallisto_libraries_cbai_transcriptomev4.0/std_errortracking.txt"
   ]
  },
  {
   "cell_type": "code",
   "execution_count": null,
   "metadata": {},
   "outputs": [],
   "source": [
    "# Quantify 380824\n",
    "!kallisto quant \\\n",
    "-i kallisto_cbai_index_v4.0.idx \\\n",
    "-o ../kallisto_libraries_cbai_transcriptomev4.0/id380824 \\\n",
    "../../data/libraries/380824_S5_R1_001.fastp-trim.fq.gz \\\n",
    "../../data/libraries/380824_S5_R2_001.fastp-trim.fq.gz \\\n",
    "2>> ../kallisto_libraries_cbai_transcriptomev4.0/std_errortracking.txt"
   ]
  },
  {
   "cell_type": "code",
   "execution_count": null,
   "metadata": {},
   "outputs": [],
   "source": [
    "!cd ../kallisto_libraries_cbai_transcriptomev4.0/"
   ]
  },
  {
   "cell_type": "code",
   "execution_count": null,
   "metadata": {},
   "outputs": [],
   "source": [
    "# Create file of checksums for std error file and all subdirectories. This only goes one level down, but that's all we need\n",
    "!md5sum * */* > checksums.md5"
   ]
  },
  {
   "cell_type": "markdown",
   "metadata": {},
   "source": [
    "## Move kallisto libraries to local machine\n",
    "\n",
    "Commands from here are ran on local machine unless otherwise specified"
   ]
  },
  {
   "cell_type": "code",
   "execution_count": 1,
   "metadata": {},
   "outputs": [
    {
     "name": "stdout",
     "output_type": "stream",
     "text": [
      "/mnt/c/Users/acoyl/Documents/GitHub/hemat_bairdi_transcriptome/scripts\n"
     ]
    }
   ],
   "source": [
    "!pwd"
   ]
  },
  {
   "cell_type": "code",
   "execution_count": null,
   "metadata": {},
   "outputs": [],
   "source": [
    "# Download files from remote machine to local directory. Run this on command line directly, as interactivity is needed\n",
    "!rsync -chavzP --stats \\\n",
    "afcoyle@roadrunner.fish.washington.edu:/home/afcoyle/projects/hemat_bairdi_transcriptome/output/kallisto_libraries_cbai_transcriptomev4.0/* \\\n",
    "/mnt/c/Users/acoyl/Documents/GitHub/hemat_bairdi_transcriptome/output/kallisto_libraries/cbai_transcriptomev4.0/"
   ]
  },
  {
   "cell_type": "code",
   "execution_count": 5,
   "metadata": {},
   "outputs": [
    {
     "name": "stdout",
     "output_type": "stream",
     "text": [
      "/mnt/c/Users/acoyl/Documents/GitHub/hemat_bairdi_transcriptome/output/kallisto_libraries/cbai_transcriptomev4.0\n"
     ]
    }
   ],
   "source": [
    "# Move into directory with new files to check rsync worked properly\n",
    "# Note: use %cd because !cd doesn't work in Jupyter notebook as it's run in temporary subshell\n",
    "%cd ../output/kallisto_libraries/cbai_transcriptomev4.0/"
   ]
  },
  {
   "cell_type": "code",
   "execution_count": 7,
   "metadata": {},
   "outputs": [
    {
     "name": "stdout",
     "output_type": "stream",
     "text": [
      "std_errortracking.txt: OK\n",
      "id072/abundance.h5: OK\n",
      "id072/abundance.tsv: OK\n",
      "id072/run_info.json: OK\n",
      "id118/abundance.h5: OK\n",
      "id118/abundance.tsv: OK\n",
      "id118/run_info.json: OK\n",
      "id127/abundance.h5: OK\n",
      "id127/abundance.tsv: OK\n",
      "id127/run_info.json: OK\n",
      "id132/abundance.h5: OK\n",
      "id132/abundance.tsv: OK\n",
      "id132/run_info.json: OK\n",
      "id151/abundance.h5: OK\n",
      "id151/abundance.tsv: OK\n",
      "id151/run_info.json: OK\n",
      "id173/abundance.h5: OK\n",
      "id173/abundance.tsv: OK\n",
      "id173/run_info.json: OK\n",
      "id178/abundance.h5: OK\n",
      "id178/abundance.tsv: OK\n",
      "id178/run_info.json: OK\n",
      "id254/abundance.h5: OK\n",
      "id254/abundance.tsv: OK\n",
      "id254/run_info.json: OK\n",
      "id272/abundance.h5: OK\n",
      "id272/abundance.tsv: OK\n",
      "id272/run_info.json: OK\n",
      "id280/abundance.h5: OK\n",
      "id280/abundance.tsv: OK\n",
      "id280/run_info.json: OK\n",
      "id294/abundance.h5: OK\n",
      "id294/abundance.tsv: OK\n",
      "id294/run_info.json: OK\n",
      "id334/abundance.h5: OK\n",
      "id334/abundance.tsv: OK\n",
      "id334/run_info.json: OK\n",
      "id349/abundance.h5: OK\n",
      "id349/abundance.tsv: OK\n",
      "id349/run_info.json: OK\n",
      "id359/abundance.h5: OK\n",
      "id359/abundance.tsv: OK\n",
      "id359/run_info.json: OK\n",
      "id380821/abundance.h5: OK\n",
      "id380821/abundance.tsv: OK\n",
      "id380821/run_info.json: OK\n",
      "id380823/abundance.h5: OK\n",
      "id380823/abundance.tsv: OK\n",
      "id380823/run_info.json: OK\n",
      "id380825/abundance.h5: OK\n",
      "id380825/abundance.tsv: OK\n",
      "id380825/run_info.json: OK\n",
      "id445/abundance.h5: OK\n",
      "id445/abundance.tsv: OK\n",
      "id445/run_info.json: OK\n",
      "id463/abundance.h5: OK\n",
      "id463/abundance.tsv: OK\n",
      "id463/run_info.json: OK\n",
      "id481/abundance.h5: OK\n",
      "id481/abundance.tsv: OK\n",
      "id481/run_info.json: OK\n",
      "id485/abundance.h5: OK\n",
      "id485/abundance.tsv: OK\n",
      "id485/run_info.json: OK\n"
     ]
    }
   ],
   "source": [
    "!md5sum --check checksums.md5"
   ]
  },
  {
   "cell_type": "code",
   "execution_count": 9,
   "metadata": {},
   "outputs": [
    {
     "name": "stdout",
     "output_type": "stream",
     "text": [
      "/mnt/c/Users/acoyl/Documents/GitHub/hemat_bairdi_transcriptome/scripts\n"
     ]
    }
   ],
   "source": [
    "# Move back into our scripts directory\n",
    "%cd ../../../scripts/"
   ]
  },
  {
   "cell_type": "markdown",
   "metadata": {},
   "source": [
    "## Begin building transcript expression matrices\n",
    "Again, we are using hemat_transcriptomev1.6, which only includes sequences whose taxa matched to Alveolata"
   ]
  },
  {
   "cell_type": "markdown",
   "metadata": {},
   "source": [
    "Now working on local machine. Build matrices to compare Day 0/2 ambient-temperature crabs vs. Day 2 elevated-temperature crabs\n",
    "\n",
    "#### This utilizes a perl script from the Trinity pipeline, available [here](https://github.com/trinityrnaseq/trinityrnaseq/wiki/Trinity-Transcript-Quantification)\n",
    "\n",
    "It'll throw an error like `Error, cmd: R --no-save --no-restore --no-site-file --no-init-file -q < kallisto.isoform.TPM.not_cross_norm.runTMM.R 1>&2  died with ret (32512)  at /mnt/c/Users/acoyl/Documents/GradSchool/RobertsLab/Tools/Trinity/trinityrnaseq-v2.11.0/util/support_scripts/run_TMM_scale_matrix.pl line 105.\n",
    "Error, CMD: /mnt/c/Users/acoyl/Documents/GradSchool/RobertsLab/Tools/Trinity/trinityrnaseq-v2.11.0/util/support_scripts/run_TMM_scale_matrix.pl --matrix kallisto.isoform.TPM.not_cross_norm > kallisto.isoform.TMM.EXPR.matrix died with ret 6400 at ../../../GradSchool/RobertsLab/Tools/Trinity/trinityrnaseq-v2.11.0/util/abundance_estimates_to_matrix.pl line 385.\n",
    "`\n",
    "\n",
    "But that's totally fine - the script should have already given us the matrix we need"
   ]
  },
  {
   "cell_type": "code",
   "execution_count": 10,
   "metadata": {},
   "outputs": [
    {
     "name": "stdout",
     "output_type": "stream",
     "text": [
      "/mnt/c/Users/acoyl/Documents/GitHub/hemat_bairdi_transcriptome/scripts\n"
     ]
    }
   ],
   "source": [
    "!pwd"
   ]
  },
  {
   "cell_type": "markdown",
   "metadata": {},
   "source": [
    "#### Elevated Day 0 vs. Elevated Day 2, individual libraries only\n",
    "\n",
    "Build a matrix to compare infected individual Elevated libraries from Day 0 with individual Elevated libraries from Day 2. Reminder: Day 0 samples were taken when all crabs were held at ambient-temperature waters, and the same crabs were sampled on Day 0 and Day 2.\n",
    "\n",
    "Effectively, this compares the same infected crab prior to exposure to elevated temps and post-exposure."
   ]
  },
  {
   "cell_type": "code",
   "execution_count": 11,
   "metadata": {},
   "outputs": [
    {
     "name": "stdout",
     "output_type": "stream",
     "text": [
      "-reading file: ../output/kallisto_libraries/cbai_transcriptomev4.0/id173/abundance.tsv\n",
      "-reading file: ../output/kallisto_libraries/cbai_transcriptomev4.0/id072/abundance.tsv\n",
      "-reading file: ../output/kallisto_libraries/cbai_transcriptomev4.0/id127/abundance.tsv\n",
      "-reading file: ../output/kallisto_libraries/cbai_transcriptomev4.0/id272/abundance.tsv\n",
      "-reading file: ../output/kallisto_libraries/cbai_transcriptomev4.0/id294/abundance.tsv\n",
      "-reading file: ../output/kallisto_libraries/cbai_transcriptomev4.0/id280/abundance.tsv\n",
      "\n",
      "\n",
      "* Outputting combined matrix.\n",
      "\n",
      "/mnt/c/Users/acoyl/Documents/GradSchool/RobertsLab/Tools/Trinity/trinityrnaseq-v2.11.0/util/support_scripts/run_TMM_scale_matrix.pl --matrix kallisto.isoform.TPM.not_cross_norm > kallisto.isoform.TMM.EXPR.matrixCMD: R --no-save --no-restore --no-site-file --no-init-file -q < kallisto.isoform.TPM.not_cross_norm.runTMM.R 1>&2 \n",
      "/mnt/c/Users/acoyl/Downloads/anaconda3/lib/R/bin/exec/R: error while loading shared libraries: libreadline.so.6: cannot open shared object file: No such file or directory\n",
      "Error, cmd: R --no-save --no-restore --no-site-file --no-init-file -q < kallisto.isoform.TPM.not_cross_norm.runTMM.R 1>&2  died with ret (32512)  at /mnt/c/Users/acoyl/Documents/GradSchool/RobertsLab/Tools/Trinity/trinityrnaseq-v2.11.0/util/support_scripts/run_TMM_scale_matrix.pl line 105.\n",
      "Error, CMD: /mnt/c/Users/acoyl/Documents/GradSchool/RobertsLab/Tools/Trinity/trinityrnaseq-v2.11.0/util/support_scripts/run_TMM_scale_matrix.pl --matrix kallisto.isoform.TPM.not_cross_norm > kallisto.isoform.TMM.EXPR.matrix died with ret 6400 at ../../../GradSchool/RobertsLab/Tools/Trinity/trinityrnaseq-v2.11.0/util/abundance_estimates_to_matrix.pl line 385.\n"
     ]
    }
   ],
   "source": [
    "# Use the perl script from Trinity to create matrix. Output will appear to have errors, but runs just fine for our purposes - all we need is the kallisto.isoform.counts.matrix file\n",
    "!../../../GradSchool/RobertsLab/Tools/Trinity/trinityrnaseq-v2.11.0/util/abundance_estimates_to_matrix.pl \\\n",
    "--est_method kallisto \\\n",
    "--gene_trans_map 'none' \\\n",
    "--out_prefix kallisto \\\n",
    "--name_sample_by_basedir \\\n",
    "../output/kallisto_libraries/cbai_transcriptomev4.0/id173/abundance.tsv \\\n",
    "../output/kallisto_libraries/cbai_transcriptomev4.0/id072/abundance.tsv \\\n",
    "../output/kallisto_libraries/cbai_transcriptomev4.0/id127/abundance.tsv \\\n",
    "../output/kallisto_libraries/cbai_transcriptomev4.0/id272/abundance.tsv \\\n",
    "../output/kallisto_libraries/cbai_transcriptomev4.0/id294/abundance.tsv \\\n",
    "../output/kallisto_libraries/cbai_transcriptomev4.0/id280/abundance.tsv"
   ]
  },
  {
   "cell_type": "code",
   "execution_count": 12,
   "metadata": {},
   "outputs": [],
   "source": [
    "# Since the script outputs files in the working directory without an \n",
    "# option to change output dir, move all output over manually\n",
    "!mv kallisto.isoform.* ../output/kallisto_matrices/cbai_transcriptomev4.0/elev0_vs_elev2_indiv/"
   ]
  },
  {
   "cell_type": "markdown",
   "metadata": {},
   "source": [
    "#### Lowered Day 0 vs. Lowered Day 2"
   ]
  },
  {
   "cell_type": "code",
   "execution_count": 1,
   "metadata": {},
   "outputs": [
    {
     "name": "stdout",
     "output_type": "stream",
     "text": [
      "-reading file: ../output/kallisto_libraries/cbai_transcriptomev4.0/id073/abundance.tsv\n",
      "-reading file: ../output/kallisto_libraries/cbai_transcriptomev4.0/id151/abundance.tsv\n",
      "-reading file: ../output/kallisto_libraries/cbai_transcriptomev4.0/id113/abundance.tsv\n",
      "-reading file: ../output/kallisto_libraries/cbai_transcriptomev4.0/id221/abundance.tsv\n",
      "-reading file: ../output/kallisto_libraries/cbai_transcriptomev4.0/id254/abundance.tsv\n",
      "-reading file: ../output/kallisto_libraries/cbai_transcriptomev4.0/id222/abundance.tsv\n",
      "\n",
      "\n",
      "* Outputting combined matrix.\n",
      "\n",
      "/mnt/c/Users/acoyl/Documents/GradSchool/RobertsLab/Tools/Trinity/trinityrnaseq-v2.11.0/util/support_scripts/run_TMM_scale_matrix.pl --matrix kallisto.isoform.TPM.not_cross_norm > kallisto.isoform.TMM.EXPR.matrixCMD: R --no-save --no-restore --no-site-file --no-init-file -q < kallisto.isoform.TPM.not_cross_norm.runTMM.R 1>&2 \n",
      "/mnt/c/Users/acoyl/Downloads/anaconda3/lib/R/bin/exec/R: error while loading shared libraries: libreadline.so.6: cannot open shared object file: No such file or directory\n",
      "Error, cmd: R --no-save --no-restore --no-site-file --no-init-file -q < kallisto.isoform.TPM.not_cross_norm.runTMM.R 1>&2  died with ret (32512)  at /mnt/c/Users/acoyl/Documents/GradSchool/RobertsLab/Tools/Trinity/trinityrnaseq-v2.11.0/util/support_scripts/run_TMM_scale_matrix.pl line 105.\n",
      "Error, CMD: /mnt/c/Users/acoyl/Documents/GradSchool/RobertsLab/Tools/Trinity/trinityrnaseq-v2.11.0/util/support_scripts/run_TMM_scale_matrix.pl --matrix kallisto.isoform.TPM.not_cross_norm > kallisto.isoform.TMM.EXPR.matrix died with ret 6400 at ../../../GradSchool/RobertsLab/Tools/Trinity/trinityrnaseq-v2.11.0/util/abundance_estimates_to_matrix.pl line 385.\n"
     ]
    }
   ],
   "source": [
    "!../../../GradSchool/RobertsLab/Tools/Trinity/trinityrnaseq-v2.11.0/util/abundance_estimates_to_matrix.pl \\\n",
    "--est_method kallisto \\\n",
    "--gene_trans_map 'none' \\\n",
    "--out_prefix kallisto \\\n",
    "--name_sample_by_basedir \\\n",
    "../output/kallisto_libraries/cbai_transcriptomev4.0/id073/abundance.tsv \\\n",
    "../output/kallisto_libraries/cbai_transcriptomev4.0/id151/abundance.tsv \\\n",
    "../output/kallisto_libraries/cbai_transcriptomev4.0/id113/abundance.tsv \\\n",
    "../output/kallisto_libraries/cbai_transcriptomev4.0/id221/abundance.tsv \\\n",
    "../output/kallisto_libraries/cbai_transcriptomev4.0/id254/abundance.tsv \\\n",
    "../output/kallisto_libraries/cbai_transcriptomev4.0/id222/abundance.tsv"
   ]
  },
  {
   "cell_type": "code",
   "execution_count": 2,
   "metadata": {},
   "outputs": [],
   "source": [
    "# Since the script outputs files in the working directory without an \n",
    "# option to change output dir, move all output over manually\n",
    "!mv kallisto.isoform.* ../output/kallisto_matrices/cbai_transcriptomev4.0/low0_vs_low2_indiv/"
   ]
  },
  {
   "cell_type": "markdown",
   "metadata": {},
   "source": [
    "#### Lowered Day 0 vs. Lowered Day 2 + 17"
   ]
  },
  {
   "cell_type": "code",
   "execution_count": 3,
   "metadata": {},
   "outputs": [
    {
     "name": "stdout",
     "output_type": "stream",
     "text": [
      "-reading file: ../output/kallisto_libraries/cbai_transcriptomev4.0/id073/abundance.tsv\n",
      "-reading file: ../output/kallisto_libraries/cbai_transcriptomev4.0/id151/abundance.tsv\n",
      "-reading file: ../output/kallisto_libraries/cbai_transcriptomev4.0/id113/abundance.tsv\n",
      "-reading file: ../output/kallisto_libraries/cbai_transcriptomev4.0/id221/abundance.tsv\n",
      "-reading file: ../output/kallisto_libraries/cbai_transcriptomev4.0/id254/abundance.tsv\n",
      "-reading file: ../output/kallisto_libraries/cbai_transcriptomev4.0/id222/abundance.tsv\n",
      "-reading file: ../output/kallisto_libraries/cbai_transcriptomev4.0/id427/abundance.tsv\n",
      "-reading file: ../output/kallisto_libraries/cbai_transcriptomev4.0/id445/abundance.tsv\n",
      "-reading file: ../output/kallisto_libraries/cbai_transcriptomev4.0/id425/abundance.tsv\n",
      "\n",
      "\n",
      "* Outputting combined matrix.\n",
      "\n",
      "/mnt/c/Users/acoyl/Documents/GradSchool/RobertsLab/Tools/Trinity/trinityrnaseq-v2.11.0/util/support_scripts/run_TMM_scale_matrix.pl --matrix kallisto.isoform.TPM.not_cross_norm > kallisto.isoform.TMM.EXPR.matrixCMD: R --no-save --no-restore --no-site-file --no-init-file -q < kallisto.isoform.TPM.not_cross_norm.runTMM.R 1>&2 \n",
      "/mnt/c/Users/acoyl/Downloads/anaconda3/lib/R/bin/exec/R: error while loading shared libraries: libreadline.so.6: cannot open shared object file: No such file or directory\n",
      "Error, cmd: R --no-save --no-restore --no-site-file --no-init-file -q < kallisto.isoform.TPM.not_cross_norm.runTMM.R 1>&2  died with ret (32512)  at /mnt/c/Users/acoyl/Documents/GradSchool/RobertsLab/Tools/Trinity/trinityrnaseq-v2.11.0/util/support_scripts/run_TMM_scale_matrix.pl line 105.\n",
      "Error, CMD: /mnt/c/Users/acoyl/Documents/GradSchool/RobertsLab/Tools/Trinity/trinityrnaseq-v2.11.0/util/support_scripts/run_TMM_scale_matrix.pl --matrix kallisto.isoform.TPM.not_cross_norm > kallisto.isoform.TMM.EXPR.matrix died with ret 6400 at ../../../GradSchool/RobertsLab/Tools/Trinity/trinityrnaseq-v2.11.0/util/abundance_estimates_to_matrix.pl line 385.\n"
     ]
    }
   ],
   "source": [
    "!../../../GradSchool/RobertsLab/Tools/Trinity/trinityrnaseq-v2.11.0/util/abundance_estimates_to_matrix.pl \\\n",
    "--est_method kallisto \\\n",
    "--gene_trans_map 'none' \\\n",
    "--out_prefix kallisto \\\n",
    "--name_sample_by_basedir \\\n",
    "../output/kallisto_libraries/cbai_transcriptomev4.0/id073/abundance.tsv \\\n",
    "../output/kallisto_libraries/cbai_transcriptomev4.0/id151/abundance.tsv \\\n",
    "../output/kallisto_libraries/cbai_transcriptomev4.0/id113/abundance.tsv \\\n",
    "../output/kallisto_libraries/cbai_transcriptomev4.0/id221/abundance.tsv \\\n",
    "../output/kallisto_libraries/cbai_transcriptomev4.0/id254/abundance.tsv \\\n",
    "../output/kallisto_libraries/cbai_transcriptomev4.0/id222/abundance.tsv \\\n",
    "../output/kallisto_libraries/cbai_transcriptomev4.0/id427/abundance.tsv \\\n",
    "../output/kallisto_libraries/cbai_transcriptomev4.0/id445/abundance.tsv \\\n",
    "../output/kallisto_libraries/cbai_transcriptomev4.0/id425/abundance.tsv"
   ]
  },
  {
   "cell_type": "code",
   "execution_count": 4,
   "metadata": {},
   "outputs": [],
   "source": [
    "# Since the script outputs files in the working directory without an \n",
    "# option to change output dir, move all output over manually\n",
    "!mv kallisto.isoform.* ../output/kallisto_matrices/cbai_transcriptomev4.0/low0_vs_low217_indiv/"
   ]
  },
  {
   "cell_type": "markdown",
   "metadata": {},
   "source": [
    "#### Lowered Day 0 + Ambient Day 0 + 2 + 17 vs. Lowered Day 2 + 17"
   ]
  },
  {
   "cell_type": "code",
   "execution_count": 5,
   "metadata": {},
   "outputs": [
    {
     "name": "stdout",
     "output_type": "stream",
     "text": [
      "-reading file: ../output/kallisto_libraries/cbai_transcriptomev4.0/id073/abundance.tsv\n",
      "-reading file: ../output/kallisto_libraries/cbai_transcriptomev4.0/id151/abundance.tsv\n",
      "-reading file: ../output/kallisto_libraries/cbai_transcriptomev4.0/id113/abundance.tsv\n",
      "-reading file: ../output/kallisto_libraries/cbai_transcriptomev4.0/id178/abundance.tsv\n",
      "-reading file: ../output/kallisto_libraries/cbai_transcriptomev4.0/id118/abundance.tsv\n",
      "-reading file: ../output/kallisto_libraries/cbai_transcriptomev4.0/id132/abundance.tsv\n",
      "-reading file: ../output/kallisto_libraries/cbai_transcriptomev4.0/id359/abundance.tsv\n",
      "-reading file: ../output/kallisto_libraries/cbai_transcriptomev4.0/id349/abundance.tsv\n",
      "-reading file: ../output/kallisto_libraries/cbai_transcriptomev4.0/id334/abundance.tsv\n",
      "-reading file: ../output/kallisto_libraries/cbai_transcriptomev4.0/id463/abundance.tsv\n",
      "-reading file: ../output/kallisto_libraries/cbai_transcriptomev4.0/id481/abundance.tsv\n",
      "-reading file: ../output/kallisto_libraries/cbai_transcriptomev4.0/id485/abundance.tsv\n",
      "-reading file: ../output/kallisto_libraries/cbai_transcriptomev4.0/id221/abundance.tsv\n",
      "-reading file: ../output/kallisto_libraries/cbai_transcriptomev4.0/id254/abundance.tsv\n",
      "-reading file: ../output/kallisto_libraries/cbai_transcriptomev4.0/id222/abundance.tsv\n",
      "-reading file: ../output/kallisto_libraries/cbai_transcriptomev4.0/id427/abundance.tsv\n",
      "-reading file: ../output/kallisto_libraries/cbai_transcriptomev4.0/id445/abundance.tsv\n",
      "-reading file: ../output/kallisto_libraries/cbai_transcriptomev4.0/id425/abundance.tsv\n",
      "\n",
      "\n",
      "* Outputting combined matrix.\n",
      "\n",
      "/mnt/c/Users/acoyl/Documents/GradSchool/RobertsLab/Tools/Trinity/trinityrnaseq-v2.11.0/util/support_scripts/run_TMM_scale_matrix.pl --matrix kallisto.isoform.TPM.not_cross_norm > kallisto.isoform.TMM.EXPR.matrixCMD: R --no-save --no-restore --no-site-file --no-init-file -q < kallisto.isoform.TPM.not_cross_norm.runTMM.R 1>&2 \n",
      "/mnt/c/Users/acoyl/Downloads/anaconda3/lib/R/bin/exec/R: error while loading shared libraries: libreadline.so.6: cannot open shared object file: No such file or directory\n",
      "Error, cmd: R --no-save --no-restore --no-site-file --no-init-file -q < kallisto.isoform.TPM.not_cross_norm.runTMM.R 1>&2  died with ret (32512)  at /mnt/c/Users/acoyl/Documents/GradSchool/RobertsLab/Tools/Trinity/trinityrnaseq-v2.11.0/util/support_scripts/run_TMM_scale_matrix.pl line 105.\n",
      "Error, CMD: /mnt/c/Users/acoyl/Documents/GradSchool/RobertsLab/Tools/Trinity/trinityrnaseq-v2.11.0/util/support_scripts/run_TMM_scale_matrix.pl --matrix kallisto.isoform.TPM.not_cross_norm > kallisto.isoform.TMM.EXPR.matrix died with ret 6400 at ../../../GradSchool/RobertsLab/Tools/Trinity/trinityrnaseq-v2.11.0/util/abundance_estimates_to_matrix.pl line 385.\n"
     ]
    }
   ],
   "source": [
    "!../../../GradSchool/RobertsLab/Tools/Trinity/trinityrnaseq-v2.11.0/util/abundance_estimates_to_matrix.pl \\\n",
    "--est_method kallisto \\\n",
    "--gene_trans_map 'none' \\\n",
    "--out_prefix kallisto \\\n",
    "--name_sample_by_basedir \\\n",
    "../output/kallisto_libraries/cbai_transcriptomev4.0/id073/abundance.tsv \\\n",
    "../output/kallisto_libraries/cbai_transcriptomev4.0/id151/abundance.tsv \\\n",
    "../output/kallisto_libraries/cbai_transcriptomev4.0/id113/abundance.tsv \\\n",
    "../output/kallisto_libraries/cbai_transcriptomev4.0/id178/abundance.tsv \\\n",
    "../output/kallisto_libraries/cbai_transcriptomev4.0/id118/abundance.tsv \\\n",
    "../output/kallisto_libraries/cbai_transcriptomev4.0/id132/abundance.tsv \\\n",
    "../output/kallisto_libraries/cbai_transcriptomev4.0/id359/abundance.tsv \\\n",
    "../output/kallisto_libraries/cbai_transcriptomev4.0/id349/abundance.tsv \\\n",
    "../output/kallisto_libraries/cbai_transcriptomev4.0/id334/abundance.tsv \\\n",
    "../output/kallisto_libraries/cbai_transcriptomev4.0/id463/abundance.tsv \\\n",
    "../output/kallisto_libraries/cbai_transcriptomev4.0/id481/abundance.tsv \\\n",
    "../output/kallisto_libraries/cbai_transcriptomev4.0/id485/abundance.tsv \\\n",
    "../output/kallisto_libraries/cbai_transcriptomev4.0/id221/abundance.tsv \\\n",
    "../output/kallisto_libraries/cbai_transcriptomev4.0/id254/abundance.tsv \\\n",
    "../output/kallisto_libraries/cbai_transcriptomev4.0/id222/abundance.tsv \\\n",
    "../output/kallisto_libraries/cbai_transcriptomev4.0/id427/abundance.tsv \\\n",
    "../output/kallisto_libraries/cbai_transcriptomev4.0/id445/abundance.tsv \\\n",
    "../output/kallisto_libraries/cbai_transcriptomev4.0/id425/abundance.tsv"
   ]
  },
  {
   "cell_type": "code",
   "execution_count": 6,
   "metadata": {},
   "outputs": [],
   "source": [
    "# Since the script outputs files in the working directory without an \n",
    "# option to change output dir, move all output over manually\n",
    "!mv kallisto.isoform.* ../output/kallisto_matrices/cbai_transcriptomev4.0/low0_amb0217_vs_low217_indiv/"
   ]
  },
  {
   "cell_type": "markdown",
   "metadata": {},
   "source": [
    "#### Lowered Day 2 + 17 vs. Ambient Day 2+17"
   ]
  },
  {
   "cell_type": "code",
   "execution_count": 7,
   "metadata": {},
   "outputs": [
    {
     "name": "stdout",
     "output_type": "stream",
     "text": [
      "-reading file: ../output/kallisto_libraries/cbai_transcriptomev4.0/id221/abundance.tsv\n",
      "-reading file: ../output/kallisto_libraries/cbai_transcriptomev4.0/id254/abundance.tsv\n",
      "-reading file: ../output/kallisto_libraries/cbai_transcriptomev4.0/id222/abundance.tsv\n",
      "-reading file: ../output/kallisto_libraries/cbai_transcriptomev4.0/id427/abundance.tsv\n",
      "-reading file: ../output/kallisto_libraries/cbai_transcriptomev4.0/id445/abundance.tsv\n",
      "-reading file: ../output/kallisto_libraries/cbai_transcriptomev4.0/id425/abundance.tsv\n",
      "-reading file: ../output/kallisto_libraries/cbai_transcriptomev4.0/id359/abundance.tsv\n",
      "-reading file: ../output/kallisto_libraries/cbai_transcriptomev4.0/id349/abundance.tsv\n",
      "-reading file: ../output/kallisto_libraries/cbai_transcriptomev4.0/id334/abundance.tsv\n",
      "-reading file: ../output/kallisto_libraries/cbai_transcriptomev4.0/id463/abundance.tsv\n",
      "-reading file: ../output/kallisto_libraries/cbai_transcriptomev4.0/id481/abundance.tsv\n",
      "-reading file: ../output/kallisto_libraries/cbai_transcriptomev4.0/id485/abundance.tsv\n",
      "\n",
      "\n",
      "* Outputting combined matrix.\n",
      "\n",
      "/mnt/c/Users/acoyl/Documents/GradSchool/RobertsLab/Tools/Trinity/trinityrnaseq-v2.11.0/util/support_scripts/run_TMM_scale_matrix.pl --matrix kallisto.isoform.TPM.not_cross_norm > kallisto.isoform.TMM.EXPR.matrixCMD: R --no-save --no-restore --no-site-file --no-init-file -q < kallisto.isoform.TPM.not_cross_norm.runTMM.R 1>&2 \n",
      "/mnt/c/Users/acoyl/Downloads/anaconda3/lib/R/bin/exec/R: error while loading shared libraries: libreadline.so.6: cannot open shared object file: No such file or directory\n",
      "Error, cmd: R --no-save --no-restore --no-site-file --no-init-file -q < kallisto.isoform.TPM.not_cross_norm.runTMM.R 1>&2  died with ret (32512)  at /mnt/c/Users/acoyl/Documents/GradSchool/RobertsLab/Tools/Trinity/trinityrnaseq-v2.11.0/util/support_scripts/run_TMM_scale_matrix.pl line 105.\n",
      "Error, CMD: /mnt/c/Users/acoyl/Documents/GradSchool/RobertsLab/Tools/Trinity/trinityrnaseq-v2.11.0/util/support_scripts/run_TMM_scale_matrix.pl --matrix kallisto.isoform.TPM.not_cross_norm > kallisto.isoform.TMM.EXPR.matrix died with ret 6400 at ../../../GradSchool/RobertsLab/Tools/Trinity/trinityrnaseq-v2.11.0/util/abundance_estimates_to_matrix.pl line 385.\n"
     ]
    }
   ],
   "source": [
    "!../../../GradSchool/RobertsLab/Tools/Trinity/trinityrnaseq-v2.11.0/util/abundance_estimates_to_matrix.pl \\\n",
    "--est_method kallisto \\\n",
    "--gene_trans_map 'none' \\\n",
    "--out_prefix kallisto \\\n",
    "--name_sample_by_basedir \\\n",
    "../output/kallisto_libraries/cbai_transcriptomev4.0/id221/abundance.tsv \\\n",
    "../output/kallisto_libraries/cbai_transcriptomev4.0/id254/abundance.tsv \\\n",
    "../output/kallisto_libraries/cbai_transcriptomev4.0/id222/abundance.tsv \\\n",
    "../output/kallisto_libraries/cbai_transcriptomev4.0/id427/abundance.tsv \\\n",
    "../output/kallisto_libraries/cbai_transcriptomev4.0/id445/abundance.tsv \\\n",
    "../output/kallisto_libraries/cbai_transcriptomev4.0/id425/abundance.tsv \\\n",
    "../output/kallisto_libraries/cbai_transcriptomev4.0/id359/abundance.tsv \\\n",
    "../output/kallisto_libraries/cbai_transcriptomev4.0/id349/abundance.tsv \\\n",
    "../output/kallisto_libraries/cbai_transcriptomev4.0/id334/abundance.tsv \\\n",
    "../output/kallisto_libraries/cbai_transcriptomev4.0/id463/abundance.tsv \\\n",
    "../output/kallisto_libraries/cbai_transcriptomev4.0/id481/abundance.tsv \\\n",
    "../output/kallisto_libraries/cbai_transcriptomev4.0/id485/abundance.tsv"
   ]
  },
  {
   "cell_type": "code",
   "execution_count": 8,
   "metadata": {},
   "outputs": [],
   "source": [
    "# Since the script outputs files in the working directory without an \n",
    "# option to change output dir, move all output over manually\n",
    "!mv kallisto.isoform.* ../output/kallisto_matrices/cbai_transcriptomev4.0/low217_vs_amb217_indiv/"
   ]
  },
  {
   "cell_type": "markdown",
   "metadata": {},
   "source": [
    "#### Ambient Day 2 vs. Elevated Day 2, individual libraries only"
   ]
  },
  {
   "cell_type": "code",
   "execution_count": 13,
   "metadata": {},
   "outputs": [
    {
     "name": "stdout",
     "output_type": "stream",
     "text": [
      "-reading file: ../output/kallisto_libraries/cbai_transcriptomev4.0/id359/abundance.tsv\n",
      "-reading file: ../output/kallisto_libraries/cbai_transcriptomev4.0/id349/abundance.tsv\n",
      "-reading file: ../output/kallisto_libraries/cbai_transcriptomev4.0/id334/abundance.tsv\n",
      "-reading file: ../output/kallisto_libraries/cbai_transcriptomev4.0/id272/abundance.tsv\n",
      "-reading file: ../output/kallisto_libraries/cbai_transcriptomev4.0/id294/abundance.tsv\n",
      "-reading file: ../output/kallisto_libraries/cbai_transcriptomev4.0/id280/abundance.tsv\n",
      "\n",
      "\n",
      "* Outputting combined matrix.\n",
      "\n",
      "/mnt/c/Users/acoyl/Documents/GradSchool/RobertsLab/Tools/Trinity/trinityrnaseq-v2.11.0/util/support_scripts/run_TMM_scale_matrix.pl --matrix kallisto.isoform.TPM.not_cross_norm > kallisto.isoform.TMM.EXPR.matrixCMD: R --no-save --no-restore --no-site-file --no-init-file -q < kallisto.isoform.TPM.not_cross_norm.runTMM.R 1>&2 \n",
      "/mnt/c/Users/acoyl/Downloads/anaconda3/lib/R/bin/exec/R: error while loading shared libraries: libreadline.so.6: cannot open shared object file: No such file or directory\n",
      "Error, cmd: R --no-save --no-restore --no-site-file --no-init-file -q < kallisto.isoform.TPM.not_cross_norm.runTMM.R 1>&2  died with ret (32512)  at /mnt/c/Users/acoyl/Documents/GradSchool/RobertsLab/Tools/Trinity/trinityrnaseq-v2.11.0/util/support_scripts/run_TMM_scale_matrix.pl line 105.\n",
      "Error, CMD: /mnt/c/Users/acoyl/Documents/GradSchool/RobertsLab/Tools/Trinity/trinityrnaseq-v2.11.0/util/support_scripts/run_TMM_scale_matrix.pl --matrix kallisto.isoform.TPM.not_cross_norm > kallisto.isoform.TMM.EXPR.matrix died with ret 6400 at ../../../GradSchool/RobertsLab/Tools/Trinity/trinityrnaseq-v2.11.0/util/abundance_estimates_to_matrix.pl line 385.\n"
     ]
    }
   ],
   "source": [
    "# Use the perl script from Trinity to create matrix. Output will appear to have errors, but runs just fine for our purposes - all we need is the kallisto.isoform.counts.matrix file\n",
    "!../../../GradSchool/RobertsLab/Tools/Trinity/trinityrnaseq-v2.11.0/util/abundance_estimates_to_matrix.pl \\\n",
    "--est_method kallisto \\\n",
    "--gene_trans_map 'none' \\\n",
    "--out_prefix kallisto \\\n",
    "--name_sample_by_basedir \\\n",
    "../output/kallisto_libraries/cbai_transcriptomev4.0/id359/abundance.tsv \\\n",
    "../output/kallisto_libraries/cbai_transcriptomev4.0/id349/abundance.tsv \\\n",
    "../output/kallisto_libraries/cbai_transcriptomev4.0/id334/abundance.tsv \\\n",
    "../output/kallisto_libraries/cbai_transcriptomev4.0/id272/abundance.tsv \\\n",
    "../output/kallisto_libraries/cbai_transcriptomev4.0/id294/abundance.tsv \\\n",
    "../output/kallisto_libraries/cbai_transcriptomev4.0/id280/abundance.tsv"
   ]
  },
  {
   "cell_type": "code",
   "execution_count": 14,
   "metadata": {},
   "outputs": [],
   "source": [
    "# Since the script outputs files in the working directory without an \n",
    "# option to change output dir, move all output over manually\n",
    "!mv kallisto.isoform.* ../output/kallisto_matrices/cbai_transcriptomev4.0/amb2_vs_elev2_indiv/"
   ]
  },
  {
   "cell_type": "markdown",
   "metadata": {},
   "source": [
    "#### Lowered Day 0 vs. Ambient Day 0"
   ]
  },
  {
   "cell_type": "code",
   "execution_count": 9,
   "metadata": {},
   "outputs": [
    {
     "name": "stdout",
     "output_type": "stream",
     "text": [
      "-reading file: ../output/kallisto_libraries/cbai_transcriptomev4.0/id073/abundance.tsv\n",
      "-reading file: ../output/kallisto_libraries/cbai_transcriptomev4.0/id151/abundance.tsv\n",
      "-reading file: ../output/kallisto_libraries/cbai_transcriptomev4.0/id113/abundance.tsv\n",
      "-reading file: ../output/kallisto_libraries/cbai_transcriptomev4.0/id178/abundance.tsv\n",
      "-reading file: ../output/kallisto_libraries/cbai_transcriptomev4.0/id118/abundance.tsv\n",
      "-reading file: ../output/kallisto_libraries/cbai_transcriptomev4.0/id132/abundance.tsv\n",
      "\n",
      "\n",
      "* Outputting combined matrix.\n",
      "\n",
      "/mnt/c/Users/acoyl/Documents/GradSchool/RobertsLab/Tools/Trinity/trinityrnaseq-v2.11.0/util/support_scripts/run_TMM_scale_matrix.pl --matrix kallisto.isoform.TPM.not_cross_norm > kallisto.isoform.TMM.EXPR.matrixCMD: R --no-save --no-restore --no-site-file --no-init-file -q < kallisto.isoform.TPM.not_cross_norm.runTMM.R 1>&2 \n",
      "/mnt/c/Users/acoyl/Downloads/anaconda3/lib/R/bin/exec/R: error while loading shared libraries: libreadline.so.6: cannot open shared object file: No such file or directory\n",
      "Error, cmd: R --no-save --no-restore --no-site-file --no-init-file -q < kallisto.isoform.TPM.not_cross_norm.runTMM.R 1>&2  died with ret (32512)  at /mnt/c/Users/acoyl/Documents/GradSchool/RobertsLab/Tools/Trinity/trinityrnaseq-v2.11.0/util/support_scripts/run_TMM_scale_matrix.pl line 105.\n",
      "Error, CMD: /mnt/c/Users/acoyl/Documents/GradSchool/RobertsLab/Tools/Trinity/trinityrnaseq-v2.11.0/util/support_scripts/run_TMM_scale_matrix.pl --matrix kallisto.isoform.TPM.not_cross_norm > kallisto.isoform.TMM.EXPR.matrix died with ret 6400 at ../../../GradSchool/RobertsLab/Tools/Trinity/trinityrnaseq-v2.11.0/util/abundance_estimates_to_matrix.pl line 385.\n"
     ]
    }
   ],
   "source": [
    "!../../../GradSchool/RobertsLab/Tools/Trinity/trinityrnaseq-v2.11.0/util/abundance_estimates_to_matrix.pl \\\n",
    "--est_method kallisto \\\n",
    "--gene_trans_map 'none' \\\n",
    "--out_prefix kallisto \\\n",
    "--name_sample_by_basedir \\\n",
    "../output/kallisto_libraries/cbai_transcriptomev4.0/id073/abundance.tsv \\\n",
    "../output/kallisto_libraries/cbai_transcriptomev4.0/id151/abundance.tsv \\\n",
    "../output/kallisto_libraries/cbai_transcriptomev4.0/id113/abundance.tsv \\\n",
    "../output/kallisto_libraries/cbai_transcriptomev4.0/id178/abundance.tsv \\\n",
    "../output/kallisto_libraries/cbai_transcriptomev4.0/id118/abundance.tsv \\\n",
    "../output/kallisto_libraries/cbai_transcriptomev4.0/id132/abundance.tsv"
   ]
  },
  {
   "cell_type": "code",
   "execution_count": 11,
   "metadata": {},
   "outputs": [],
   "source": [
    "# Since the script outputs files in the working directory without an \n",
    "# option to change output dir, move all output over manually\n",
    "!mv kallisto.isoform.* ../output/kallisto_matrices/cbai_transcriptomev4.0/low0_vs_amb0_indiv/"
   ]
  },
  {
   "cell_type": "markdown",
   "metadata": {},
   "source": [
    "#### Ambient Day 0 vs. Ambient Day 2, individual libraries only"
   ]
  },
  {
   "cell_type": "code",
   "execution_count": 1,
   "metadata": {},
   "outputs": [
    {
     "name": "stdout",
     "output_type": "stream",
     "text": [
      "-reading file: ../output/kallisto_libraries/cbai_transcriptomev4.0/id178/abundance.tsv\n",
      "-reading file: ../output/kallisto_libraries/cbai_transcriptomev4.0/id118/abundance.tsv\n",
      "-reading file: ../output/kallisto_libraries/cbai_transcriptomev4.0/id132/abundance.tsv\n",
      "-reading file: ../output/kallisto_libraries/cbai_transcriptomev4.0/id359/abundance.tsv\n",
      "-reading file: ../output/kallisto_libraries/cbai_transcriptomev4.0/id349/abundance.tsv\n",
      "-reading file: ../output/kallisto_libraries/cbai_transcriptomev4.0/id334/abundance.tsv\n",
      "\n",
      "\n",
      "* Outputting combined matrix.\n",
      "\n",
      "/mnt/c/Users/acoyl/Documents/GradSchool/RobertsLab/Tools/Trinity/trinityrnaseq-v2.11.0/util/support_scripts/run_TMM_scale_matrix.pl --matrix kallisto.isoform.TPM.not_cross_norm > kallisto.isoform.TMM.EXPR.matrixCMD: R --no-save --no-restore --no-site-file --no-init-file -q < kallisto.isoform.TPM.not_cross_norm.runTMM.R 1>&2 \n",
      "/mnt/c/Users/acoyl/Downloads/anaconda3/lib/R/bin/exec/R: error while loading shared libraries: libreadline.so.6: cannot open shared object file: No such file or directory\n",
      "Error, cmd: R --no-save --no-restore --no-site-file --no-init-file -q < kallisto.isoform.TPM.not_cross_norm.runTMM.R 1>&2  died with ret (32512)  at /mnt/c/Users/acoyl/Documents/GradSchool/RobertsLab/Tools/Trinity/trinityrnaseq-v2.11.0/util/support_scripts/run_TMM_scale_matrix.pl line 105.\n",
      "Error, CMD: /mnt/c/Users/acoyl/Documents/GradSchool/RobertsLab/Tools/Trinity/trinityrnaseq-v2.11.0/util/support_scripts/run_TMM_scale_matrix.pl --matrix kallisto.isoform.TPM.not_cross_norm > kallisto.isoform.TMM.EXPR.matrix died with ret 6400 at ../../../GradSchool/RobertsLab/Tools/Trinity/trinityrnaseq-v2.11.0/util/abundance_estimates_to_matrix.pl line 385.\n"
     ]
    }
   ],
   "source": [
    "# Use the perl script from Trinity to create matrix. Output will appear to have errors, but runs just fine for our purposes - all we need is the kallisto.isoform.counts.matrix file\n",
    "!../../../GradSchool/RobertsLab/Tools/Trinity/trinityrnaseq-v2.11.0/util/abundance_estimates_to_matrix.pl \\\n",
    "--est_method kallisto \\\n",
    "--gene_trans_map 'none' \\\n",
    "--out_prefix kallisto \\\n",
    "--name_sample_by_basedir \\\n",
    "../output/kallisto_libraries/cbai_transcriptomev4.0/id178/abundance.tsv \\\n",
    "../output/kallisto_libraries/cbai_transcriptomev4.0/id118/abundance.tsv \\\n",
    "../output/kallisto_libraries/cbai_transcriptomev4.0/id132/abundance.tsv \\\n",
    "../output/kallisto_libraries/cbai_transcriptomev4.0/id359/abundance.tsv \\\n",
    "../output/kallisto_libraries/cbai_transcriptomev4.0/id349/abundance.tsv \\\n",
    "../output/kallisto_libraries/cbai_transcriptomev4.0/id334/abundance.tsv"
   ]
  },
  {
   "cell_type": "code",
   "execution_count": 2,
   "metadata": {},
   "outputs": [],
   "source": [
    "# Since the script outputs files in the working directory without an \n",
    "# option to change output dir, move all output over manually\n",
    "!mv kallisto.isoform.* ../output/kallisto_matrices/cbai_transcriptomev4.0/amb0_vs_amb2_indiv/"
   ]
  },
  {
   "cell_type": "markdown",
   "metadata": {},
   "source": [
    "#### Ambient Day 0 vs. Ambient Day 17"
   ]
  },
  {
   "cell_type": "code",
   "execution_count": 1,
   "metadata": {},
   "outputs": [
    {
     "name": "stdout",
     "output_type": "stream",
     "text": [
      "-reading file: ../output/kallisto_libraries/cbai_transcriptomev4.0/id178/abundance.tsv\n",
      "-reading file: ../output/kallisto_libraries/cbai_transcriptomev4.0/id118/abundance.tsv\n",
      "-reading file: ../output/kallisto_libraries/cbai_transcriptomev4.0/id132/abundance.tsv\n",
      "-reading file: ../output/kallisto_libraries/cbai_transcriptomev4.0/id463/abundance.tsv\n",
      "-reading file: ../output/kallisto_libraries/cbai_transcriptomev4.0/id481/abundance.tsv\n",
      "-reading file: ../output/kallisto_libraries/cbai_transcriptomev4.0/id485/abundance.tsv\n",
      "\n",
      "\n",
      "* Outputting combined matrix.\n",
      "\n",
      "/mnt/c/Users/acoyl/Documents/GradSchool/RobertsLab/Tools/Trinity/trinityrnaseq-v2.11.0/util/support_scripts/run_TMM_scale_matrix.pl --matrix kallisto.isoform.TPM.not_cross_norm > kallisto.isoform.TMM.EXPR.matrixCMD: R --no-save --no-restore --no-site-file --no-init-file -q < kallisto.isoform.TPM.not_cross_norm.runTMM.R 1>&2 \n",
      "/mnt/c/Users/acoyl/Downloads/anaconda3/lib/R/bin/exec/R: error while loading shared libraries: libreadline.so.6: cannot open shared object file: No such file or directory\n",
      "Error, cmd: R --no-save --no-restore --no-site-file --no-init-file -q < kallisto.isoform.TPM.not_cross_norm.runTMM.R 1>&2  died with ret (32512)  at /mnt/c/Users/acoyl/Documents/GradSchool/RobertsLab/Tools/Trinity/trinityrnaseq-v2.11.0/util/support_scripts/run_TMM_scale_matrix.pl line 105.\n",
      "Error, CMD: /mnt/c/Users/acoyl/Documents/GradSchool/RobertsLab/Tools/Trinity/trinityrnaseq-v2.11.0/util/support_scripts/run_TMM_scale_matrix.pl --matrix kallisto.isoform.TPM.not_cross_norm > kallisto.isoform.TMM.EXPR.matrix died with ret 6400 at ../../../GradSchool/RobertsLab/Tools/Trinity/trinityrnaseq-v2.11.0/util/abundance_estimates_to_matrix.pl line 385.\n"
     ]
    }
   ],
   "source": [
    "!../../../GradSchool/RobertsLab/Tools/Trinity/trinityrnaseq-v2.11.0/util/abundance_estimates_to_matrix.pl \\\n",
    "--est_method kallisto \\\n",
    "--gene_trans_map 'none' \\\n",
    "--out_prefix kallisto \\\n",
    "--name_sample_by_basedir \\\n",
    "../output/kallisto_libraries/cbai_transcriptomev4.0/id178/abundance.tsv \\\n",
    "../output/kallisto_libraries/cbai_transcriptomev4.0/id118/abundance.tsv \\\n",
    "../output/kallisto_libraries/cbai_transcriptomev4.0/id132/abundance.tsv \\\n",
    "../output/kallisto_libraries/cbai_transcriptomev4.0/id463/abundance.tsv \\\n",
    "../output/kallisto_libraries/cbai_transcriptomev4.0/id481/abundance.tsv \\\n",
    "../output/kallisto_libraries/cbai_transcriptomev4.0/id485/abundance.tsv"
   ]
  },
  {
   "cell_type": "code",
   "execution_count": 2,
   "metadata": {},
   "outputs": [],
   "source": [
    "# Since the script outputs files in the working directory without an \n",
    "# option to change output dir, move all output over manually\n",
    "!mv kallisto.isoform.* ../output/kallisto_matrices/cbai_transcriptomev4.0/amb0_vs_amb17_indiv/"
   ]
  },
  {
   "cell_type": "markdown",
   "metadata": {},
   "source": [
    "### Ambient Day 0, 2, 17, individual libraries only\n",
    "\n",
    "This is not used in scripts 40-49. Instead, it is used to track gene expression in individual ambient-temperature crabs at all three time points. Analysis continues in 51_DEGpattern_test.Rmd"
   ]
  },
  {
   "cell_type": "code",
   "execution_count": 1,
   "metadata": {},
   "outputs": [
    {
     "name": "stdout",
     "output_type": "stream",
     "text": [
      "-reading file: ../output/kallisto_libraries/cbai_transcriptomev4.0/id178/abundance.tsv\n",
      "-reading file: ../output/kallisto_libraries/cbai_transcriptomev4.0/id118/abundance.tsv\n",
      "-reading file: ../output/kallisto_libraries/cbai_transcriptomev4.0/id132/abundance.tsv\n",
      "-reading file: ../output/kallisto_libraries/cbai_transcriptomev4.0/id359/abundance.tsv\n",
      "-reading file: ../output/kallisto_libraries/cbai_transcriptomev4.0/id349/abundance.tsv\n",
      "-reading file: ../output/kallisto_libraries/cbai_transcriptomev4.0/id334/abundance.tsv\n",
      "-reading file: ../output/kallisto_libraries/cbai_transcriptomev4.0/id463/abundance.tsv\n",
      "-reading file: ../output/kallisto_libraries/cbai_transcriptomev4.0/id481/abundance.tsv\n",
      "-reading file: ../output/kallisto_libraries/cbai_transcriptomev4.0/id485/abundance.tsv\n",
      "\n",
      "\n",
      "* Outputting combined matrix.\n",
      "\n",
      "/mnt/c/Users/acoyl/Documents/GradSchool/RobertsLab/Tools/Trinity/trinityrnaseq-v2.11.0/util/support_scripts/run_TMM_scale_matrix.pl --matrix kallisto.isoform.TPM.not_cross_norm > kallisto.isoform.TMM.EXPR.matrixCMD: R --no-save --no-restore --no-site-file --no-init-file -q < kallisto.isoform.TPM.not_cross_norm.runTMM.R 1>&2 \n",
      "/mnt/c/Users/acoyl/Downloads/anaconda3/lib/R/bin/exec/R: error while loading shared libraries: libreadline.so.6: cannot open shared object file: No such file or directory\n",
      "Error, cmd: R --no-save --no-restore --no-site-file --no-init-file -q < kallisto.isoform.TPM.not_cross_norm.runTMM.R 1>&2  died with ret (32512)  at /mnt/c/Users/acoyl/Documents/GradSchool/RobertsLab/Tools/Trinity/trinityrnaseq-v2.11.0/util/support_scripts/run_TMM_scale_matrix.pl line 105.\n",
      "Error, CMD: /mnt/c/Users/acoyl/Documents/GradSchool/RobertsLab/Tools/Trinity/trinityrnaseq-v2.11.0/util/support_scripts/run_TMM_scale_matrix.pl --matrix kallisto.isoform.TPM.not_cross_norm > kallisto.isoform.TMM.EXPR.matrix died with ret 6400 at ../../../GradSchool/RobertsLab/Tools/Trinity/trinityrnaseq-v2.11.0/util/abundance_estimates_to_matrix.pl line 385.\n"
     ]
    }
   ],
   "source": [
    "# Use the perl script from Trinity to create matrix. Output will appear to have errors, but runs just fine for our purposes - all we need is the kallisto.isoform.counts.matrix file\n",
    "!../../../GradSchool/RobertsLab/Tools/Trinity/trinityrnaseq-v2.11.0/util/abundance_estimates_to_matrix.pl \\\n",
    "--est_method kallisto \\\n",
    "--gene_trans_map 'none' \\\n",
    "--out_prefix kallisto \\\n",
    "--name_sample_by_basedir \\\n",
    "../output/kallisto_libraries/cbai_transcriptomev4.0/id178/abundance.tsv \\\n",
    "../output/kallisto_libraries/cbai_transcriptomev4.0/id118/abundance.tsv \\\n",
    "../output/kallisto_libraries/cbai_transcriptomev4.0/id132/abundance.tsv \\\n",
    "../output/kallisto_libraries/cbai_transcriptomev4.0/id359/abundance.tsv \\\n",
    "../output/kallisto_libraries/cbai_transcriptomev4.0/id349/abundance.tsv \\\n",
    "../output/kallisto_libraries/cbai_transcriptomev4.0/id334/abundance.tsv \\\n",
    "../output/kallisto_libraries/cbai_transcriptomev4.0/id463/abundance.tsv \\\n",
    "../output/kallisto_libraries/cbai_transcriptomev4.0/id481/abundance.tsv \\\n",
    "../output/kallisto_libraries/cbai_transcriptomev4.0/id485/abundance.tsv"
   ]
  },
  {
   "cell_type": "code",
   "execution_count": 2,
   "metadata": {},
   "outputs": [],
   "source": [
    "# Since the script outputs files in the working directory without an \n",
    "# option to change output dir, move all output over manually\n",
    "!mv kallisto.isoform.* ../output/kallisto_matrices/cbai_transcriptomev4.0/amb0_amb2_amb17_indiv/"
   ]
  },
  {
   "cell_type": "markdown",
   "metadata": {},
   "source": [
    "#### Lowered Day 0 vs. Ambient Day 0"
   ]
  },
  {
   "cell_type": "code",
   "execution_count": 1,
   "metadata": {},
   "outputs": [
    {
     "name": "stdout",
     "output_type": "stream",
     "text": [
      "-reading file: ../output/kallisto_libraries/cbai_transcriptomev4.0/id073/abundance.tsv\n",
      "-reading file: ../output/kallisto_libraries/cbai_transcriptomev4.0/id151/abundance.tsv\n",
      "-reading file: ../output/kallisto_libraries/cbai_transcriptomev4.0/id113/abundance.tsv\n",
      "-reading file: ../output/kallisto_libraries/cbai_transcriptomev4.0/id178/abundance.tsv\n",
      "-reading file: ../output/kallisto_libraries/cbai_transcriptomev4.0/id118/abundance.tsv\n",
      "-reading file: ../output/kallisto_libraries/cbai_transcriptomev4.0/id132/abundance.tsv\n",
      "\n",
      "\n",
      "* Outputting combined matrix.\n",
      "\n",
      "/mnt/c/Users/acoyl/Documents/GradSchool/RobertsLab/Tools/Trinity/trinityrnaseq-v2.11.0/util/support_scripts/run_TMM_scale_matrix.pl --matrix kallisto.isoform.TPM.not_cross_norm > kallisto.isoform.TMM.EXPR.matrixCMD: R --no-save --no-restore --no-site-file --no-init-file -q < kallisto.isoform.TPM.not_cross_norm.runTMM.R 1>&2 \n",
      "/mnt/c/Users/acoyl/Downloads/anaconda3/lib/R/bin/exec/R: error while loading shared libraries: libreadline.so.6: cannot open shared object file: No such file or directory\n",
      "Error, cmd: R --no-save --no-restore --no-site-file --no-init-file -q < kallisto.isoform.TPM.not_cross_norm.runTMM.R 1>&2  died with ret (32512)  at /mnt/c/Users/acoyl/Documents/GradSchool/RobertsLab/Tools/Trinity/trinityrnaseq-v2.11.0/util/support_scripts/run_TMM_scale_matrix.pl line 105.\n",
      "Error, CMD: /mnt/c/Users/acoyl/Documents/GradSchool/RobertsLab/Tools/Trinity/trinityrnaseq-v2.11.0/util/support_scripts/run_TMM_scale_matrix.pl --matrix kallisto.isoform.TPM.not_cross_norm > kallisto.isoform.TMM.EXPR.matrix died with ret 6400 at ../../../GradSchool/RobertsLab/Tools/Trinity/trinityrnaseq-v2.11.0/util/abundance_estimates_to_matrix.pl line 385.\n"
     ]
    }
   ],
   "source": [
    "!../../../GradSchool/RobertsLab/Tools/Trinity/trinityrnaseq-v2.11.0/util/abundance_estimates_to_matrix.pl \\\n",
    "--est_method kallisto \\\n",
    "--gene_trans_map 'none' \\\n",
    "--out_prefix kallisto \\\n",
    "--name_sample_by_basedir \\\n",
    "../output/kallisto_libraries/cbai_transcriptomev4.0/id073/abundance.tsv \\\n",
    "../output/kallisto_libraries/cbai_transcriptomev4.0/id151/abundance.tsv \\\n",
    "../output/kallisto_libraries/cbai_transcriptomev4.0/id113/abundance.tsv \\\n",
    "../output/kallisto_libraries/cbai_transcriptomev4.0/id178/abundance.tsv \\\n",
    "../output/kallisto_libraries/cbai_transcriptomev4.0/id118/abundance.tsv \\\n",
    "../output/kallisto_libraries/cbai_transcriptomev4.0/id132/abundance.tsv"
   ]
  },
  {
   "cell_type": "code",
   "execution_count": 2,
   "metadata": {},
   "outputs": [],
   "source": [
    "# Since the script outputs files in the working directory without an \n",
    "# option to change output dir, move all output over manually\n",
    "!mv kallisto.isoform.* ../output/kallisto_matrices/cbai_transcriptomev4.0/low0_vs_amb0_indiv/"
   ]
  },
  {
   "cell_type": "markdown",
   "metadata": {},
   "source": [
    "#### Lowered Day 0 vs. Lowered Day 17"
   ]
  },
  {
   "cell_type": "code",
   "execution_count": 3,
   "metadata": {},
   "outputs": [
    {
     "name": "stdout",
     "output_type": "stream",
     "text": [
      "-reading file: ../output/kallisto_libraries/cbai_transcriptomev4.0/id073/abundance.tsv\n",
      "-reading file: ../output/kallisto_libraries/cbai_transcriptomev4.0/id151/abundance.tsv\n",
      "-reading file: ../output/kallisto_libraries/cbai_transcriptomev4.0/id113/abundance.tsv\n",
      "-reading file: ../output/kallisto_libraries/cbai_transcriptomev4.0/id427/abundance.tsv\n",
      "-reading file: ../output/kallisto_libraries/cbai_transcriptomev4.0/id445/abundance.tsv\n",
      "-reading file: ../output/kallisto_libraries/cbai_transcriptomev4.0/id425/abundance.tsv\n",
      "\n",
      "\n",
      "* Outputting combined matrix.\n",
      "\n",
      "/mnt/c/Users/acoyl/Documents/GradSchool/RobertsLab/Tools/Trinity/trinityrnaseq-v2.11.0/util/support_scripts/run_TMM_scale_matrix.pl --matrix kallisto.isoform.TPM.not_cross_norm > kallisto.isoform.TMM.EXPR.matrixCMD: R --no-save --no-restore --no-site-file --no-init-file -q < kallisto.isoform.TPM.not_cross_norm.runTMM.R 1>&2 \n",
      "/mnt/c/Users/acoyl/Downloads/anaconda3/lib/R/bin/exec/R: error while loading shared libraries: libreadline.so.6: cannot open shared object file: No such file or directory\n",
      "Error, cmd: R --no-save --no-restore --no-site-file --no-init-file -q < kallisto.isoform.TPM.not_cross_norm.runTMM.R 1>&2  died with ret (32512)  at /mnt/c/Users/acoyl/Documents/GradSchool/RobertsLab/Tools/Trinity/trinityrnaseq-v2.11.0/util/support_scripts/run_TMM_scale_matrix.pl line 105.\n",
      "Error, CMD: /mnt/c/Users/acoyl/Documents/GradSchool/RobertsLab/Tools/Trinity/trinityrnaseq-v2.11.0/util/support_scripts/run_TMM_scale_matrix.pl --matrix kallisto.isoform.TPM.not_cross_norm > kallisto.isoform.TMM.EXPR.matrix died with ret 6400 at ../../../GradSchool/RobertsLab/Tools/Trinity/trinityrnaseq-v2.11.0/util/abundance_estimates_to_matrix.pl line 385.\n"
     ]
    }
   ],
   "source": [
    "!../../../GradSchool/RobertsLab/Tools/Trinity/trinityrnaseq-v2.11.0/util/abundance_estimates_to_matrix.pl \\\n",
    "--est_method kallisto \\\n",
    "--gene_trans_map 'none' \\\n",
    "--out_prefix kallisto \\\n",
    "--name_sample_by_basedir \\\n",
    "../output/kallisto_libraries/cbai_transcriptomev4.0/id073/abundance.tsv \\\n",
    "../output/kallisto_libraries/cbai_transcriptomev4.0/id151/abundance.tsv \\\n",
    "../output/kallisto_libraries/cbai_transcriptomev4.0/id113/abundance.tsv \\\n",
    "../output/kallisto_libraries/cbai_transcriptomev4.0/id427/abundance.tsv \\\n",
    "../output/kallisto_libraries/cbai_transcriptomev4.0/id445/abundance.tsv \\\n",
    "../output/kallisto_libraries/cbai_transcriptomev4.0/id425/abundance.tsv"
   ]
  },
  {
   "cell_type": "code",
   "execution_count": 4,
   "metadata": {},
   "outputs": [],
   "source": [
    "# Since the script outputs files in the working directory without an \n",
    "# option to change output dir, move all output over manually\n",
    "!mv kallisto.isoform.* ../output/kallisto_matrices/cbai_transcriptomev4.0/low0_vs_low17_indiv/"
   ]
  },
  {
   "cell_type": "markdown",
   "metadata": {},
   "source": [
    "#### Lowered Day 0  + Ambient Day 0 vs. Lowered Day 17 + Ambient Day 17"
   ]
  },
  {
   "cell_type": "code",
   "execution_count": 5,
   "metadata": {},
   "outputs": [
    {
     "name": "stdout",
     "output_type": "stream",
     "text": [
      "-reading file: ../output/kallisto_libraries/cbai_transcriptomev4.0/id073/abundance.tsv\n",
      "-reading file: ../output/kallisto_libraries/cbai_transcriptomev4.0/id151/abundance.tsv\n",
      "-reading file: ../output/kallisto_libraries/cbai_transcriptomev4.0/id113/abundance.tsv\n",
      "-reading file: ../output/kallisto_libraries/cbai_transcriptomev4.0/id178/abundance.tsv\n",
      "-reading file: ../output/kallisto_libraries/cbai_transcriptomev4.0/id118/abundance.tsv\n",
      "-reading file: ../output/kallisto_libraries/cbai_transcriptomev4.0/id132/abundance.tsv\n",
      "-reading file: ../output/kallisto_libraries/cbai_transcriptomev4.0/id427/abundance.tsv\n",
      "-reading file: ../output/kallisto_libraries/cbai_transcriptomev4.0/id445/abundance.tsv\n",
      "-reading file: ../output/kallisto_libraries/cbai_transcriptomev4.0/id425/abundance.tsv\n",
      "-reading file: ../output/kallisto_libraries/cbai_transcriptomev4.0/id463/abundance.tsv\n",
      "-reading file: ../output/kallisto_libraries/cbai_transcriptomev4.0/id481/abundance.tsv\n",
      "-reading file: ../output/kallisto_libraries/cbai_transcriptomev4.0/id485/abundance.tsv\n",
      "\n",
      "\n",
      "* Outputting combined matrix.\n",
      "\n",
      "/mnt/c/Users/acoyl/Documents/GradSchool/RobertsLab/Tools/Trinity/trinityrnaseq-v2.11.0/util/support_scripts/run_TMM_scale_matrix.pl --matrix kallisto.isoform.TPM.not_cross_norm > kallisto.isoform.TMM.EXPR.matrixCMD: R --no-save --no-restore --no-site-file --no-init-file -q < kallisto.isoform.TPM.not_cross_norm.runTMM.R 1>&2 \n",
      "/mnt/c/Users/acoyl/Downloads/anaconda3/lib/R/bin/exec/R: error while loading shared libraries: libreadline.so.6: cannot open shared object file: No such file or directory\n",
      "Error, cmd: R --no-save --no-restore --no-site-file --no-init-file -q < kallisto.isoform.TPM.not_cross_norm.runTMM.R 1>&2  died with ret (32512)  at /mnt/c/Users/acoyl/Documents/GradSchool/RobertsLab/Tools/Trinity/trinityrnaseq-v2.11.0/util/support_scripts/run_TMM_scale_matrix.pl line 105.\n",
      "Error, CMD: /mnt/c/Users/acoyl/Documents/GradSchool/RobertsLab/Tools/Trinity/trinityrnaseq-v2.11.0/util/support_scripts/run_TMM_scale_matrix.pl --matrix kallisto.isoform.TPM.not_cross_norm > kallisto.isoform.TMM.EXPR.matrix died with ret 6400 at ../../../GradSchool/RobertsLab/Tools/Trinity/trinityrnaseq-v2.11.0/util/abundance_estimates_to_matrix.pl line 385.\n"
     ]
    }
   ],
   "source": [
    "!../../../GradSchool/RobertsLab/Tools/Trinity/trinityrnaseq-v2.11.0/util/abundance_estimates_to_matrix.pl \\\n",
    "--est_method kallisto \\\n",
    "--gene_trans_map 'none' \\\n",
    "--out_prefix kallisto \\\n",
    "--name_sample_by_basedir \\\n",
    "../output/kallisto_libraries/cbai_transcriptomev4.0/id073/abundance.tsv \\\n",
    "../output/kallisto_libraries/cbai_transcriptomev4.0/id151/abundance.tsv \\\n",
    "../output/kallisto_libraries/cbai_transcriptomev4.0/id113/abundance.tsv \\\n",
    "../output/kallisto_libraries/cbai_transcriptomev4.0/id178/abundance.tsv \\\n",
    "../output/kallisto_libraries/cbai_transcriptomev4.0/id118/abundance.tsv \\\n",
    "../output/kallisto_libraries/cbai_transcriptomev4.0/id132/abundance.tsv \\\n",
    "../output/kallisto_libraries/cbai_transcriptomev4.0/id427/abundance.tsv \\\n",
    "../output/kallisto_libraries/cbai_transcriptomev4.0/id445/abundance.tsv \\\n",
    "../output/kallisto_libraries/cbai_transcriptomev4.0/id425/abundance.tsv \\\n",
    "../output/kallisto_libraries/cbai_transcriptomev4.0/id463/abundance.tsv \\\n",
    "../output/kallisto_libraries/cbai_transcriptomev4.0/id481/abundance.tsv \\\n",
    "../output/kallisto_libraries/cbai_transcriptomev4.0/id485/abundance.tsv "
   ]
  },
  {
   "cell_type": "code",
   "execution_count": 6,
   "metadata": {},
   "outputs": [],
   "source": [
    "# Since the script outputs files in the working directory without an \n",
    "# option to change output dir, move all output over manually\n",
    "!mv kallisto.isoform.* ../output/kallisto_matrices/cbai_transcriptomev4.0/low0_amb0_vs_low17_amb17_indiv/"
   ]
  },
  {
   "cell_type": "markdown",
   "metadata": {},
   "source": [
    "#### Lowered Day 0 + Elevated Day 0 vs. Lowered Day 2 + Elevated Day 2"
   ]
  },
  {
   "cell_type": "code",
   "execution_count": 1,
   "metadata": {},
   "outputs": [
    {
     "name": "stdout",
     "output_type": "stream",
     "text": [
      "-reading file: ../output/kallisto_libraries/cbai_transcriptomev4.0/id073/abundance.tsv\n",
      "-reading file: ../output/kallisto_libraries/cbai_transcriptomev4.0/id151/abundance.tsv\n",
      "-reading file: ../output/kallisto_libraries/cbai_transcriptomev4.0/id113/abundance.tsv\n",
      "-reading file: ../output/kallisto_libraries/cbai_transcriptomev4.0/id173/abundance.tsv\n",
      "-reading file: ../output/kallisto_libraries/cbai_transcriptomev4.0/id072/abundance.tsv\n",
      "-reading file: ../output/kallisto_libraries/cbai_transcriptomev4.0/id127/abundance.tsv\n",
      "-reading file: ../output/kallisto_libraries/cbai_transcriptomev4.0/id221/abundance.tsv\n",
      "-reading file: ../output/kallisto_libraries/cbai_transcriptomev4.0/id254/abundance.tsv\n",
      "-reading file: ../output/kallisto_libraries/cbai_transcriptomev4.0/id222/abundance.tsv\n",
      "-reading file: ../output/kallisto_libraries/cbai_transcriptomev4.0/id272/abundance.tsv\n",
      "-reading file: ../output/kallisto_libraries/cbai_transcriptomev4.0/id294/abundance.tsv\n",
      "-reading file: ../output/kallisto_libraries/cbai_transcriptomev4.0/id280/abundance.tsv\n",
      "\n",
      "\n",
      "* Outputting combined matrix.\n",
      "\n",
      "/mnt/c/Users/acoyl/Documents/GradSchool/RobertsLab/Tools/Trinity/trinityrnaseq-v2.11.0/util/support_scripts/run_TMM_scale_matrix.pl --matrix kallisto.isoform.TPM.not_cross_norm > kallisto.isoform.TMM.EXPR.matrixCMD: R --no-save --no-restore --no-site-file --no-init-file -q < kallisto.isoform.TPM.not_cross_norm.runTMM.R 1>&2 \n",
      "/mnt/c/Users/acoyl/Downloads/anaconda3/lib/R/bin/exec/R: error while loading shared libraries: libreadline.so.6: cannot open shared object file: No such file or directory\n",
      "Error, cmd: R --no-save --no-restore --no-site-file --no-init-file -q < kallisto.isoform.TPM.not_cross_norm.runTMM.R 1>&2  died with ret (32512)  at /mnt/c/Users/acoyl/Documents/GradSchool/RobertsLab/Tools/Trinity/trinityrnaseq-v2.11.0/util/support_scripts/run_TMM_scale_matrix.pl line 105.\n",
      "Error, CMD: /mnt/c/Users/acoyl/Documents/GradSchool/RobertsLab/Tools/Trinity/trinityrnaseq-v2.11.0/util/support_scripts/run_TMM_scale_matrix.pl --matrix kallisto.isoform.TPM.not_cross_norm > kallisto.isoform.TMM.EXPR.matrix died with ret 6400 at ../../../GradSchool/RobertsLab/Tools/Trinity/trinityrnaseq-v2.11.0/util/abundance_estimates_to_matrix.pl line 385.\n"
     ]
    }
   ],
   "source": [
    "!../../../GradSchool/RobertsLab/Tools/Trinity/trinityrnaseq-v2.11.0/util/abundance_estimates_to_matrix.pl \\\n",
    "--est_method kallisto \\\n",
    "--gene_trans_map 'none' \\\n",
    "--out_prefix kallisto \\\n",
    "--name_sample_by_basedir \\\n",
    "../output/kallisto_libraries/cbai_transcriptomev4.0/id073/abundance.tsv \\\n",
    "../output/kallisto_libraries/cbai_transcriptomev4.0/id151/abundance.tsv \\\n",
    "../output/kallisto_libraries/cbai_transcriptomev4.0/id113/abundance.tsv \\\n",
    "../output/kallisto_libraries/cbai_transcriptomev4.0/id173/abundance.tsv \\\n",
    "../output/kallisto_libraries/cbai_transcriptomev4.0/id072/abundance.tsv \\\n",
    "../output/kallisto_libraries/cbai_transcriptomev4.0/id127/abundance.tsv \\\n",
    "../output/kallisto_libraries/cbai_transcriptomev4.0/id221/abundance.tsv \\\n",
    "../output/kallisto_libraries/cbai_transcriptomev4.0/id254/abundance.tsv \\\n",
    "../output/kallisto_libraries/cbai_transcriptomev4.0/id222/abundance.tsv \\\n",
    "../output/kallisto_libraries/cbai_transcriptomev4.0/id272/abundance.tsv \\\n",
    "../output/kallisto_libraries/cbai_transcriptomev4.0/id294/abundance.tsv \\\n",
    "../output/kallisto_libraries/cbai_transcriptomev4.0/id280/abundance.tsv "
   ]
  },
  {
   "cell_type": "code",
   "execution_count": 2,
   "metadata": {},
   "outputs": [],
   "source": [
    "# Since the script outputs files in the working directory without an \n",
    "# option to change output dir, move all output over manually\n",
    "!mv kallisto.isoform.* ../output/kallisto_matrices/cbai_transcriptomev4.0/low0_elev0_vs_low2_elev2_indiv/"
   ]
  },
  {
   "cell_type": "markdown",
   "metadata": {},
   "source": [
    "## All Individual Crabs\n",
    "\n",
    "Create another matrix for all individual libraries. Used to create a PCA of all libraries in the analysis. "
   ]
  },
  {
   "cell_type": "code",
   "execution_count": 2,
   "metadata": {},
   "outputs": [
    {
     "name": "stdout",
     "output_type": "stream",
     "text": [
      "-reading file: ../output/kallisto_libraries/cbai_transcriptomev4.0/id178/abundance.tsv\n",
      "-reading file: ../output/kallisto_libraries/cbai_transcriptomev4.0/id359/abundance.tsv\n",
      "-reading file: ../output/kallisto_libraries/cbai_transcriptomev4.0/id463/abundance.tsv\n",
      "-reading file: ../output/kallisto_libraries/cbai_transcriptomev4.0/id118/abundance.tsv\n",
      "-reading file: ../output/kallisto_libraries/cbai_transcriptomev4.0/id349/abundance.tsv\n",
      "-reading file: ../output/kallisto_libraries/cbai_transcriptomev4.0/id481/abundance.tsv\n",
      "-reading file: ../output/kallisto_libraries/cbai_transcriptomev4.0/id132/abundance.tsv\n",
      "-reading file: ../output/kallisto_libraries/cbai_transcriptomev4.0/id334/abundance.tsv\n",
      "-reading file: ../output/kallisto_libraries/cbai_transcriptomev4.0/id485/abundance.tsv\n",
      "-reading file: ../output/kallisto_libraries/cbai_transcriptomev4.0/id073/abundance.tsv\n",
      "-reading file: ../output/kallisto_libraries/cbai_transcriptomev4.0/id221/abundance.tsv\n",
      "-reading file: ../output/kallisto_libraries/cbai_transcriptomev4.0/id427/abundance.tsv\n",
      "-reading file: ../output/kallisto_libraries/cbai_transcriptomev4.0/id151/abundance.tsv\n",
      "-reading file: ../output/kallisto_libraries/cbai_transcriptomev4.0/id254/abundance.tsv\n",
      "-reading file: ../output/kallisto_libraries/cbai_transcriptomev4.0/id445/abundance.tsv\n",
      "-reading file: ../output/kallisto_libraries/cbai_transcriptomev4.0/id113/abundance.tsv\n",
      "-reading file: ../output/kallisto_libraries/cbai_transcriptomev4.0/id222/abundance.tsv\n",
      "-reading file: ../output/kallisto_libraries/cbai_transcriptomev4.0/id425/abundance.tsv\n",
      "-reading file: ../output/kallisto_libraries/cbai_transcriptomev4.0/id173/abundance.tsv\n",
      "-reading file: ../output/kallisto_libraries/cbai_transcriptomev4.0/id272/abundance.tsv\n",
      "-reading file: ../output/kallisto_libraries/cbai_transcriptomev4.0/id072/abundance.tsv\n",
      "-reading file: ../output/kallisto_libraries/cbai_transcriptomev4.0/id294/abundance.tsv\n",
      "-reading file: ../output/kallisto_libraries/cbai_transcriptomev4.0/id127/abundance.tsv\n",
      "-reading file: ../output/kallisto_libraries/cbai_transcriptomev4.0/id280/abundance.tsv\n",
      "\n",
      "\n",
      "* Outputting combined matrix.\n",
      "\n",
      "/mnt/c/Users/acoyl/Documents/GradSchool/RobertsLab/Tools/Trinity/trinityrnaseq-v2.11.0/util/support_scripts/run_TMM_scale_matrix.pl --matrix kallisto.isoform.TPM.not_cross_norm > kallisto.isoform.TMM.EXPR.matrixCMD: R --no-save --no-restore --no-site-file --no-init-file -q < kallisto.isoform.TPM.not_cross_norm.runTMM.R 1>&2 \n",
      "/mnt/c/Users/acoyl/Downloads/anaconda3/lib/R/bin/exec/R: error while loading shared libraries: libreadline.so.6: cannot open shared object file: No such file or directory\n",
      "Error, cmd: R --no-save --no-restore --no-site-file --no-init-file -q < kallisto.isoform.TPM.not_cross_norm.runTMM.R 1>&2  died with ret (32512)  at /mnt/c/Users/acoyl/Documents/GradSchool/RobertsLab/Tools/Trinity/trinityrnaseq-v2.11.0/util/support_scripts/run_TMM_scale_matrix.pl line 105.\n",
      "Error, CMD: /mnt/c/Users/acoyl/Documents/GradSchool/RobertsLab/Tools/Trinity/trinityrnaseq-v2.11.0/util/support_scripts/run_TMM_scale_matrix.pl --matrix kallisto.isoform.TPM.not_cross_norm > kallisto.isoform.TMM.EXPR.matrix died with ret 6400 at ../../../GradSchool/RobertsLab/Tools/Trinity/trinityrnaseq-v2.11.0/util/abundance_estimates_to_matrix.pl line 385.\n"
     ]
    }
   ],
   "source": [
    "!../../../GradSchool/RobertsLab/Tools/Trinity/trinityrnaseq-v2.11.0/util/abundance_estimates_to_matrix.pl \\\n",
    "--est_method kallisto \\\n",
    "--gene_trans_map 'none' \\\n",
    "--out_prefix kallisto \\\n",
    "--name_sample_by_basedir \\\n",
    "../output/kallisto_libraries/cbai_transcriptomev4.0/id178/abundance.tsv \\\n",
    "../output/kallisto_libraries/cbai_transcriptomev4.0/id359/abundance.tsv \\\n",
    "../output/kallisto_libraries/cbai_transcriptomev4.0/id463/abundance.tsv \\\n",
    "../output/kallisto_libraries/cbai_transcriptomev4.0/id118/abundance.tsv \\\n",
    "../output/kallisto_libraries/cbai_transcriptomev4.0/id349/abundance.tsv \\\n",
    "../output/kallisto_libraries/cbai_transcriptomev4.0/id481/abundance.tsv \\\n",
    "../output/kallisto_libraries/cbai_transcriptomev4.0/id132/abundance.tsv \\\n",
    "../output/kallisto_libraries/cbai_transcriptomev4.0/id334/abundance.tsv \\\n",
    "../output/kallisto_libraries/cbai_transcriptomev4.0/id485/abundance.tsv \\\n",
    "../output/kallisto_libraries/cbai_transcriptomev4.0/id073/abundance.tsv \\\n",
    "../output/kallisto_libraries/cbai_transcriptomev4.0/id221/abundance.tsv \\\n",
    "../output/kallisto_libraries/cbai_transcriptomev4.0/id427/abundance.tsv \\\n",
    "../output/kallisto_libraries/cbai_transcriptomev4.0/id151/abundance.tsv \\\n",
    "../output/kallisto_libraries/cbai_transcriptomev4.0/id254/abundance.tsv \\\n",
    "../output/kallisto_libraries/cbai_transcriptomev4.0/id445/abundance.tsv \\\n",
    "../output/kallisto_libraries/cbai_transcriptomev4.0/id113/abundance.tsv \\\n",
    "../output/kallisto_libraries/cbai_transcriptomev4.0/id222/abundance.tsv \\\n",
    "../output/kallisto_libraries/cbai_transcriptomev4.0/id425/abundance.tsv \\\n",
    "../output/kallisto_libraries/cbai_transcriptomev4.0/id173/abundance.tsv \\\n",
    "../output/kallisto_libraries/cbai_transcriptomev4.0/id272/abundance.tsv \\\n",
    "../output/kallisto_libraries/cbai_transcriptomev4.0/id072/abundance.tsv \\\n",
    "../output/kallisto_libraries/cbai_transcriptomev4.0/id294/abundance.tsv \\\n",
    "../output/kallisto_libraries/cbai_transcriptomev4.0/id127/abundance.tsv \\\n",
    "../output/kallisto_libraries/cbai_transcriptomev4.0/id280/abundance.tsv"
   ]
  },
  {
   "cell_type": "code",
   "execution_count": 3,
   "metadata": {},
   "outputs": [],
   "source": [
    "# Since the script outputs files in the working directory without an \n",
    "# option to change output dir, move all output over manually\n",
    "!mv kallisto.isoform.* ../output/kallisto_matrices/cbai_transcriptomev4.0/all_indiv_libraries/"
   ]
  },
  {
   "cell_type": "markdown",
   "metadata": {},
   "source": [
    "This completes our kallisto analysis and matrix creation. Move to the Rmd file 42_kallisto_to_deseq_to_accessionIDs to begin differential gene expression analysis using DESeq2"
   ]
  }
 ],
 "metadata": {
  "kernelspec": {
   "display_name": "Python 3",
   "language": "python",
   "name": "python3"
  },
  "language_info": {
   "codemirror_mode": {
    "name": "ipython",
    "version": 3
   },
   "file_extension": ".py",
   "mimetype": "text/x-python",
   "name": "python",
   "nbconvert_exporter": "python",
   "pygments_lexer": "ipython3",
   "version": "3.8.3"
  }
 },
 "nbformat": 4,
 "nbformat_minor": 4
}

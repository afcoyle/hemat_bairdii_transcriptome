{
 "cells": [
  {
   "cell_type": "markdown",
   "metadata": {},
   "source": [
    "Aspen Coyle, afcoyle@uw.edu\n",
    "\n",
    "2021/03/20\n",
    "\n",
    "Roberts lab at SAFS\n",
    "\n",
    "### Removing duplicate lines from genes\n",
    "\n",
    "Completed getting all our GO terms! Now, time to get input for GO-MWU.\n",
    "We need 2 tables:\n",
    "- A 2-column table of genes and GO terms\n",
    "- A 2-column table of genes and log2 fold change without repeated genes\n",
    "\n",
    "The table of genes and log2 fold change is created using R in the script 45_GO-MWU_prep.R\n",
    "In getting GO terms, we made a 2-col tab-separated table of genes and GO terms.\n",
    "Now we need to eliminate all repeated genes. To do this, we'll use the nrify_GOtable.pl script. \n",
    "This can be found in the [GitHub repo for GO-MWU](https://github.com/z0on/GO_MWU)\n",
    "\n",
    "We'll put these files in a subdirectory within the scripts directory, as this is what GO-MWU calls for. All GO-MWU files are also within that directory"
   ]
  },
  {
   "cell_type": "code",
   "execution_count": 1,
   "metadata": {},
   "outputs": [
    {
     "data": {
      "text/plain": [
       "'/mnt/c/Users/acoyl/Documents/GitHub/hemat_bairdi_transcriptome/scripts'"
      ]
     },
     "execution_count": 1,
     "metadata": {},
     "output_type": "execute_result"
    }
   ],
   "source": [
    "pwd"
   ]
  },
  {
   "cell_type": "code",
   "execution_count": 2,
   "metadata": {},
   "outputs": [],
   "source": [
    "# Eliminate gene repeats, concatenate GO terms for Elevated Day 2 vs. Ambient Day 0+2, indiv. libraries only\n",
    "!4_6_running_GO-MWU/./nrify_GOtable.pl ../output/accession_n_GOids/cbai_transcriptomev4.0/allgenes_IDs/elev0_vs_elev2_indiv_All_GOIDs.txt > 4_6_running_GO-MWU/cbai4.0_elev0_vs_elev2_indiv_GOIDs_norepeats.txt"
   ]
  },
  {
   "cell_type": "code",
   "execution_count": 3,
   "metadata": {},
   "outputs": [
    {
     "name": "stdout",
     "output_type": "stream",
     "text": [
      "15519 4_6_running_GO-MWU/cbai4.0_elev0_vs_elev2_indiv_GOIDs_norepeats.txt\n"
     ]
    }
   ],
   "source": [
    "# See length of file without repeats\n",
    "!wc -l 4_6_running_GO-MWU/cbai4.0_elev0_vs_elev2_indiv_GOIDs_norepeats.txt"
   ]
  },
  {
   "cell_type": "code",
   "execution_count": 4,
   "metadata": {},
   "outputs": [
    {
     "name": "stdout",
     "output_type": "stream",
     "text": [
      "15519\n"
     ]
    }
   ],
   "source": [
    "# Manually see how many repeats we have - looks indentical, script running properly\n",
    "!sort ../output/accession_n_GOids/cbai_transcriptomev4.0/allgenes_IDs/elev0_vs_elev2_indiv_All_GOIDs.txt | uniq | wc -l"
   ]
  },
  {
   "cell_type": "code",
   "execution_count": 1,
   "metadata": {},
   "outputs": [],
   "source": [
    "# Continue with comparison of Day 2 Ambient vs. Day 2 Elevated, individual libraries only\n",
    "!4_6_running_GO-MWU/./nrify_GOtable.pl ../output/accession_n_GOids/cbai_transcriptomev4.0/allgenes_IDs/amb2_vs_elev2_indiv_All_GOIDs.txt >  4_6_running_GO-MWU/cbai4.0_amb2_vs_elev2_indiv_GOIDs_norepeats.txt"
   ]
  },
  {
   "cell_type": "code",
   "execution_count": 2,
   "metadata": {},
   "outputs": [],
   "source": [
    "# Continue with comparison of Day 0 Ambient vs. Day 2 Ambient, individual libraries only\n",
    "!4_6_running_GO-MWU/./nrify_GOtable.pl ../output/accession_n_GOids/cbai_transcriptomev4.0/allgenes_IDs/amb0_vs_amb2_indiv_All_GOIDs.txt >  4_6_running_GO-MWU/cbai4.0_amb0_vs_amb2_indiv_GOIDs_norepeats.txt"
   ]
  },
  {
   "cell_type": "code",
   "execution_count": 3,
   "metadata": {},
   "outputs": [],
   "source": [
    "# Continue with comparison of Day 0 Ambient vs. Day 17 Ambient, individual libraries only\n",
    "!4_6_running_GO-MWU/./nrify_GOtable.pl ../output/accession_n_GOids/cbai_transcriptomev4.0/allgenes_IDs/amb0_vs_amb17_indiv_All_GOIDs.txt > 4_6_running_GO-MWU/cbai4.0_amb0_vs_amb17_indiv_GOIDs_norepeats.txt"
   ]
  },
  {
   "cell_type": "code",
   "execution_count": 1,
   "metadata": {},
   "outputs": [],
   "source": [
    "# Continue with comparison of Day 2 Ambient vs. Day 17 Ambient, individual libraries only\n",
    "!4_6_running_GO-MWU/./nrify_GOtable.pl ../output/accession_n_GOids/cbai_transcriptomev4.0/allgenes_IDs/amb2_vs_amb17_indiv_All_GOIDs.txt > 4_6_running_GO-MWU/cbai4.0_amb2_vs_amb17_indiv_GOIDs_norepeats.txt"
   ]
  },
  {
   "cell_type": "code",
   "execution_count": 1,
   "metadata": {},
   "outputs": [],
   "source": [
    "# Continue with comparison of Day 0 Lowered vs. Day 2 Lowered, individual libraries only\n",
    "!4_6_running_GO-MWU/./nrify_GOtable.pl ../output/accession_n_GOids/cbai_transcriptomev4.0/allgenes_IDs/low0_vs_low2_indiv_All_GOIDs.txt > 4_6_running_GO-MWU/cbai4.0_low0_vs_low2_indiv_GOIDs_norepeats.txt"
   ]
  },
  {
   "cell_type": "code",
   "execution_count": 2,
   "metadata": {},
   "outputs": [],
   "source": [
    "# Continue with comparison of Day 0 Lowered vs. Day 2+17 Lowered, individual libraries only\n",
    "!4_6_running_GO-MWU/./nrify_GOtable.pl ../output/accession_n_GOids/cbai_transcriptomev4.0/allgenes_IDs/low0_vs_low217_indiv_All_GOIDs.txt > 4_6_running_GO-MWU/cbai4.0_low0_vs_low217_indiv_GOIDs_norepeats.txt"
   ]
  },
  {
   "cell_type": "code",
   "execution_count": 3,
   "metadata": {},
   "outputs": [],
   "source": [
    "# Continue with comparison of Lowered Day 0 + Ambient Day 0/2/17 vs. Lowered Day 2/17, individual libraries only\n",
    "!4_6_running_GO-MWU/./nrify_GOtable.pl ../output/accession_n_GOids/cbai_transcriptomev4.0/allgenes_IDs/low0_amb0217_vs_low217_indiv_All_GOIDs.txt > 4_6_running_GO-MWU/cbai4.0_low0_amb0217_vs_low217_indiv_GOIDs_norepeats.txt"
   ]
  },
  {
   "cell_type": "code",
   "execution_count": 4,
   "metadata": {},
   "outputs": [],
   "source": [
    "# Continue with comparison of Lowered Day 2 + 17 vs. Ambient Day 2 + 17, individual libraries only\n",
    "!4_6_running_GO-MWU/./nrify_GOtable.pl ../output/accession_n_GOids/cbai_transcriptomev4.0/allgenes_IDs/low217_vs_amb217_indiv_All_GOIDs.txt > 4_6_running_GO-MWU/cbai4.0_low217_vs_amb217_indiv_GOIDs_norepeats.txt"
   ]
  },
  {
   "cell_type": "code",
   "execution_count": 1,
   "metadata": {},
   "outputs": [],
   "source": [
    "# Continue with comparison of Lowered Day 0 vs. Ambient Day 0, individual libraries only\n",
    "!4_6_running_GO-MWU/./nrify_GOtable.pl ../output/accession_n_GOids/cbai_transcriptomev4.0/allgenes_IDs/low0_vs_amb0_indiv_All_GOIDs.txt > 4_6_running_GO-MWU/cbai4.0_low0_vs_amb0_indiv_GOIDs_norepeats.txt"
   ]
  },
  {
   "cell_type": "code",
   "execution_count": 2,
   "metadata": {},
   "outputs": [],
   "source": [
    "# Continue with comparison of Lowered Day 0 vs. Lowered Day 17, individual libraries only\n",
    "!4_6_running_GO-MWU/./nrify_GOtable.pl ../output/accession_n_GOids/cbai_transcriptomev4.0/allgenes_IDs/low0_vs_low17_indiv_All_GOIDs.txt > 4_6_running_GO-MWU/cbai4.0_low0_vs_low17_indiv_GOIDs_norepeats.txt"
   ]
  },
  {
   "cell_type": "code",
   "execution_count": 3,
   "metadata": {},
   "outputs": [],
   "source": [
    "# Continue with comparison of Lowered Day 0 + Ambient Day 0 vs. Lowered Day 17 + Ambient Day 17, individual libraries only\n",
    "!4_6_running_GO-MWU/./nrify_GOtable.pl ../output/accession_n_GOids/cbai_transcriptomev4.0/allgenes_IDs/low0_amb0_vs_low17_amb17_indiv_All_GOIDs.txt > 4_6_running_GO-MWU/cbai4.0_low0_amb0_vs_low17_amb17_indiv_GOIDs_norepeats.txt"
   ]
  },
  {
   "cell_type": "code",
   "execution_count": 2,
   "metadata": {},
   "outputs": [],
   "source": [
    "# Continue with comparison of Lowered Day 0 + Elevated Day 0 vs. Lowered Day 2 + Elevated Day 2, individual libraries only\n",
    "!4_6_running_GO-MWU/./nrify_GOtable.pl ../output/accession_n_GOids/cbai_transcriptomev4.0/allgenes_IDs/low0_elev0_vs_low2_elev2_indiv_All_GOIDs.txt > 4_6_running_GO-MWU/cbai4.0_low0_elev0_vs_low2_elev2_indiv_GOIDs_norepeats.txt"
   ]
  },
  {
   "cell_type": "markdown",
   "metadata": {},
   "source": [
    "Well done! Each comparison should now have one of our two inputs needed for GO-MWU. Continue to 45_GO-MWU_prep.R to create the other input."
   ]
  }
 ],
 "metadata": {
  "kernelspec": {
   "display_name": "Python 3",
   "language": "python",
   "name": "python3"
  },
  "language_info": {
   "codemirror_mode": {
    "name": "ipython",
    "version": 3
   },
   "file_extension": ".py",
   "mimetype": "text/x-python",
   "name": "python",
   "nbconvert_exporter": "python",
   "pygments_lexer": "ipython3",
   "version": "3.8.3"
  }
 },
 "nbformat": 4,
 "nbformat_minor": 4
}

{
 "cells": [
  {
   "cell_type": "markdown",
   "metadata": {},
   "source": [
    "Aidan Coyle\n",
    "\n",
    "afcoyle@uw.edu\n",
    "\n",
    "2021-07-01\n",
    "\n",
    "Roberts Lab, UW-SAFS"
   ]
  },
  {
   "cell_type": "markdown",
   "metadata": {},
   "source": [
    "In script 7_1_manual_clustering_cbaiv4.0.Rmd, we took libraries aligned to a transcriptome filtered to only include presumed _Chionoecetes bairdi_ genes, grouped them according to crab (e.g. took all libraries for Crab A, B, C...) and clustered gene expression into modules based on expression patterns\n",
    "\n",
    "Note that in this script, we have two additional crab - Crab D and F - than in scripts 7_4 and 7_5. This is because crabs D and F were uninfected, and therefore it only made sense to align them to a _C. bairdi_ -only library.\n",
    "\n",
    "We then described the expression patterns of each module as following one of five patterns. Crabs with three time points (ambient- and lowered-temperature treatment crab) had the following notation used:\n",
    "\n",
    "- High to low (HTL): Expression decreases over time (regardless of whether the decrease took place on Day 2 or Day 17)\n",
    "\n",
    "- Low to high (LTH): Expression increases over time (regardless of whether the increase took place on Day 2 or Day 17)\n",
    "\n",
    "- Low High Low (LHL): Expression increases on Day 2, and then drops on Day 17\n",
    "\n",
    "- High Low High (HLH): Expression drops on Day 2 and then increases on Day 17\n",
    "\n",
    "- Mixed (MIX): Expression within the module follows no clear pattern\n",
    "\n",
    "Crabs in the Elevated-temperature treatment group had only two time points (crabs G, H, and I). For these, a different notation was used. \n",
    "\n",
    "- LL = expression stays low\n",
    "\n",
    "- HH = expression stays high\n",
    "\n",
    "- LH = expression goes from low to high\n",
    "\n",
    "- HL = expression goes from high to low\n",
    "\n",
    "- MIX = mixed - no clear pattern of expression within the module"
   ]
  },
  {
   "cell_type": "markdown",
   "metadata": {},
   "source": [
    "Importantly, **multiple modules within a single crab could be given the same assignment**. This issue is what this script is meant to solve by merging gene lists."
   ]
  },
  {
   "cell_type": "markdown",
   "metadata": {},
   "source": [
    "First, let's see an example of one crab"
   ]
  },
  {
   "cell_type": "code",
   "execution_count": 3,
   "metadata": {},
   "outputs": [
    {
     "name": "stdout",
     "output_type": "stream",
     "text": [
      "cluster_HLH.txt\t\t  cluster_LHL.txt\t    cluster_LTH3_heatmap.png\n",
      "cluster_HLH_heatmap.png   cluster_LHL_heatmap.png   cluster_LTH_heatmap.png\n",
      "cluster_HTL.txt\t\t  cluster_LTH.txt\t    heatmap.png\n",
      "cluster_HTL2.txt\t  cluster_LTH2.txt\t    manual_clustnums\n",
      "cluster_HTL2_heatmap.png  cluster_LTH2_heatmap.png\n",
      "cluster_HTL_heatmap.png   cluster_LTH3.txt\n"
     ]
    }
   ],
   "source": [
    "!ls ../output/manual_clustering/cbai_transcriptomev4.0/Crab_A/"
   ]
  },
  {
   "cell_type": "markdown",
   "metadata": {},
   "source": [
    "And let's also see what each cluster looks like"
   ]
  },
  {
   "cell_type": "code",
   "execution_count": 4,
   "metadata": {},
   "outputs": [
    {
     "name": "stdout",
     "output_type": "stream",
     "text": [
      "\"id178_TPM\"\t\"id359_TPM\"\t\"id463_TPM\"\n",
      "\"TRINITY_DN0_c2_g1_i16\"\t17.5085\t14.8448\t16.3822\n",
      "\"TRINITY_DN2974_c0_g2_i1\"\t30.3466\t14.5954\t23.4665\n",
      "\"TRINITY_DN2994_c0_g1_i14\"\t3.86961\t0.28522\t2.96975\n",
      "\"TRINITY_DN468_c0_g1_i10\"\t2.44991\t1.27697\t2.14369\n",
      "\"TRINITY_DN1192_c2_g1_i4\"\t2.98742\t0.60322\t2.73096\n",
      "\"TRINITY_DN16297_c1_g1_i1\"\t2.88039\t0.578571\t1.87961\n",
      "\"TRINITY_DN16312_c0_g1_i1\"\t3.28456\t1.27841\t2.32001\n",
      "\"TRINITY_DN15552_c0_g1_i1\"\t3.114\t1.39303\t2.36459\n",
      "\"TRINITY_DN8275_c0_g1_i1\"\t2.94605\t0.542647\t2.84651\n"
     ]
    }
   ],
   "source": [
    "!head ../output/manual_clustering/cbai_transcriptomev4.0/Crab_A/cluster_HLH.txt"
   ]
  },
  {
   "cell_type": "markdown",
   "metadata": {},
   "source": [
    "Looks like we need to remove the first line of each file - otherwise, when we merge modules, the header line will be included. And since columns correspond to days 0, 2, and 17 samples, it's not too meaningful\n",
    "\n",
    "Now, let's see how many crab folders we have"
   ]
  },
  {
   "cell_type": "code",
   "execution_count": 5,
   "metadata": {},
   "outputs": [
    {
     "name": "stdout",
     "output_type": "stream",
     "text": [
      "Crab_A\tCrab_B\tCrab_C\tCrab_D\tCrab_E\tCrab_F\tCrab_G\tCrab_H\tCrab_I\n"
     ]
    }
   ],
   "source": [
    "!ls ../output/manual_clustering/cbai_transcriptomev4.0/"
   ]
  },
  {
   "cell_type": "markdown",
   "metadata": {},
   "source": [
    "Looks good! We can move on."
   ]
  },
  {
   "cell_type": "markdown",
   "metadata": {},
   "source": [
    "## Crab A\n",
    "\n",
    "We'll now start on merging all modules for Crab A\n",
    "\n",
    "Let's take another look at the current modules for Crab A"
   ]
  },
  {
   "cell_type": "code",
   "execution_count": 6,
   "metadata": {},
   "outputs": [
    {
     "name": "stdout",
     "output_type": "stream",
     "text": [
      "cluster_HLH.txt\t\t  cluster_LHL.txt\t    cluster_LTH3_heatmap.png\n",
      "cluster_HLH_heatmap.png   cluster_LHL_heatmap.png   cluster_LTH_heatmap.png\n",
      "cluster_HTL.txt\t\t  cluster_LTH.txt\t    heatmap.png\n",
      "cluster_HTL2.txt\t  cluster_LTH2.txt\t    manual_clustnums\n",
      "cluster_HTL2_heatmap.png  cluster_LTH2_heatmap.png\n",
      "cluster_HTL_heatmap.png   cluster_LTH3.txt\n"
     ]
    }
   ],
   "source": [
    "!ls ../output/manual_clustering/cbai_transcriptomev4.0/Crab_A/"
   ]
  },
  {
   "cell_type": "code",
   "execution_count": 7,
   "metadata": {},
   "outputs": [],
   "source": [
    "# Make new directory for merged modules\n",
    "!mkdir ../output/manual_clustering/cbai_transcriptomev4.0/Crab_A/merged_modules\n",
    "\n",
    "# Merge all HTL modules\n",
    "!find ../output/manual_clustering/cbai_transcriptomev4.0/Crab_A -maxdepth 1 -name cluster_HTL*txt | xargs -n 1 tail -n +2 > ../output/manual_clustering/cbai_transcriptomev4.0/Crab_A/merged_modules/HTL_merged.txt\n",
    "\n",
    "# Merge all LTH modules\n",
    "!find ../output/manual_clustering/cbai_transcriptomev4.0/Crab_A -maxdepth 1 -name cluster_LTH*txt | xargs -n 1 tail -n +2 > ../output/manual_clustering/cbai_transcriptomev4.0/Crab_A/merged_modules/LTH_merged.txt\n",
    "\n",
    "# Merge all HLH modules\n",
    "!find ../output/manual_clustering/cbai_transcriptomev4.0/Crab_A -maxdepth 1 -name cluster_HLH*txt | xargs -n 1 tail -n +2 > ../output/manual_clustering/cbai_transcriptomev4.0/Crab_A/merged_modules/HLH_merged.txt\n",
    "\n",
    "# Merge all LHL modules\n",
    "!find ../output/manual_clustering/cbai_transcriptomev4.0/Crab_A -maxdepth 1 -name cluster_LHL*txt | xargs -n 1 tail -n +2 > ../output/manual_clustering/cbai_transcriptomev4.0/Crab_A/merged_modules/LHL_merged.txt\n",
    "\n",
    "# Won't merge MIX modules, as none are present in this crab"
   ]
  },
  {
   "cell_type": "markdown",
   "metadata": {},
   "source": [
    "Check we did this right by examining number of lines. There will be slightly fewer in merged_modules, as we removed headers"
   ]
  },
  {
   "cell_type": "code",
   "execution_count": 8,
   "metadata": {},
   "outputs": [
    {
     "name": "stdout",
     "output_type": "stream",
     "text": [
      "    49 ../output/manual_clustering/cbai_transcriptomev4.0/Crab_A/cluster_HLH.txt\n",
      "  3666 ../output/manual_clustering/cbai_transcriptomev4.0/Crab_A/cluster_HTL.txt\n",
      "   602 ../output/manual_clustering/cbai_transcriptomev4.0/Crab_A/cluster_HTL2.txt\n",
      "  4583 ../output/manual_clustering/cbai_transcriptomev4.0/Crab_A/cluster_LHL.txt\n",
      "  1335 ../output/manual_clustering/cbai_transcriptomev4.0/Crab_A/cluster_LTH.txt\n",
      "   672 ../output/manual_clustering/cbai_transcriptomev4.0/Crab_A/cluster_LTH2.txt\n",
      "  1289 ../output/manual_clustering/cbai_transcriptomev4.0/Crab_A/cluster_LTH3.txt\n",
      " 12196 total\n"
     ]
    }
   ],
   "source": [
    "!wc -l ../output/manual_clustering/cbai_transcriptomev4.0/Crab_A/cluster_*txt"
   ]
  },
  {
   "cell_type": "code",
   "execution_count": 9,
   "metadata": {},
   "outputs": [
    {
     "name": "stdout",
     "output_type": "stream",
     "text": [
      "    48 ../output/manual_clustering/cbai_transcriptomev4.0/Crab_A/merged_modules/HLH_merged.txt\n",
      "  4266 ../output/manual_clustering/cbai_transcriptomev4.0/Crab_A/merged_modules/HTL_merged.txt\n",
      "  4582 ../output/manual_clustering/cbai_transcriptomev4.0/Crab_A/merged_modules/LHL_merged.txt\n",
      "  3293 ../output/manual_clustering/cbai_transcriptomev4.0/Crab_A/merged_modules/LTH_merged.txt\n",
      " 12189 total\n"
     ]
    }
   ],
   "source": [
    "!wc -l ../output/manual_clustering/cbai_transcriptomev4.0/Crab_A/merged_modules/*merged.txt"
   ]
  },
  {
   "cell_type": "markdown",
   "metadata": {},
   "source": [
    "Looks good! We can move on."
   ]
  },
  {
   "cell_type": "markdown",
   "metadata": {},
   "source": [
    "## Crab B"
   ]
  },
  {
   "cell_type": "code",
   "execution_count": 10,
   "metadata": {},
   "outputs": [
    {
     "name": "stdout",
     "output_type": "stream",
     "text": [
      "cluster_HLH.txt\t\t  cluster_LHL.txt\t    cluster_LTH2_heatmap.png\n",
      "cluster_HLH_heatmap.png   cluster_LHL2.txt\t    cluster_LTH_heatmap.png\n",
      "cluster_HTL.txt\t\t  cluster_LHL2_heatmap.png  heatmap.png\n",
      "cluster_HTL2.txt\t  cluster_LHL_heatmap.png   manual_clustnums\n",
      "cluster_HTL2_heatmap.png  cluster_LTH.txt\n",
      "cluster_HTL_heatmap.png   cluster_LTH2.txt\n"
     ]
    }
   ],
   "source": [
    "!ls ../output/manual_clustering/cbai_transcriptomev4.0/Crab_B/"
   ]
  },
  {
   "cell_type": "code",
   "execution_count": 11,
   "metadata": {},
   "outputs": [],
   "source": [
    "# Make new directory for merged modules\n",
    "!mkdir ../output/manual_clustering/cbai_transcriptomev4.0/Crab_B/merged_modules\n",
    "\n",
    "# Merge all HTL modules\n",
    "!find ../output/manual_clustering/cbai_transcriptomev4.0/Crab_B -maxdepth 1 -name cluster_HTL*txt | xargs -n 1 tail -n +2 > ../output/manual_clustering/cbai_transcriptomev4.0/Crab_B/merged_modules/HTL_merged.txt\n",
    "\n",
    "# Merge all LTH modules\n",
    "!find ../output/manual_clustering/cbai_transcriptomev4.0/Crab_B -maxdepth 1 -name cluster_LTH*txt | xargs -n 1 tail -n +2 > ../output/manual_clustering/cbai_transcriptomev4.0/Crab_B/merged_modules/LTH_merged.txt\n",
    "\n",
    "# Merge all HLH modules\n",
    "!find ../output/manual_clustering/cbai_transcriptomev4.0/Crab_B -maxdepth 1 -name cluster_HLH*txt | xargs -n 1 tail -n +2 > ../output/manual_clustering/cbai_transcriptomev4.0/Crab_B/merged_modules/HLH_merged.txt\n",
    "\n",
    "# Merge all LHL modules\n",
    "!find ../output/manual_clustering/cbai_transcriptomev4.0/Crab_B -maxdepth 1 -name cluster_LHL*txt | xargs -n 1 tail -n +2 > ../output/manual_clustering/cbai_transcriptomev4.0/Crab_B/merged_modules/LHL_merged.txt\n",
    "\n",
    "# Won't merge MIX modules, as none are present in this crab"
   ]
  },
  {
   "cell_type": "markdown",
   "metadata": {},
   "source": [
    "Check we did this right by examining number of lines. There will be slightly fewer in merged_modules, as we removed headers"
   ]
  },
  {
   "cell_type": "code",
   "execution_count": 12,
   "metadata": {},
   "outputs": [
    {
     "name": "stdout",
     "output_type": "stream",
     "text": [
      "   925 ../output/manual_clustering/cbai_transcriptomev4.0/Crab_B/cluster_HLH.txt\n",
      "  1506 ../output/manual_clustering/cbai_transcriptomev4.0/Crab_B/cluster_HTL.txt\n",
      "   348 ../output/manual_clustering/cbai_transcriptomev4.0/Crab_B/cluster_HTL2.txt\n",
      "  8280 ../output/manual_clustering/cbai_transcriptomev4.0/Crab_B/cluster_LHL.txt\n",
      "  1250 ../output/manual_clustering/cbai_transcriptomev4.0/Crab_B/cluster_LHL2.txt\n",
      "  3092 ../output/manual_clustering/cbai_transcriptomev4.0/Crab_B/cluster_LTH.txt\n",
      "  2627 ../output/manual_clustering/cbai_transcriptomev4.0/Crab_B/cluster_LTH2.txt\n",
      " 18028 total\n"
     ]
    }
   ],
   "source": [
    "!wc -l ../output/manual_clustering/cbai_transcriptomev4.0/Crab_B/cluster_*txt"
   ]
  },
  {
   "cell_type": "code",
   "execution_count": 13,
   "metadata": {},
   "outputs": [
    {
     "name": "stdout",
     "output_type": "stream",
     "text": [
      "   924 ../output/manual_clustering/cbai_transcriptomev4.0/Crab_B/merged_modules/HLH_merged.txt\n",
      "  1852 ../output/manual_clustering/cbai_transcriptomev4.0/Crab_B/merged_modules/HTL_merged.txt\n",
      "  9528 ../output/manual_clustering/cbai_transcriptomev4.0/Crab_B/merged_modules/LHL_merged.txt\n",
      "  5717 ../output/manual_clustering/cbai_transcriptomev4.0/Crab_B/merged_modules/LTH_merged.txt\n",
      " 18021 total\n"
     ]
    }
   ],
   "source": [
    "!wc -l ../output/manual_clustering/cbai_transcriptomev4.0/Crab_B/merged_modules/*merged.txt"
   ]
  },
  {
   "cell_type": "markdown",
   "metadata": {},
   "source": [
    "Looks good! We can move on."
   ]
  },
  {
   "cell_type": "markdown",
   "metadata": {},
   "source": [
    "## Crab C"
   ]
  },
  {
   "cell_type": "code",
   "execution_count": 14,
   "metadata": {},
   "outputs": [
    {
     "name": "stdout",
     "output_type": "stream",
     "text": [
      "cluster_HLH.txt\t\t  cluster_HTL3_heatmap.png  cluster_LTH2_heatmap.png\n",
      "cluster_HLH_heatmap.png   cluster_HTL_heatmap.png   cluster_LTH_heatmap.png\n",
      "cluster_HTL.txt\t\t  cluster_LHL.txt\t    heatmap.png\n",
      "cluster_HTL2.txt\t  cluster_LHL_heatmap.png   manual_clustnums\n",
      "cluster_HTL2_heatmap.png  cluster_LTH.txt\n",
      "cluster_HTL3.txt\t  cluster_LTH2.txt\n"
     ]
    }
   ],
   "source": [
    "!ls ../output/manual_clustering/cbai_transcriptomev4.0/Crab_C/"
   ]
  },
  {
   "cell_type": "code",
   "execution_count": 15,
   "metadata": {},
   "outputs": [],
   "source": [
    "# Make new directory for merged modules\n",
    "!mkdir ../output/manual_clustering/cbai_transcriptomev4.0/Crab_C/merged_modules\n",
    "\n",
    "# Merge all HTL modules\n",
    "!find ../output/manual_clustering/cbai_transcriptomev4.0/Crab_C -maxdepth 1 -name cluster_HTL*txt | xargs -n 1 tail -n +2 > ../output/manual_clustering/cbai_transcriptomev4.0/Crab_C/merged_modules/HTL_merged.txt\n",
    "\n",
    "# Merge all LTH modules\n",
    "!find ../output/manual_clustering/cbai_transcriptomev4.0/Crab_C -maxdepth 1 -name cluster_LTH*txt | xargs -n 1 tail -n +2 > ../output/manual_clustering/cbai_transcriptomev4.0/Crab_C/merged_modules/LTH_merged.txt\n",
    "\n",
    "# Merge all HLH modules\n",
    "!find ../output/manual_clustering/cbai_transcriptomev4.0/Crab_C -maxdepth 1 -name cluster_HLH*txt | xargs -n 1 tail -n +2 > ../output/manual_clustering/cbai_transcriptomev4.0/Crab_C/merged_modules/HLH_merged.txt\n",
    "\n",
    "# Merge all LHL modules\n",
    "!find ../output/manual_clustering/cbai_transcriptomev4.0/Crab_C -maxdepth 1 -name cluster_LHL*txt | xargs -n 1 tail -n +2 > ../output/manual_clustering/cbai_transcriptomev4.0/Crab_C/merged_modules/LHL_merged.txt\n",
    "\n",
    "# Won't merge MIX modules, as none are present in this crab"
   ]
  },
  {
   "cell_type": "markdown",
   "metadata": {},
   "source": [
    "Check we did this right by examining number of lines. There will be slightly fewer in merged_modules, as we removed headers"
   ]
  },
  {
   "cell_type": "code",
   "execution_count": 16,
   "metadata": {},
   "outputs": [
    {
     "name": "stdout",
     "output_type": "stream",
     "text": [
      "  1998 ../output/manual_clustering/cbai_transcriptomev4.0/Crab_C/cluster_HLH.txt\n",
      "  1730 ../output/manual_clustering/cbai_transcriptomev4.0/Crab_C/cluster_HTL.txt\n",
      "   898 ../output/manual_clustering/cbai_transcriptomev4.0/Crab_C/cluster_HTL2.txt\n",
      "  1395 ../output/manual_clustering/cbai_transcriptomev4.0/Crab_C/cluster_HTL3.txt\n",
      "   320 ../output/manual_clustering/cbai_transcriptomev4.0/Crab_C/cluster_LHL.txt\n",
      "  3840 ../output/manual_clustering/cbai_transcriptomev4.0/Crab_C/cluster_LTH.txt\n",
      "   363 ../output/manual_clustering/cbai_transcriptomev4.0/Crab_C/cluster_LTH2.txt\n",
      " 10544 total\n"
     ]
    }
   ],
   "source": [
    "!wc -l ../output/manual_clustering/cbai_transcriptomev4.0/Crab_C/cluster_*txt"
   ]
  },
  {
   "cell_type": "code",
   "execution_count": 17,
   "metadata": {},
   "outputs": [
    {
     "name": "stdout",
     "output_type": "stream",
     "text": [
      "  1997 ../output/manual_clustering/cbai_transcriptomev4.0/Crab_C/merged_modules/HLH_merged.txt\n",
      "  4020 ../output/manual_clustering/cbai_transcriptomev4.0/Crab_C/merged_modules/HTL_merged.txt\n",
      "   319 ../output/manual_clustering/cbai_transcriptomev4.0/Crab_C/merged_modules/LHL_merged.txt\n",
      "  4201 ../output/manual_clustering/cbai_transcriptomev4.0/Crab_C/merged_modules/LTH_merged.txt\n",
      " 10537 total\n"
     ]
    }
   ],
   "source": [
    "!wc -l ../output/manual_clustering/cbai_transcriptomev4.0/Crab_C/merged_modules/*merged.txt"
   ]
  },
  {
   "cell_type": "markdown",
   "metadata": {},
   "source": [
    "Looks good! We can move on."
   ]
  },
  {
   "cell_type": "markdown",
   "metadata": {},
   "source": [
    "## Crab D"
   ]
  },
  {
   "cell_type": "code",
   "execution_count": 18,
   "metadata": {},
   "outputs": [
    {
     "name": "stdout",
     "output_type": "stream",
     "text": [
      "cluster_HLH.txt\t\t cluster_LHL_heatmap.png   cluster_MIX.txt\n",
      "cluster_HLH_heatmap.png  cluster_LTH.txt\t   cluster_MIX_heatmap.png\n",
      "cluster_HTL.txt\t\t cluster_LTH2.txt\t   heatmap.png\n",
      "cluster_HTL_heatmap.png  cluster_LTH2_heatmap.png  manual_clustnums\n",
      "cluster_LHL.txt\t\t cluster_LTH_heatmap.png\n"
     ]
    }
   ],
   "source": [
    "!ls ../output/manual_clustering/cbai_transcriptomev4.0/Crab_D/"
   ]
  },
  {
   "cell_type": "code",
   "execution_count": 19,
   "metadata": {},
   "outputs": [],
   "source": [
    "# Make new directory for merged modules\n",
    "!mkdir ../output/manual_clustering/cbai_transcriptomev4.0/Crab_D/merged_modules\n",
    "\n",
    "# Merge all HTL modules\n",
    "!find ../output/manual_clustering/cbai_transcriptomev4.0/Crab_D -maxdepth 1 -name cluster_HTL*txt | xargs -n 1 tail -n +2 > ../output/manual_clustering/cbai_transcriptomev4.0/Crab_D/merged_modules/HTL_merged.txt\n",
    "\n",
    "# Merge all LTH modules\n",
    "!find ../output/manual_clustering/cbai_transcriptomev4.0/Crab_D -maxdepth 1 -name cluster_LTH*txt | xargs -n 1 tail -n +2 > ../output/manual_clustering/cbai_transcriptomev4.0/Crab_D/merged_modules/LTH_merged.txt\n",
    "\n",
    "# Merge all HLH modules\n",
    "!find ../output/manual_clustering/cbai_transcriptomev4.0/Crab_D -maxdepth 1 -name cluster_HLH*txt | xargs -n 1 tail -n +2 > ../output/manual_clustering/cbai_transcriptomev4.0/Crab_D/merged_modules/HLH_merged.txt\n",
    "\n",
    "# Merge all LHL modules\n",
    "!find ../output/manual_clustering/cbai_transcriptomev4.0/Crab_D -maxdepth 1 -name cluster_LHL*txt | xargs -n 1 tail -n +2 > ../output/manual_clustering/cbai_transcriptomev4.0/Crab_D/merged_modules/LHL_merged.txt\n",
    "\n",
    "# Merge MIX modules\n",
    "!find ../output/manual_clustering/cbai_transcriptomev4.0/Crab_D -maxdepth 1 -name cluster_MIX*txt | xargs -n 1 tail -n +2 > ../output/manual_clustering/cbai_transcriptomev4.0/Crab_D/merged_modules/MIX_merged.txt\n"
   ]
  },
  {
   "cell_type": "markdown",
   "metadata": {},
   "source": [
    "Check we did this right by examining number of lines. There will be slightly fewer in merged_modules, as we removed headers"
   ]
  },
  {
   "cell_type": "code",
   "execution_count": 20,
   "metadata": {},
   "outputs": [
    {
     "name": "stdout",
     "output_type": "stream",
     "text": [
      "  1082 ../output/manual_clustering/cbai_transcriptomev4.0/Crab_D/cluster_HLH.txt\n",
      "   428 ../output/manual_clustering/cbai_transcriptomev4.0/Crab_D/cluster_HTL.txt\n",
      "  4166 ../output/manual_clustering/cbai_transcriptomev4.0/Crab_D/cluster_LHL.txt\n",
      "  7279 ../output/manual_clustering/cbai_transcriptomev4.0/Crab_D/cluster_LTH.txt\n",
      "   604 ../output/manual_clustering/cbai_transcriptomev4.0/Crab_D/cluster_LTH2.txt\n",
      "   697 ../output/manual_clustering/cbai_transcriptomev4.0/Crab_D/cluster_MIX.txt\n",
      " 14256 total\n"
     ]
    }
   ],
   "source": [
    "!wc -l ../output/manual_clustering/cbai_transcriptomev4.0/Crab_D/cluster_*txt"
   ]
  },
  {
   "cell_type": "code",
   "execution_count": 21,
   "metadata": {},
   "outputs": [
    {
     "name": "stdout",
     "output_type": "stream",
     "text": [
      "  1081 ../output/manual_clustering/cbai_transcriptomev4.0/Crab_D/merged_modules/HLH_merged.txt\n",
      "   427 ../output/manual_clustering/cbai_transcriptomev4.0/Crab_D/merged_modules/HTL_merged.txt\n",
      "  4165 ../output/manual_clustering/cbai_transcriptomev4.0/Crab_D/merged_modules/LHL_merged.txt\n",
      "  7881 ../output/manual_clustering/cbai_transcriptomev4.0/Crab_D/merged_modules/LTH_merged.txt\n",
      "   696 ../output/manual_clustering/cbai_transcriptomev4.0/Crab_D/merged_modules/MIX_merged.txt\n",
      " 14250 total\n"
     ]
    }
   ],
   "source": [
    "!wc -l ../output/manual_clustering/cbai_transcriptomev4.0/Crab_D/merged_modules/*merged.txt"
   ]
  },
  {
   "cell_type": "markdown",
   "metadata": {},
   "source": [
    "Looks good! We can move on."
   ]
  },
  {
   "cell_type": "markdown",
   "metadata": {},
   "source": [
    "## Crab E"
   ]
  },
  {
   "cell_type": "code",
   "execution_count": 22,
   "metadata": {},
   "outputs": [
    {
     "name": "stdout",
     "output_type": "stream",
     "text": [
      "cluster_HTL.txt\t\t  cluster_LHL_heatmap.png   cluster_LTH3_heatmap.png\n",
      "cluster_HTL2.txt\t  cluster_LTH.txt\t    cluster_LTH_heatmap.png\n",
      "cluster_HTL2_heatmap.png  cluster_LTH2.txt\t    heatmap.png\n",
      "cluster_HTL_heatmap.png   cluster_LTH2_heatmap.png  manual_clustnums\n",
      "cluster_LHL.txt\t\t  cluster_LTH3.txt\n"
     ]
    }
   ],
   "source": [
    "!ls ../output/manual_clustering/cbai_transcriptomev4.0/Crab_E/"
   ]
  },
  {
   "cell_type": "code",
   "execution_count": 23,
   "metadata": {},
   "outputs": [],
   "source": [
    "# Make new directory for merged modules\n",
    "!mkdir ../output/manual_clustering/cbai_transcriptomev4.0/Crab_E/merged_modules\n",
    "\n",
    "# Merge all HTL modules\n",
    "!find ../output/manual_clustering/cbai_transcriptomev4.0/Crab_E -maxdepth 1 -name cluster_HTL*txt | xargs -n 1 tail -n +2 > ../output/manual_clustering/cbai_transcriptomev4.0/Crab_E/merged_modules/HTL_merged.txt\n",
    "\n",
    "# Merge all LTH modules\n",
    "!find ../output/manual_clustering/cbai_transcriptomev4.0/Crab_E -maxdepth 1 -name cluster_LTH*txt | xargs -n 1 tail -n +2 > ../output/manual_clustering/cbai_transcriptomev4.0/Crab_E/merged_modules/LTH_merged.txt\n",
    "\n",
    "# Merge all LHL modules\n",
    "!find ../output/manual_clustering/cbai_transcriptomev4.0/Crab_E -maxdepth 1 -name cluster_LHL*txt | xargs -n 1 tail -n +2 > ../output/manual_clustering/cbai_transcriptomev4.0/Crab_E/merged_modules/LHL_merged.txt\n",
    "\n",
    "# Won't merge HLH and MIX modules, as none are present in this crab"
   ]
  },
  {
   "cell_type": "markdown",
   "metadata": {},
   "source": [
    "Check we did this right by examining number of lines. There will be slightly fewer in merged_modules, as we removed headers"
   ]
  },
  {
   "cell_type": "code",
   "execution_count": 24,
   "metadata": {},
   "outputs": [
    {
     "name": "stdout",
     "output_type": "stream",
     "text": [
      "  3937 ../output/manual_clustering/cbai_transcriptomev4.0/Crab_E/cluster_HTL.txt\n",
      "  3392 ../output/manual_clustering/cbai_transcriptomev4.0/Crab_E/cluster_HTL2.txt\n",
      "  3567 ../output/manual_clustering/cbai_transcriptomev4.0/Crab_E/cluster_LHL.txt\n",
      "  3560 ../output/manual_clustering/cbai_transcriptomev4.0/Crab_E/cluster_LTH.txt\n",
      "   716 ../output/manual_clustering/cbai_transcriptomev4.0/Crab_E/cluster_LTH2.txt\n",
      "   580 ../output/manual_clustering/cbai_transcriptomev4.0/Crab_E/cluster_LTH3.txt\n",
      " 15752 total\n"
     ]
    }
   ],
   "source": [
    "!wc -l ../output/manual_clustering/cbai_transcriptomev4.0/Crab_E/cluster_*txt"
   ]
  },
  {
   "cell_type": "code",
   "execution_count": 25,
   "metadata": {},
   "outputs": [
    {
     "name": "stdout",
     "output_type": "stream",
     "text": [
      "  7327 ../output/manual_clustering/cbai_transcriptomev4.0/Crab_E/merged_modules/HTL_merged.txt\n",
      "  3566 ../output/manual_clustering/cbai_transcriptomev4.0/Crab_E/merged_modules/LHL_merged.txt\n",
      "  4853 ../output/manual_clustering/cbai_transcriptomev4.0/Crab_E/merged_modules/LTH_merged.txt\n",
      " 15746 total\n"
     ]
    }
   ],
   "source": [
    "!wc -l ../output/manual_clustering/cbai_transcriptomev4.0/Crab_E/merged_modules/*merged.txt"
   ]
  },
  {
   "cell_type": "markdown",
   "metadata": {},
   "source": [
    "Looks good! We can move on."
   ]
  },
  {
   "cell_type": "markdown",
   "metadata": {},
   "source": [
    "## Crab F"
   ]
  },
  {
   "cell_type": "code",
   "execution_count": 26,
   "metadata": {},
   "outputs": [
    {
     "name": "stdout",
     "output_type": "stream",
     "text": [
      "cluster_HTL.txt\t\t  cluster_LHL_heatmap.png   cluster_MIX.txt\n",
      "cluster_HTL2.txt\t  cluster_LTH.txt\t    cluster_MIX_heatmap.png\n",
      "cluster_HTL2_heatmap.png  cluster_LTH2.txt\t    heatmap.png\n",
      "cluster_HTL_heatmap.png   cluster_LTH2_heatmap.png  manual_clustnums\n",
      "cluster_LHL.txt\t\t  cluster_LTH_heatmap.png\n"
     ]
    }
   ],
   "source": [
    "!ls ../output/manual_clustering/cbai_transcriptomev4.0/Crab_F/"
   ]
  },
  {
   "cell_type": "code",
   "execution_count": 27,
   "metadata": {},
   "outputs": [],
   "source": [
    "# Make new directory for merged modules\n",
    "!mkdir ../output/manual_clustering/cbai_transcriptomev4.0/Crab_F/merged_modules\n",
    "\n",
    "# Merge all HTL modules\n",
    "!find ../output/manual_clustering/cbai_transcriptomev4.0/Crab_F -maxdepth 1 -name cluster_HTL*txt | xargs -n 1 tail -n +2 > ../output/manual_clustering/cbai_transcriptomev4.0/Crab_F/merged_modules/HTL_merged.txt\n",
    "\n",
    "# Merge all LTH modules\n",
    "!find ../output/manual_clustering/cbai_transcriptomev4.0/Crab_F -maxdepth 1 -name cluster_LTH*txt | xargs -n 1 tail -n +2 > ../output/manual_clustering/cbai_transcriptomev4.0/Crab_F/merged_modules/LTH_merged.txt\n",
    "\n",
    "# Merge all LHL modules\n",
    "!find ../output/manual_clustering/cbai_transcriptomev4.0/Crab_F -maxdepth 1 -name cluster_LHL*txt | xargs -n 1 tail -n +2 > ../output/manual_clustering/cbai_transcriptomev4.0/Crab_F/merged_modules/LHL_merged.txt\n",
    "\n",
    "# Merge MIX modules\n",
    "!find ../output/manual_clustering/cbai_transcriptomev4.0/Crab_F -maxdepth 1 -name cluster_MIX*txt | xargs -n 1 tail -n +2 > ../output/manual_clustering/cbai_transcriptomev4.0/Crab_F/merged_modules/MIX_merged.txt\n",
    "\n",
    "# Won't merge HLH modules, as none are present in this crab"
   ]
  },
  {
   "cell_type": "markdown",
   "metadata": {},
   "source": [
    "Check we did this right by examining number of lines. There will be slightly fewer in merged_modules, as we removed headers"
   ]
  },
  {
   "cell_type": "code",
   "execution_count": 28,
   "metadata": {},
   "outputs": [
    {
     "name": "stdout",
     "output_type": "stream",
     "text": [
      "  1082 ../output/manual_clustering/cbai_transcriptomev4.0/Crab_D/cluster_HLH.txt\n",
      "   428 ../output/manual_clustering/cbai_transcriptomev4.0/Crab_D/cluster_HTL.txt\n",
      "  4166 ../output/manual_clustering/cbai_transcriptomev4.0/Crab_D/cluster_LHL.txt\n",
      "  7279 ../output/manual_clustering/cbai_transcriptomev4.0/Crab_D/cluster_LTH.txt\n",
      "   604 ../output/manual_clustering/cbai_transcriptomev4.0/Crab_D/cluster_LTH2.txt\n",
      "   697 ../output/manual_clustering/cbai_transcriptomev4.0/Crab_D/cluster_MIX.txt\n",
      " 14256 total\n"
     ]
    }
   ],
   "source": [
    "!wc -l ../output/manual_clustering/cbai_transcriptomev4.0/Crab_D/cluster_*txt"
   ]
  },
  {
   "cell_type": "code",
   "execution_count": 29,
   "metadata": {},
   "outputs": [
    {
     "name": "stdout",
     "output_type": "stream",
     "text": [
      "  1081 ../output/manual_clustering/cbai_transcriptomev4.0/Crab_D/merged_modules/HLH_merged.txt\n",
      "   427 ../output/manual_clustering/cbai_transcriptomev4.0/Crab_D/merged_modules/HTL_merged.txt\n",
      "  4165 ../output/manual_clustering/cbai_transcriptomev4.0/Crab_D/merged_modules/LHL_merged.txt\n",
      "  7881 ../output/manual_clustering/cbai_transcriptomev4.0/Crab_D/merged_modules/LTH_merged.txt\n",
      "   696 ../output/manual_clustering/cbai_transcriptomev4.0/Crab_D/merged_modules/MIX_merged.txt\n",
      " 14250 total\n"
     ]
    }
   ],
   "source": [
    "!wc -l ../output/manual_clustering/cbai_transcriptomev4.0/Crab_D/merged_modules/*merged.txt"
   ]
  },
  {
   "cell_type": "markdown",
   "metadata": {},
   "source": [
    "Looks good! We can move on."
   ]
  },
  {
   "cell_type": "markdown",
   "metadata": {},
   "source": [
    "## Crab G"
   ]
  },
  {
   "cell_type": "code",
   "execution_count": 30,
   "metadata": {},
   "outputs": [
    {
     "name": "stdout",
     "output_type": "stream",
     "text": [
      "cluster_HL.txt\t\t cluster_LH2_heatmap.png   cluster_MIX3_heatmap.png\n",
      "cluster_HL2.txt\t\t cluster_LH_heatmap.png    cluster_MIX4.txt\n",
      "cluster_HL2_heatmap.png  cluster_MIX.txt\t   cluster_MIX4_heatmap.png\n",
      "cluster_HL_heatmap.png\t cluster_MIX2.txt\t   cluster_MIX_heatmap.png\n",
      "cluster_LH.txt\t\t cluster_MIX2_heatmap.png  heatmap.png\n",
      "cluster_LH2.txt\t\t cluster_MIX3.txt\t   manual_clustnums\n"
     ]
    }
   ],
   "source": [
    "!ls ../output/manual_clustering/cbai_transcriptomev4.0/Crab_G/"
   ]
  },
  {
   "cell_type": "code",
   "execution_count": 31,
   "metadata": {},
   "outputs": [],
   "source": [
    "# Make new directory for merged modules\n",
    "!mkdir ../output/manual_clustering/cbai_transcriptomev4.0/Crab_G/merged_modules\n",
    "\n",
    "# Merge all HL modules\n",
    "!find ../output/manual_clustering/cbai_transcriptomev4.0/Crab_G -maxdepth 1 -name cluster_HL*txt | xargs -n 1 tail -n +2 > ../output/manual_clustering/cbai_transcriptomev4.0/Crab_G/merged_modules/HL_merged.txt\n",
    "\n",
    "# Merge all LH modules\n",
    "!find ../output/manual_clustering/cbai_transcriptomev4.0/Crab_G -maxdepth 1 -name cluster_LH*txt | xargs -n 1 tail -n +2 > ../output/manual_clustering/cbai_transcriptomev4.0/Crab_G/merged_modules/LH_merged.txt\n",
    "\n",
    "# Merge all MIX modules\n",
    "!find ../output/manual_clustering/cbai_transcriptomev4.0/Crab_G -maxdepth 1 -name cluster_MIX*txt | xargs -n 1 tail -n +2 > ../output/manual_clustering/cbai_transcriptomev4.0/Crab_G/merged_modules/MIX_merged.txt\n",
    "\n",
    "# Won't merge HH or LL modules, as none are present in this crab"
   ]
  },
  {
   "cell_type": "markdown",
   "metadata": {},
   "source": [
    "Check we did this right by examining number of lines. There will be slightly fewer in merged_modules, as we removed headers"
   ]
  },
  {
   "cell_type": "code",
   "execution_count": 32,
   "metadata": {},
   "outputs": [
    {
     "name": "stdout",
     "output_type": "stream",
     "text": [
      "  1783 ../output/manual_clustering/cbai_transcriptomev4.0/Crab_G/cluster_HL.txt\n",
      "    54 ../output/manual_clustering/cbai_transcriptomev4.0/Crab_G/cluster_HL2.txt\n",
      "  2003 ../output/manual_clustering/cbai_transcriptomev4.0/Crab_G/cluster_LH.txt\n",
      "     9 ../output/manual_clustering/cbai_transcriptomev4.0/Crab_G/cluster_LH2.txt\n",
      "  9885 ../output/manual_clustering/cbai_transcriptomev4.0/Crab_G/cluster_MIX.txt\n",
      "   180 ../output/manual_clustering/cbai_transcriptomev4.0/Crab_G/cluster_MIX2.txt\n",
      "  1238 ../output/manual_clustering/cbai_transcriptomev4.0/Crab_G/cluster_MIX3.txt\n",
      "    37 ../output/manual_clustering/cbai_transcriptomev4.0/Crab_G/cluster_MIX4.txt\n",
      " 15189 total\n"
     ]
    }
   ],
   "source": [
    "!wc -l ../output/manual_clustering/cbai_transcriptomev4.0/Crab_G/cluster_*txt"
   ]
  },
  {
   "cell_type": "code",
   "execution_count": 33,
   "metadata": {},
   "outputs": [
    {
     "name": "stdout",
     "output_type": "stream",
     "text": [
      "  1835 ../output/manual_clustering/cbai_transcriptomev4.0/Crab_G/merged_modules/HL_merged.txt\n",
      "  2010 ../output/manual_clustering/cbai_transcriptomev4.0/Crab_G/merged_modules/LH_merged.txt\n",
      " 11336 ../output/manual_clustering/cbai_transcriptomev4.0/Crab_G/merged_modules/MIX_merged.txt\n",
      " 15181 total\n"
     ]
    }
   ],
   "source": [
    "!wc -l ../output/manual_clustering/cbai_transcriptomev4.0/Crab_G/merged_modules/*merged.txt"
   ]
  },
  {
   "cell_type": "markdown",
   "metadata": {},
   "source": [
    "Looks good! We can move on."
   ]
  },
  {
   "cell_type": "markdown",
   "metadata": {},
   "source": [
    "## Crab H"
   ]
  },
  {
   "cell_type": "code",
   "execution_count": 34,
   "metadata": {},
   "outputs": [
    {
     "name": "stdout",
     "output_type": "stream",
     "text": [
      "cluster_HL.txt\t\tcluster_MIX.txt\t\t  cluster_MIX3_heatmap.png\n",
      "cluster_HL_heatmap.png\tcluster_MIX2.txt\t  cluster_MIX_heatmap.png\n",
      "cluster_LH.txt\t\tcluster_MIX2_heatmap.png  heatmap.png\n",
      "cluster_LH_heatmap.png\tcluster_MIX3.txt\t  manual_clustnums\n"
     ]
    }
   ],
   "source": [
    "!ls ../output/manual_clustering/cbai_transcriptomev4.0/Crab_H/"
   ]
  },
  {
   "cell_type": "code",
   "execution_count": 35,
   "metadata": {},
   "outputs": [],
   "source": [
    "# Make new directory for merged modules\n",
    "!mkdir ../output/manual_clustering/cbai_transcriptomev4.0/Crab_H/merged_modules\n",
    "\n",
    "# Merge all HL modules\n",
    "!find ../output/manual_clustering/cbai_transcriptomev4.0/Crab_H -maxdepth 1 -name cluster_HL*txt | xargs -n 1 tail -n +2 > ../output/manual_clustering/cbai_transcriptomev4.0/Crab_H/merged_modules/HL_merged.txt\n",
    "\n",
    "# Merge all LH modules\n",
    "!find ../output/manual_clustering/cbai_transcriptomev4.0/Crab_H -maxdepth 1 -name cluster_LH*txt | xargs -n 1 tail -n +2 > ../output/manual_clustering/cbai_transcriptomev4.0/Crab_H/merged_modules/LH_merged.txt\n",
    "\n",
    "# Merge all MIX modules\n",
    "!find ../output/manual_clustering/cbai_transcriptomev4.0/Crab_H -maxdepth 1 -name cluster_MIX*txt | xargs -n 1 tail -n +2 > ../output/manual_clustering/cbai_transcriptomev4.0/Crab_H/merged_modules/MIX_merged.txt\n",
    "\n",
    "# Won't merge LL or HHmodules, as none are present in this crab"
   ]
  },
  {
   "cell_type": "markdown",
   "metadata": {},
   "source": [
    "Check we did this right by examining number of lines. There will be slightly fewer in merged_modules, as we removed headers"
   ]
  },
  {
   "cell_type": "code",
   "execution_count": 36,
   "metadata": {},
   "outputs": [
    {
     "name": "stdout",
     "output_type": "stream",
     "text": [
      "  2242 ../output/manual_clustering/cbai_transcriptomev4.0/Crab_H/cluster_HL.txt\n",
      "   155 ../output/manual_clustering/cbai_transcriptomev4.0/Crab_H/cluster_LH.txt\n",
      "  7821 ../output/manual_clustering/cbai_transcriptomev4.0/Crab_H/cluster_MIX.txt\n",
      "   340 ../output/manual_clustering/cbai_transcriptomev4.0/Crab_H/cluster_MIX2.txt\n",
      "    49 ../output/manual_clustering/cbai_transcriptomev4.0/Crab_H/cluster_MIX3.txt\n",
      " 10607 total\n"
     ]
    }
   ],
   "source": [
    "!wc -l ../output/manual_clustering/cbai_transcriptomev4.0/Crab_H/cluster_*txt"
   ]
  },
  {
   "cell_type": "code",
   "execution_count": 37,
   "metadata": {},
   "outputs": [
    {
     "name": "stdout",
     "output_type": "stream",
     "text": [
      "  2241 ../output/manual_clustering/cbai_transcriptomev4.0/Crab_H/merged_modules/HL_merged.txt\n",
      "   154 ../output/manual_clustering/cbai_transcriptomev4.0/Crab_H/merged_modules/LH_merged.txt\n",
      "  8207 ../output/manual_clustering/cbai_transcriptomev4.0/Crab_H/merged_modules/MIX_merged.txt\n",
      " 10602 total\n"
     ]
    }
   ],
   "source": [
    "!wc -l ../output/manual_clustering/cbai_transcriptomev4.0/Crab_H/merged_modules/*merged.txt"
   ]
  },
  {
   "cell_type": "markdown",
   "metadata": {},
   "source": [
    "Looks good! We can move on."
   ]
  },
  {
   "cell_type": "markdown",
   "metadata": {},
   "source": [
    "## Crab I"
   ]
  },
  {
   "cell_type": "code",
   "execution_count": 39,
   "metadata": {},
   "outputs": [
    {
     "name": "stdout",
     "output_type": "stream",
     "text": [
      "cluster_HL.txt\t\tcluster_LH2_heatmap.png  cluster_MIX.txt\n",
      "cluster_HL_heatmap.png\tcluster_LH_heatmap.png\t cluster_MIX_heatmap.png\n",
      "cluster_LH.txt\t\tcluster_LL.txt\t\t heatmap.png\n",
      "cluster_LH2.txt\t\tcluster_LL_heatmap.png\t manual_clustnums\n"
     ]
    }
   ],
   "source": [
    "!ls ../output/manual_clustering/cbai_transcriptomev4.0/Crab_I/"
   ]
  },
  {
   "cell_type": "code",
   "execution_count": 40,
   "metadata": {},
   "outputs": [],
   "source": [
    "# Make new directory for merged modules\n",
    "!mkdir ../output/manual_clustering/cbai_transcriptomev4.0/Crab_I/merged_modules\n",
    "\n",
    "# Merge all HL modules\n",
    "!find ../output/manual_clustering/cbai_transcriptomev4.0/Crab_I -maxdepth 1 -name cluster_HL*txt | xargs -n 1 tail -n +2 > ../output/manual_clustering/cbai_transcriptomev4.0/Crab_I/merged_modules/HL_merged.txt\n",
    "\n",
    "# Merge all LH modules\n",
    "!find ../output/manual_clustering/cbai_transcriptomev4.0/Crab_I -maxdepth 1 -name cluster_LH*txt | xargs -n 1 tail -n +2 > ../output/manual_clustering/cbai_transcriptomev4.0/Crab_I/merged_modules/LH_merged.txt\n",
    "\n",
    "# Merge all LL modules\n",
    "!find ../output/manual_clustering/cbai_transcriptomev4.0/Crab_I -maxdepth 1 -name cluster_LL*txt | xargs -n 1 tail -n +2 > ../output/manual_clustering/cbai_transcriptomev4.0/Crab_I/merged_modules/LL_merged.txt\n",
    "\n",
    "# Merge all MIX modules\n",
    "!find ../output/manual_clustering/cbai_transcriptomev4.0/Crab_I -maxdepth 1 -name cluster_MIX*txt | xargs -n 1 tail -n +2 > ../output/manual_clustering/cbai_transcriptomev4.0/Crab_I/merged_modules/MIX_merged.txt\n",
    "\n",
    "# Won't merge HH modules, as none are present in this crab"
   ]
  },
  {
   "cell_type": "markdown",
   "metadata": {},
   "source": [
    "Check we did this right by examining number of lines. There will be slightly fewer in merged_modules, as we removed headers"
   ]
  },
  {
   "cell_type": "code",
   "execution_count": 41,
   "metadata": {},
   "outputs": [
    {
     "name": "stdout",
     "output_type": "stream",
     "text": [
      "   305 ../output/manual_clustering/cbai_transcriptomev4.0/Crab_I/cluster_HL.txt\n",
      "  4346 ../output/manual_clustering/cbai_transcriptomev4.0/Crab_I/cluster_LH.txt\n",
      "   271 ../output/manual_clustering/cbai_transcriptomev4.0/Crab_I/cluster_LH2.txt\n",
      "  7692 ../output/manual_clustering/cbai_transcriptomev4.0/Crab_I/cluster_LL.txt\n",
      "    75 ../output/manual_clustering/cbai_transcriptomev4.0/Crab_I/cluster_MIX.txt\n",
      " 12689 total\n"
     ]
    }
   ],
   "source": [
    "!wc -l ../output/manual_clustering/cbai_transcriptomev4.0/Crab_I/cluster_*txt"
   ]
  },
  {
   "cell_type": "code",
   "execution_count": 42,
   "metadata": {},
   "outputs": [
    {
     "name": "stdout",
     "output_type": "stream",
     "text": [
      "   304 ../output/manual_clustering/cbai_transcriptomev4.0/Crab_I/merged_modules/HL_merged.txt\n",
      "  4615 ../output/manual_clustering/cbai_transcriptomev4.0/Crab_I/merged_modules/LH_merged.txt\n",
      "  7691 ../output/manual_clustering/cbai_transcriptomev4.0/Crab_I/merged_modules/LL_merged.txt\n",
      "    74 ../output/manual_clustering/cbai_transcriptomev4.0/Crab_I/merged_modules/MIX_merged.txt\n",
      " 12684 total\n"
     ]
    }
   ],
   "source": [
    "!wc -l ../output/manual_clustering/cbai_transcriptomev4.0/Crab_I/merged_modules/*merged.txt"
   ]
  },
  {
   "cell_type": "markdown",
   "metadata": {},
   "source": [
    "Looks good! We can move on."
   ]
  },
  {
   "cell_type": "markdown",
   "metadata": {},
   "source": [
    "## Done merging"
   ]
  },
  {
   "cell_type": "markdown",
   "metadata": {},
   "source": [
    "Now, let's get a count of the number of lines in each module in each crab"
   ]
  },
  {
   "cell_type": "markdown",
   "metadata": {},
   "source": [
    "## Line Counts of Modules"
   ]
  },
  {
   "cell_type": "code",
   "execution_count": 43,
   "metadata": {},
   "outputs": [
    {
     "name": "stdout",
     "output_type": "stream",
     "text": [
      "     48 ../output/manual_clustering/cbai_transcriptomev4.0/Crab_A/merged_modules/HLH_merged.txt\n",
      "   4266 ../output/manual_clustering/cbai_transcriptomev4.0/Crab_A/merged_modules/HTL_merged.txt\n",
      "   4582 ../output/manual_clustering/cbai_transcriptomev4.0/Crab_A/merged_modules/LHL_merged.txt\n",
      "   3293 ../output/manual_clustering/cbai_transcriptomev4.0/Crab_A/merged_modules/LTH_merged.txt\n",
      "    924 ../output/manual_clustering/cbai_transcriptomev4.0/Crab_B/merged_modules/HLH_merged.txt\n",
      "   1852 ../output/manual_clustering/cbai_transcriptomev4.0/Crab_B/merged_modules/HTL_merged.txt\n",
      "   9528 ../output/manual_clustering/cbai_transcriptomev4.0/Crab_B/merged_modules/LHL_merged.txt\n",
      "   5717 ../output/manual_clustering/cbai_transcriptomev4.0/Crab_B/merged_modules/LTH_merged.txt\n",
      "   1997 ../output/manual_clustering/cbai_transcriptomev4.0/Crab_C/merged_modules/HLH_merged.txt\n",
      "   4020 ../output/manual_clustering/cbai_transcriptomev4.0/Crab_C/merged_modules/HTL_merged.txt\n",
      "    319 ../output/manual_clustering/cbai_transcriptomev4.0/Crab_C/merged_modules/LHL_merged.txt\n",
      "   4201 ../output/manual_clustering/cbai_transcriptomev4.0/Crab_C/merged_modules/LTH_merged.txt\n",
      "   1081 ../output/manual_clustering/cbai_transcriptomev4.0/Crab_D/merged_modules/HLH_merged.txt\n",
      "    427 ../output/manual_clustering/cbai_transcriptomev4.0/Crab_D/merged_modules/HTL_merged.txt\n",
      "   4165 ../output/manual_clustering/cbai_transcriptomev4.0/Crab_D/merged_modules/LHL_merged.txt\n",
      "   7881 ../output/manual_clustering/cbai_transcriptomev4.0/Crab_D/merged_modules/LTH_merged.txt\n",
      "    696 ../output/manual_clustering/cbai_transcriptomev4.0/Crab_D/merged_modules/MIX_merged.txt\n",
      "   7327 ../output/manual_clustering/cbai_transcriptomev4.0/Crab_E/merged_modules/HTL_merged.txt\n",
      "   3566 ../output/manual_clustering/cbai_transcriptomev4.0/Crab_E/merged_modules/LHL_merged.txt\n",
      "   4853 ../output/manual_clustering/cbai_transcriptomev4.0/Crab_E/merged_modules/LTH_merged.txt\n",
      "   8443 ../output/manual_clustering/cbai_transcriptomev4.0/Crab_F/merged_modules/HTL_merged.txt\n",
      "   1019 ../output/manual_clustering/cbai_transcriptomev4.0/Crab_F/merged_modules/LHL_merged.txt\n",
      "   1528 ../output/manual_clustering/cbai_transcriptomev4.0/Crab_F/merged_modules/LTH_merged.txt\n",
      "    678 ../output/manual_clustering/cbai_transcriptomev4.0/Crab_F/merged_modules/MIX_merged.txt\n",
      "   1835 ../output/manual_clustering/cbai_transcriptomev4.0/Crab_G/merged_modules/HL_merged.txt\n",
      "   2010 ../output/manual_clustering/cbai_transcriptomev4.0/Crab_G/merged_modules/LH_merged.txt\n",
      "  11336 ../output/manual_clustering/cbai_transcriptomev4.0/Crab_G/merged_modules/MIX_merged.txt\n",
      "   2241 ../output/manual_clustering/cbai_transcriptomev4.0/Crab_H/merged_modules/HL_merged.txt\n",
      "    154 ../output/manual_clustering/cbai_transcriptomev4.0/Crab_H/merged_modules/LH_merged.txt\n",
      "   8207 ../output/manual_clustering/cbai_transcriptomev4.0/Crab_H/merged_modules/MIX_merged.txt\n",
      "    304 ../output/manual_clustering/cbai_transcriptomev4.0/Crab_I/merged_modules/HL_merged.txt\n",
      "   4615 ../output/manual_clustering/cbai_transcriptomev4.0/Crab_I/merged_modules/LH_merged.txt\n",
      "   7691 ../output/manual_clustering/cbai_transcriptomev4.0/Crab_I/merged_modules/LL_merged.txt\n",
      "     74 ../output/manual_clustering/cbai_transcriptomev4.0/Crab_I/merged_modules/MIX_merged.txt\n",
      " 120878 total\n"
     ]
    }
   ],
   "source": [
    "!wc -l ../output/manual_clustering/cbai_transcriptomev4.0/Crab_*/merged_modules/*merged.txt"
   ]
  },
  {
   "cell_type": "markdown",
   "metadata": {},
   "source": [
    "We'll now write the above word counts to a file, which we'll then turn into a table using R"
   ]
  },
  {
   "cell_type": "code",
   "execution_count": 1,
   "metadata": {},
   "outputs": [],
   "source": [
    "!wc -l ../output/manual_clustering/cbai_transcriptomev4.0/Crab_*/merged_modules/*merged.txt > ../output/manual_clustering/cbai_transcriptomev4.0/merged_modules_raw_counts.txt"
   ]
  }
 ],
 "metadata": {
  "kernelspec": {
   "display_name": "Python 3",
   "language": "python",
   "name": "python3"
  },
  "language_info": {
   "codemirror_mode": {
    "name": "ipython",
    "version": 3
   },
   "file_extension": ".py",
   "mimetype": "text/x-python",
   "name": "python",
   "nbconvert_exporter": "python",
   "pygments_lexer": "ipython3",
   "version": "3.8.3"
  }
 },
 "nbformat": 4,
 "nbformat_minor": 4
}

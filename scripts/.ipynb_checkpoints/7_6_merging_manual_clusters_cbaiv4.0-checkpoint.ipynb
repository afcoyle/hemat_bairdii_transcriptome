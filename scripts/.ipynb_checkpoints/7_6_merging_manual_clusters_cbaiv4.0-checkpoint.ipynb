{
 "cells": [
  {
   "cell_type": "markdown",
   "metadata": {},
   "source": [
    "Aidan Coyle\n",
    "\n",
    "afcoyle@uw.edu\n",
    "\n",
    "2021-07-01\n",
    "\n",
    "Roberts Lab, UW-SAFS"
   ]
  },
  {
   "cell_type": "markdown",
   "metadata": {},
   "source": [
    "In script 7_1_manual_clustering_cbaiv4.0.Rmd, we took libraries aligned to a transcriptome filtered to only include presumed _Chionoecetes bairdi_ genes, grouped them according to crab (e.g. took all libraries for Crab A, B, C...) and clustered gene expression into modules based on expression patterns\n",
    "\n",
    "Note that in this script, we have two additional crab - Crab D and F - than in scripts 7_4 and 7_5. This is because crabs D and F were uninfected, and therefore it only made sense to align them to a _C. bairdi_ -only library.\n",
    "\n",
    "We then described the expression patterns of each module as following one of five patterns. Crabs with three time points (ambient- and lowered-temperature treatment crab) had the following notation used:\n",
    "\n",
    "- High to low (HTL): Expression decreases over time (regardless of whether the decrease took place on Day 2 or Day 17)\n",
    "\n",
    "- Low to high (LTH): Expression increases over time (regardless of whether the increase took place on Day 2 or Day 17)\n",
    "\n",
    "- Low High Low (LHL): Expression increases on Day 2, and then drops on Day 17\n",
    "\n",
    "- High Low High (HLH): Expression drops on Day 2 and then increases on Day 17\n",
    "\n",
    "- Mixed (MIX): Expression within the module follows no clear pattern\n",
    "\n",
    "Crabs in the Elevated-temperature treatment group had only two time points (crabs G, H, and I). For these, a different notation was used. \n",
    "\n",
    "- LL = expression stays low\n",
    "\n",
    "- HH = expression stays high\n",
    "\n",
    "- LH = expression goes from low to high\n",
    "\n",
    "- HL = expression goes from high to low\n",
    "\n",
    "- MIX = mixed - no clear pattern of expression within the module"
   ]
  },
  {
   "cell_type": "markdown",
   "metadata": {},
   "source": [
    "Importantly, **multiple modules within a single crab could be given the same assignment**. This issue is what this script is meant to solve by merging gene lists."
   ]
  },
  {
   "cell_type": "markdown",
   "metadata": {},
   "source": [
    "First, let's see an example of one crab"
   ]
  },
  {
   "cell_type": "code",
   "execution_count": 1,
   "metadata": {},
   "outputs": [
    {
     "name": "stdout",
     "output_type": "stream",
     "text": [
      "bar_5CtsPerCrab\t\t  cluster_HTL_heatmap.png   cluster_LTH2.txt\n",
      "cluster_HLH.txt\t\t  cluster_LHL.txt\t    cluster_LTH2_heatmap.png\n",
      "cluster_HLH_heatmap.png   cluster_LHL2.txt\t    cluster_LTH_heatmap.png\n",
      "cluster_HTL.txt\t\t  cluster_LHL2_heatmap.png  heatmap.png\n",
      "cluster_HTL2.txt\t  cluster_LHL_heatmap.png\n",
      "cluster_HTL2_heatmap.png  cluster_LTH.txt\n"
     ]
    }
   ],
   "source": [
    "!ls ../output/manual_clustering/cbai_transcriptomev4.0/all_genes/Crab_A/"
   ]
  },
  {
   "cell_type": "markdown",
   "metadata": {},
   "source": [
    "And let's also see what each cluster looks like"
   ]
  },
  {
   "cell_type": "code",
   "execution_count": 2,
   "metadata": {},
   "outputs": [
    {
     "name": "stdout",
     "output_type": "stream",
     "text": [
      "\"178\"\t\"359\"\t\"463\"\n",
      "\"TRINITY_DN4711_c2_g1_i2\"\t1.03561\t0\t2.51376\n",
      "\"TRINITY_DN0_c0_g1_i34\"\t1.28735\t0.00038905\t3.20651\n",
      "\"TRINITY_DN11_c3_g1_i15\"\t11.8005\t2.98542\t14.1232\n",
      "\"TRINITY_DN91_c1_g1_i2\"\t1.38557\t0.749212\t1.45647\n",
      "\"TRINITY_DN447_c1_g1_i37\"\t1.33128\t0\t3.12019\n",
      "\"TRINITY_DN495_c1_g1_i12\"\t2.94367\t1.79164\t3.17625\n",
      "\"TRINITY_DN7865_c0_g2_i1\"\t3.61354\t2.50006\t4.75636\n",
      "\"TRINITY_DN38336_c0_g1_i1\"\t3.23757\t0.275169\t3.84097\n",
      "\"TRINITY_DN8280_c0_g1_i6\"\t1.74169\t0.541585\t2.8381\n"
     ]
    }
   ],
   "source": [
    "!head ../output/manual_clustering/cbai_transcriptomev4.0/all_genes/Crab_A/cluster_HLH.txt"
   ]
  },
  {
   "cell_type": "markdown",
   "metadata": {},
   "source": [
    "Looks like we need to remove the first line of each file - otherwise, when we merge modules, the header line will be included. And since columns correspond to days 0, 2, and 17 samples, it's not too meaningful\n",
    "\n",
    "Now, let's see how many crab folders we have"
   ]
  },
  {
   "cell_type": "code",
   "execution_count": 3,
   "metadata": {},
   "outputs": [
    {
     "name": "stdout",
     "output_type": "stream",
     "text": [
      "Crab_A\tCrab_C\tCrab_E\tCrab_G\tCrab_I\n",
      "Crab_B\tCrab_D\tCrab_F\tCrab_H\tbar_5CtsPerCrab_merged_modules_raw_counts.txt\n"
     ]
    }
   ],
   "source": [
    "!ls ../output/manual_clustering/cbai_transcriptomev4.0/all_genes/"
   ]
  },
  {
   "cell_type": "markdown",
   "metadata": {},
   "source": [
    "Looks good! We can move on."
   ]
  },
  {
   "cell_type": "markdown",
   "metadata": {},
   "source": [
    "## Crab A\n",
    "\n",
    "We'll now start on merging all modules for Crab A\n",
    "\n",
    "Let's take another look at the current modules for Crab A"
   ]
  },
  {
   "cell_type": "code",
   "execution_count": 4,
   "metadata": {},
   "outputs": [
    {
     "name": "stdout",
     "output_type": "stream",
     "text": [
      "bar_5CtsPerCrab\t\t  cluster_HTL_heatmap.png   cluster_LTH2.txt\n",
      "cluster_HLH.txt\t\t  cluster_LHL.txt\t    cluster_LTH2_heatmap.png\n",
      "cluster_HLH_heatmap.png   cluster_LHL2.txt\t    cluster_LTH_heatmap.png\n",
      "cluster_HTL.txt\t\t  cluster_LHL2_heatmap.png  heatmap.png\n",
      "cluster_HTL2.txt\t  cluster_LHL_heatmap.png\n",
      "cluster_HTL2_heatmap.png  cluster_LTH.txt\n"
     ]
    }
   ],
   "source": [
    "!ls ../output/manual_clustering/cbai_transcriptomev4.0/all_genes/Crab_A/"
   ]
  },
  {
   "cell_type": "code",
   "execution_count": 5,
   "metadata": {},
   "outputs": [],
   "source": [
    "# Make new directory for merged modules\n",
    "!mkdir ../output/manual_clustering/cbai_transcriptomev4.0/all_genes/Crab_A/merged_modules\n",
    "\n",
    "# Merge all HTL modules\n",
    "!find ../output/manual_clustering/cbai_transcriptomev4.0/all_genes/Crab_A -maxdepth 1 -name cluster_HTL*txt | xargs -n 1 tail -n +2 > ../output/manual_clustering/cbai_transcriptomev4.0/all_genes/Crab_A/merged_modules/HTL_merged.txt\n",
    "\n",
    "# Merge all LTH modules\n",
    "!find ../output/manual_clustering/cbai_transcriptomev4.0/all_genes/Crab_A -maxdepth 1 -name cluster_LTH*txt | xargs -n 1 tail -n +2 > ../output/manual_clustering/cbai_transcriptomev4.0/all_genes/Crab_A/merged_modules/LTH_merged.txt\n",
    "\n",
    "# Merge all HLH modules\n",
    "!find ../output/manual_clustering/cbai_transcriptomev4.0/all_genes/Crab_A -maxdepth 1 -name cluster_HLH*txt | xargs -n 1 tail -n +2 > ../output/manual_clustering/cbai_transcriptomev4.0/all_genes/Crab_A/merged_modules/HLH_merged.txt\n",
    "\n",
    "# Merge all LHL modules\n",
    "!find ../output/manual_clustering/cbai_transcriptomev4.0/all_genes/Crab_A -maxdepth 1 -name cluster_LHL*txt | xargs -n 1 tail -n +2 > ../output/manual_clustering/cbai_transcriptomev4.0/all_genes/Crab_A/merged_modules/LHL_merged.txt\n",
    "\n",
    "# Won't merge MIX modules, as none are present in this crab"
   ]
  },
  {
   "cell_type": "markdown",
   "metadata": {},
   "source": [
    "Check we did this right by examining number of lines. There will be slightly fewer in merged_modules, as we removed headers"
   ]
  },
  {
   "cell_type": "code",
   "execution_count": 6,
   "metadata": {},
   "outputs": [
    {
     "name": "stdout",
     "output_type": "stream",
     "text": [
      "    48 ../output/manual_clustering/cbai_transcriptomev4.0/all_genes/Crab_A/cluster_HLH.txt\n",
      "  2081 ../output/manual_clustering/cbai_transcriptomev4.0/all_genes/Crab_A/cluster_HTL.txt\n",
      "   345 ../output/manual_clustering/cbai_transcriptomev4.0/all_genes/Crab_A/cluster_HTL2.txt\n",
      "  2228 ../output/manual_clustering/cbai_transcriptomev4.0/all_genes/Crab_A/cluster_LHL.txt\n",
      "   394 ../output/manual_clustering/cbai_transcriptomev4.0/all_genes/Crab_A/cluster_LHL2.txt\n",
      "  1919 ../output/manual_clustering/cbai_transcriptomev4.0/all_genes/Crab_A/cluster_LTH.txt\n",
      "   362 ../output/manual_clustering/cbai_transcriptomev4.0/all_genes/Crab_A/cluster_LTH2.txt\n",
      "  7377 total\n"
     ]
    }
   ],
   "source": [
    "!wc -l ../output/manual_clustering/cbai_transcriptomev4.0/all_genes/Crab_A/cluster_*txt"
   ]
  },
  {
   "cell_type": "code",
   "execution_count": 7,
   "metadata": {},
   "outputs": [
    {
     "name": "stdout",
     "output_type": "stream",
     "text": [
      "    47 ../output/manual_clustering/cbai_transcriptomev4.0/all_genes/Crab_A/merged_modules/HLH_merged.txt\n",
      "  2424 ../output/manual_clustering/cbai_transcriptomev4.0/all_genes/Crab_A/merged_modules/HTL_merged.txt\n",
      "  2620 ../output/manual_clustering/cbai_transcriptomev4.0/all_genes/Crab_A/merged_modules/LHL_merged.txt\n",
      "  2279 ../output/manual_clustering/cbai_transcriptomev4.0/all_genes/Crab_A/merged_modules/LTH_merged.txt\n",
      "  7370 total\n"
     ]
    }
   ],
   "source": [
    "!wc -l ../output/manual_clustering/cbai_transcriptomev4.0/all_genes/Crab_A/merged_modules/*merged.txt"
   ]
  },
  {
   "cell_type": "markdown",
   "metadata": {},
   "source": [
    "Looks good! We can move on."
   ]
  },
  {
   "cell_type": "markdown",
   "metadata": {},
   "source": [
    "## Crab B"
   ]
  },
  {
   "cell_type": "code",
   "execution_count": 8,
   "metadata": {},
   "outputs": [
    {
     "name": "stdout",
     "output_type": "stream",
     "text": [
      "bar_5CtsPerCrab\t\t cluster_HTL2_heatmap.png  cluster_LTH2.txt\n",
      "cluster_HLH.txt\t\t cluster_HTL_heatmap.png   cluster_LTH2_heatmap.png\n",
      "cluster_HLH_heatmap.png  cluster_LHL.txt\t   cluster_LTH_heatmap.png\n",
      "cluster_HTL.txt\t\t cluster_LHL_heatmap.png   heatmap.png\n",
      "cluster_HTL2.txt\t cluster_LTH.txt\n"
     ]
    }
   ],
   "source": [
    "!ls ../output/manual_clustering/cbai_transcriptomev4.0/all_genes/Crab_B/"
   ]
  },
  {
   "cell_type": "code",
   "execution_count": 9,
   "metadata": {},
   "outputs": [],
   "source": [
    "# Make new directory for merged modules\n",
    "!mkdir ../output/manual_clustering/cbai_transcriptomev4.0/all_genes/Crab_B/merged_modules\n",
    "\n",
    "# Merge all HTL modules\n",
    "!find ../output/manual_clustering/cbai_transcriptomev4.0/all_genes/Crab_B -maxdepth 1 -name cluster_HTL*txt | xargs -n 1 tail -n +2 > ../output/manual_clustering/cbai_transcriptomev4.0/all_genes/Crab_B/merged_modules/HTL_merged.txt\n",
    "\n",
    "# Merge all LTH modules\n",
    "!find ../output/manual_clustering/cbai_transcriptomev4.0/all_genes/Crab_B -maxdepth 1 -name cluster_LTH*txt | xargs -n 1 tail -n +2 > ../output/manual_clustering/cbai_transcriptomev4.0/all_genes/Crab_B/merged_modules/LTH_merged.txt\n",
    "\n",
    "# Merge all HLH modules\n",
    "!find ../output/manual_clustering/cbai_transcriptomev4.0/all_genes/Crab_B -maxdepth 1 -name cluster_HLH*txt | xargs -n 1 tail -n +2 > ../output/manual_clustering/cbai_transcriptomev4.0/all_genes/Crab_B/merged_modules/HLH_merged.txt\n",
    "\n",
    "# Merge all LHL modules\n",
    "!find ../output/manual_clustering/cbai_transcriptomev4.0/all_genes/Crab_B -maxdepth 1 -name cluster_LHL*txt | xargs -n 1 tail -n +2 > ../output/manual_clustering/cbai_transcriptomev4.0/all_genes/Crab_B/merged_modules/LHL_merged.txt\n",
    "\n",
    "# Won't merge MIX modules, as none are present in this crab"
   ]
  },
  {
   "cell_type": "markdown",
   "metadata": {},
   "source": [
    "Check we did this right by examining number of lines. There will be slightly fewer in merged_modules, as we removed headers"
   ]
  },
  {
   "cell_type": "code",
   "execution_count": 10,
   "metadata": {},
   "outputs": [
    {
     "name": "stdout",
     "output_type": "stream",
     "text": [
      "  1645 ../output/manual_clustering/cbai_transcriptomev4.0/all_genes/Crab_B/cluster_HLH.txt\n",
      "   812 ../output/manual_clustering/cbai_transcriptomev4.0/all_genes/Crab_B/cluster_HTL.txt\n",
      "   996 ../output/manual_clustering/cbai_transcriptomev4.0/all_genes/Crab_B/cluster_HTL2.txt\n",
      "  2568 ../output/manual_clustering/cbai_transcriptomev4.0/all_genes/Crab_B/cluster_LHL.txt\n",
      "   484 ../output/manual_clustering/cbai_transcriptomev4.0/all_genes/Crab_B/cluster_LTH.txt\n",
      "  1014 ../output/manual_clustering/cbai_transcriptomev4.0/all_genes/Crab_B/cluster_LTH2.txt\n",
      "  7519 total\n"
     ]
    }
   ],
   "source": [
    "!wc -l ../output/manual_clustering/cbai_transcriptomev4.0/all_genes/Crab_B/cluster_*txt"
   ]
  },
  {
   "cell_type": "code",
   "execution_count": 11,
   "metadata": {},
   "outputs": [
    {
     "name": "stdout",
     "output_type": "stream",
     "text": [
      "  1644 ../output/manual_clustering/cbai_transcriptomev4.0/all_genes/Crab_B/merged_modules/HLH_merged.txt\n",
      "  1806 ../output/manual_clustering/cbai_transcriptomev4.0/all_genes/Crab_B/merged_modules/HTL_merged.txt\n",
      "  2567 ../output/manual_clustering/cbai_transcriptomev4.0/all_genes/Crab_B/merged_modules/LHL_merged.txt\n",
      "  1496 ../output/manual_clustering/cbai_transcriptomev4.0/all_genes/Crab_B/merged_modules/LTH_merged.txt\n",
      "  7513 total\n"
     ]
    }
   ],
   "source": [
    "!wc -l ../output/manual_clustering/cbai_transcriptomev4.0/all_genes/Crab_B/merged_modules/*merged.txt"
   ]
  },
  {
   "cell_type": "markdown",
   "metadata": {},
   "source": [
    "Looks good! We can move on."
   ]
  },
  {
   "cell_type": "markdown",
   "metadata": {},
   "source": [
    "## Crab C"
   ]
  },
  {
   "cell_type": "code",
   "execution_count": 12,
   "metadata": {},
   "outputs": [
    {
     "name": "stdout",
     "output_type": "stream",
     "text": [
      "bar_5CtsPerCrab\t\t  cluster_HTL_heatmap.png   cluster_LTH2.txt\n",
      "cluster_HLH.txt\t\t  cluster_LHL.txt\t    cluster_LTH2_heatmap.png\n",
      "cluster_HLH_heatmap.png   cluster_LHL2.txt\t    cluster_LTH_heatmap.png\n",
      "cluster_HTL.txt\t\t  cluster_LHL2_heatmap.png  heatmap.png\n",
      "cluster_HTL2.txt\t  cluster_LHL_heatmap.png\n",
      "cluster_HTL2_heatmap.png  cluster_LTH.txt\n"
     ]
    }
   ],
   "source": [
    "!ls ../output/manual_clustering/cbai_transcriptomev4.0/all_genes/Crab_C/"
   ]
  },
  {
   "cell_type": "code",
   "execution_count": 13,
   "metadata": {},
   "outputs": [],
   "source": [
    "# Make new directory for merged modules\n",
    "!mkdir ../output/manual_clustering/cbai_transcriptomev4.0/all_genes/Crab_C/merged_modules\n",
    "\n",
    "# Merge all HTL modules\n",
    "!find ../output/manual_clustering/cbai_transcriptomev4.0/all_genes/Crab_C -maxdepth 1 -name cluster_HTL*txt | xargs -n 1 tail -n +2 > ../output/manual_clustering/cbai_transcriptomev4.0/all_genes/Crab_C/merged_modules/HTL_merged.txt\n",
    "\n",
    "# Merge all LTH modules\n",
    "!find ../output/manual_clustering/cbai_transcriptomev4.0/all_genes/Crab_C -maxdepth 1 -name cluster_LTH*txt | xargs -n 1 tail -n +2 > ../output/manual_clustering/cbai_transcriptomev4.0/all_genes/Crab_C/merged_modules/LTH_merged.txt\n",
    "\n",
    "# Merge all HLH modules\n",
    "!find ../output/manual_clustering/cbai_transcriptomev4.0/all_genes/Crab_C -maxdepth 1 -name cluster_HLH*txt | xargs -n 1 tail -n +2 > ../output/manual_clustering/cbai_transcriptomev4.0/all_genes/Crab_C/merged_modules/HLH_merged.txt\n",
    "\n",
    "# Merge all LHL modules\n",
    "!find ../output/manual_clustering/cbai_transcriptomev4.0/all_genes/Crab_C -maxdepth 1 -name cluster_LHL*txt | xargs -n 1 tail -n +2 > ../output/manual_clustering/cbai_transcriptomev4.0/all_genes/Crab_C/merged_modules/LHL_merged.txt\n",
    "\n",
    "# Won't merge MIX modules, as none are present in this crab"
   ]
  },
  {
   "cell_type": "markdown",
   "metadata": {},
   "source": [
    "Check we did this right by examining number of lines. There will be slightly fewer in merged_modules, as we removed headers"
   ]
  },
  {
   "cell_type": "code",
   "execution_count": 14,
   "metadata": {},
   "outputs": [
    {
     "name": "stdout",
     "output_type": "stream",
     "text": [
      "   888 ../output/manual_clustering/cbai_transcriptomev4.0/all_genes/Crab_C/cluster_HLH.txt\n",
      "  1777 ../output/manual_clustering/cbai_transcriptomev4.0/all_genes/Crab_C/cluster_HTL.txt\n",
      "   953 ../output/manual_clustering/cbai_transcriptomev4.0/all_genes/Crab_C/cluster_HTL2.txt\n",
      "   822 ../output/manual_clustering/cbai_transcriptomev4.0/all_genes/Crab_C/cluster_LHL.txt\n",
      "   124 ../output/manual_clustering/cbai_transcriptomev4.0/all_genes/Crab_C/cluster_LHL2.txt\n",
      "  2189 ../output/manual_clustering/cbai_transcriptomev4.0/all_genes/Crab_C/cluster_LTH.txt\n",
      "   354 ../output/manual_clustering/cbai_transcriptomev4.0/all_genes/Crab_C/cluster_LTH2.txt\n",
      "  7107 total\n"
     ]
    }
   ],
   "source": [
    "!wc -l ../output/manual_clustering/cbai_transcriptomev4.0/all_genes/Crab_C/cluster_*txt"
   ]
  },
  {
   "cell_type": "code",
   "execution_count": 15,
   "metadata": {},
   "outputs": [
    {
     "name": "stdout",
     "output_type": "stream",
     "text": [
      "   887 ../output/manual_clustering/cbai_transcriptomev4.0/all_genes/Crab_C/merged_modules/HLH_merged.txt\n",
      "  2728 ../output/manual_clustering/cbai_transcriptomev4.0/all_genes/Crab_C/merged_modules/HTL_merged.txt\n",
      "   944 ../output/manual_clustering/cbai_transcriptomev4.0/all_genes/Crab_C/merged_modules/LHL_merged.txt\n",
      "  2541 ../output/manual_clustering/cbai_transcriptomev4.0/all_genes/Crab_C/merged_modules/LTH_merged.txt\n",
      "  7100 total\n"
     ]
    }
   ],
   "source": [
    "!wc -l ../output/manual_clustering/cbai_transcriptomev4.0/all_genes/Crab_C/merged_modules/*merged.txt"
   ]
  },
  {
   "cell_type": "markdown",
   "metadata": {},
   "source": [
    "Looks good! We can move on."
   ]
  },
  {
   "cell_type": "markdown",
   "metadata": {},
   "source": [
    "## Crab D"
   ]
  },
  {
   "cell_type": "code",
   "execution_count": 16,
   "metadata": {},
   "outputs": [
    {
     "name": "stdout",
     "output_type": "stream",
     "text": [
      "bar_5CtsPerCrab\t\t  cluster_HTL3.txt\t    cluster_LTH2.txt\n",
      "cluster_HLH.txt\t\t  cluster_HTL3_heatmap.png  cluster_LTH2_heatmap.png\n",
      "cluster_HLH_heatmap.png   cluster_HTL_heatmap.png   cluster_LTH3.txt\n",
      "cluster_HTL.txt\t\t  cluster_LHL.txt\t    cluster_LTH3_heatmap.png\n",
      "cluster_HTL2.txt\t  cluster_LHL_heatmap.png   cluster_LTH_heatmap.png\n",
      "cluster_HTL2_heatmap.png  cluster_LTH.txt\t    heatmap.png\n"
     ]
    }
   ],
   "source": [
    "!ls ../output/manual_clustering/cbai_transcriptomev4.0/all_genes/Crab_D/"
   ]
  },
  {
   "cell_type": "code",
   "execution_count": 17,
   "metadata": {},
   "outputs": [],
   "source": [
    "# Make new directory for merged modules\n",
    "!mkdir ../output/manual_clustering/cbai_transcriptomev4.0/all_genes/Crab_D/merged_modules\n",
    "\n",
    "# Merge all HTL modules\n",
    "!find ../output/manual_clustering/cbai_transcriptomev4.0/all_genes/Crab_D -maxdepth 1 -name cluster_HTL*txt | xargs -n 1 tail -n +2 > ../output/manual_clustering/cbai_transcriptomev4.0/all_genes/Crab_D/merged_modules/HTL_merged.txt\n",
    "\n",
    "# Merge all LTH modules\n",
    "!find ../output/manual_clustering/cbai_transcriptomev4.0/all_genes/Crab_D -maxdepth 1 -name cluster_LTH*txt | xargs -n 1 tail -n +2 > ../output/manual_clustering/cbai_transcriptomev4.0/all_genes/Crab_D/merged_modules/LTH_merged.txt\n",
    "\n",
    "# Merge all HLH modules\n",
    "!find ../output/manual_clustering/cbai_transcriptomev4.0/all_genes/Crab_D -maxdepth 1 -name cluster_HLH*txt | xargs -n 1 tail -n +2 > ../output/manual_clustering/cbai_transcriptomev4.0/all_genes/Crab_D/merged_modules/HLH_merged.txt\n",
    "\n",
    "# Merge all LHL modules\n",
    "!find ../output/manual_clustering/cbai_transcriptomev4.0/all_genes/Crab_D -maxdepth 1 -name cluster_LHL*txt | xargs -n 1 tail -n +2 > ../output/manual_clustering/cbai_transcriptomev4.0/all_genes/Crab_D/merged_modules/LHL_merged.txt\n",
    "\n",
    "# Won't merge MIX modules, as none are present in this crab"
   ]
  },
  {
   "cell_type": "markdown",
   "metadata": {},
   "source": [
    "Check we did this right by examining number of lines. There will be slightly fewer in merged_modules, as we removed headers"
   ]
  },
  {
   "cell_type": "code",
   "execution_count": 18,
   "metadata": {},
   "outputs": [
    {
     "name": "stdout",
     "output_type": "stream",
     "text": [
      "   401 ../output/manual_clustering/cbai_transcriptomev4.0/all_genes/Crab_D/cluster_HLH.txt\n",
      "    58 ../output/manual_clustering/cbai_transcriptomev4.0/all_genes/Crab_D/cluster_HTL.txt\n",
      "   277 ../output/manual_clustering/cbai_transcriptomev4.0/all_genes/Crab_D/cluster_HTL2.txt\n",
      "    26 ../output/manual_clustering/cbai_transcriptomev4.0/all_genes/Crab_D/cluster_HTL3.txt\n",
      "  2744 ../output/manual_clustering/cbai_transcriptomev4.0/all_genes/Crab_D/cluster_LHL.txt\n",
      "  3257 ../output/manual_clustering/cbai_transcriptomev4.0/all_genes/Crab_D/cluster_LTH.txt\n",
      "   194 ../output/manual_clustering/cbai_transcriptomev4.0/all_genes/Crab_D/cluster_LTH2.txt\n",
      "   124 ../output/manual_clustering/cbai_transcriptomev4.0/all_genes/Crab_D/cluster_LTH3.txt\n",
      "  7081 total\n"
     ]
    }
   ],
   "source": [
    "!wc -l ../output/manual_clustering/cbai_transcriptomev4.0/all_genes/Crab_D/cluster_*txt"
   ]
  },
  {
   "cell_type": "code",
   "execution_count": 19,
   "metadata": {},
   "outputs": [
    {
     "name": "stdout",
     "output_type": "stream",
     "text": [
      "   400 ../output/manual_clustering/cbai_transcriptomev4.0/all_genes/Crab_D/merged_modules/HLH_merged.txt\n",
      "   358 ../output/manual_clustering/cbai_transcriptomev4.0/all_genes/Crab_D/merged_modules/HTL_merged.txt\n",
      "  2743 ../output/manual_clustering/cbai_transcriptomev4.0/all_genes/Crab_D/merged_modules/LHL_merged.txt\n",
      "  3572 ../output/manual_clustering/cbai_transcriptomev4.0/all_genes/Crab_D/merged_modules/LTH_merged.txt\n",
      "  7073 total\n"
     ]
    }
   ],
   "source": [
    "!wc -l ../output/manual_clustering/cbai_transcriptomev4.0/all_genes/Crab_D/merged_modules/*merged.txt"
   ]
  },
  {
   "cell_type": "markdown",
   "metadata": {},
   "source": [
    "Looks good! We can move on."
   ]
  },
  {
   "cell_type": "markdown",
   "metadata": {},
   "source": [
    "## Crab E"
   ]
  },
  {
   "cell_type": "code",
   "execution_count": 20,
   "metadata": {},
   "outputs": [
    {
     "name": "stdout",
     "output_type": "stream",
     "text": [
      "bar_5CtsPerCrab\t\t  cluster_HTL_heatmap.png   cluster_LTH2.txt\n",
      "cluster_HLH.txt\t\t  cluster_LHL.txt\t    cluster_LTH2_heatmap.png\n",
      "cluster_HLH_heatmap.png   cluster_LHL2.txt\t    cluster_LTH_heatmap.png\n",
      "cluster_HTL.txt\t\t  cluster_LHL2_heatmap.png  heatmap.png\n",
      "cluster_HTL2.txt\t  cluster_LHL_heatmap.png\n",
      "cluster_HTL2_heatmap.png  cluster_LTH.txt\n"
     ]
    }
   ],
   "source": [
    "!ls ../output/manual_clustering/cbai_transcriptomev4.0/all_genes/Crab_E/"
   ]
  },
  {
   "cell_type": "code",
   "execution_count": 21,
   "metadata": {},
   "outputs": [],
   "source": [
    "# Make new directory for merged modules\n",
    "!mkdir ../output/manual_clustering/cbai_transcriptomev4.0/all_genes/Crab_E/merged_modules\n",
    "\n",
    "# Merge all HLH modules\n",
    "!find ../output/manual_clustering/cbai_transcriptomev4.0/all_genes/Crab_E -maxdepth 1 -name cluster_HLH*txt | xargs -n 1 tail -n +2 > ../output/manual_clustering/cbai_transcriptomev4.0/all_genes/Crab_E/merged_modules/HLH_merged.txt\n",
    "\n",
    "# Merge all HTL modules\n",
    "!find ../output/manual_clustering/cbai_transcriptomev4.0/all_genes/Crab_E -maxdepth 1 -name cluster_HTL*txt | xargs -n 1 tail -n +2 > ../output/manual_clustering/cbai_transcriptomev4.0/all_genes/Crab_E/merged_modules/HTL_merged.txt\n",
    "\n",
    "# Merge all LTH modules\n",
    "!find ../output/manual_clustering/cbai_transcriptomev4.0/all_genes/Crab_E -maxdepth 1 -name cluster_LTH*txt | xargs -n 1 tail -n +2 > ../output/manual_clustering/cbai_transcriptomev4.0/all_genes/Crab_E/merged_modules/LTH_merged.txt\n",
    "\n",
    "# Merge all LHL modules\n",
    "!find ../output/manual_clustering/cbai_transcriptomev4.0/all_genes/Crab_E -maxdepth 1 -name cluster_LHL*txt | xargs -n 1 tail -n +2 > ../output/manual_clustering/cbai_transcriptomev4.0/all_genes/Crab_E/merged_modules/LHL_merged.txt\n",
    "\n",
    "# Won't merge MIX modules, as none are present in this crab"
   ]
  },
  {
   "cell_type": "markdown",
   "metadata": {},
   "source": [
    "Check we did this right by examining number of lines. There will be slightly fewer in merged_modules, as we removed headers"
   ]
  },
  {
   "cell_type": "code",
   "execution_count": 22,
   "metadata": {},
   "outputs": [
    {
     "name": "stdout",
     "output_type": "stream",
     "text": [
      "   636 ../output/manual_clustering/cbai_transcriptomev4.0/all_genes/Crab_E/cluster_HLH.txt\n",
      "   852 ../output/manual_clustering/cbai_transcriptomev4.0/all_genes/Crab_E/cluster_HTL.txt\n",
      "  1600 ../output/manual_clustering/cbai_transcriptomev4.0/all_genes/Crab_E/cluster_HTL2.txt\n",
      "  2598 ../output/manual_clustering/cbai_transcriptomev4.0/all_genes/Crab_E/cluster_LHL.txt\n",
      "   290 ../output/manual_clustering/cbai_transcriptomev4.0/all_genes/Crab_E/cluster_LHL2.txt\n",
      "   237 ../output/manual_clustering/cbai_transcriptomev4.0/all_genes/Crab_E/cluster_LTH.txt\n",
      "  1187 ../output/manual_clustering/cbai_transcriptomev4.0/all_genes/Crab_E/cluster_LTH2.txt\n",
      "  7400 total\n"
     ]
    }
   ],
   "source": [
    "!wc -l ../output/manual_clustering/cbai_transcriptomev4.0/all_genes/Crab_E/cluster_*txt"
   ]
  },
  {
   "cell_type": "code",
   "execution_count": 23,
   "metadata": {},
   "outputs": [
    {
     "name": "stdout",
     "output_type": "stream",
     "text": [
      "   635 ../output/manual_clustering/cbai_transcriptomev4.0/all_genes/Crab_E/merged_modules/HLH_merged.txt\n",
      "  2450 ../output/manual_clustering/cbai_transcriptomev4.0/all_genes/Crab_E/merged_modules/HTL_merged.txt\n",
      "  2886 ../output/manual_clustering/cbai_transcriptomev4.0/all_genes/Crab_E/merged_modules/LHL_merged.txt\n",
      "  1422 ../output/manual_clustering/cbai_transcriptomev4.0/all_genes/Crab_E/merged_modules/LTH_merged.txt\n",
      "  7393 total\n"
     ]
    }
   ],
   "source": [
    "!wc -l ../output/manual_clustering/cbai_transcriptomev4.0/all_genes/Crab_E/merged_modules/*merged.txt"
   ]
  },
  {
   "cell_type": "markdown",
   "metadata": {},
   "source": [
    "Looks good! We can move on."
   ]
  },
  {
   "cell_type": "markdown",
   "metadata": {},
   "source": [
    "## Crab F"
   ]
  },
  {
   "cell_type": "code",
   "execution_count": 24,
   "metadata": {},
   "outputs": [
    {
     "name": "stdout",
     "output_type": "stream",
     "text": [
      "bar_5CtsPerCrab\t\t  cluster_HTL_heatmap.png   cluster_LTH2.txt\n",
      "cluster_HLH.txt\t\t  cluster_LHL.txt\t    cluster_LTH2_heatmap.png\n",
      "cluster_HLH_heatmap.png   cluster_LHL2.txt\t    cluster_LTH_heatmap.png\n",
      "cluster_HTL.txt\t\t  cluster_LHL2_heatmap.png  heatmap.png\n",
      "cluster_HTL2.txt\t  cluster_LHL_heatmap.png\n",
      "cluster_HTL2_heatmap.png  cluster_LTH.txt\n"
     ]
    }
   ],
   "source": [
    "!ls ../output/manual_clustering/cbai_transcriptomev4.0/all_genes/Crab_F/"
   ]
  },
  {
   "cell_type": "code",
   "execution_count": 25,
   "metadata": {},
   "outputs": [],
   "source": [
    "# Make new directory for merged modules\n",
    "!mkdir ../output/manual_clustering/cbai_transcriptomev4.0/all_genes/Crab_F/merged_modules\n",
    "\n",
    "# Merge all HLH modules\n",
    "!find ../output/manual_clustering/cbai_transcriptomev4.0/all_genes/Crab_F -maxdepth 1 -name cluster_HLH*txt | xargs -n 1 tail -n +2 > ../output/manual_clustering/cbai_transcriptomev4.0/all_genes/Crab_F/merged_modules/HLH_merged.txt\n",
    "\n",
    "# Merge all HTL modules\n",
    "!find ../output/manual_clustering/cbai_transcriptomev4.0/all_genes/Crab_F -maxdepth 1 -name cluster_HTL*txt | xargs -n 1 tail -n +2 > ../output/manual_clustering/cbai_transcriptomev4.0/all_genes/Crab_F/merged_modules/HTL_merged.txt\n",
    "\n",
    "# Merge all LTH modules\n",
    "!find ../output/manual_clustering/cbai_transcriptomev4.0/all_genes/Crab_F -maxdepth 1 -name cluster_LTH*txt | xargs -n 1 tail -n +2 > ../output/manual_clustering/cbai_transcriptomev4.0/all_genes/Crab_F/merged_modules/LTH_merged.txt\n",
    "\n",
    "# Merge all LHL modules\n",
    "!find ../output/manual_clustering/cbai_transcriptomev4.0/all_genes/Crab_F -maxdepth 1 -name cluster_LHL*txt | xargs -n 1 tail -n +2 > ../output/manual_clustering/cbai_transcriptomev4.0/all_genes/Crab_F/merged_modules/LHL_merged.txt\n",
    "\n",
    "# Merge MIX modules\n",
    "!find ../output/manual_clustering/cbai_transcriptomev4.0/all_genes/Crab_F -maxdepth 1 -name cluster_MIX*txt | xargs -n 1 tail -n +2 > ../output/manual_clustering/cbai_transcriptomev4.0/all_genes/Crab_F/merged_modules/MIX_merged.txt\n",
    "\n",
    "# Won't merge HLH modules, as none are present in this crab"
   ]
  },
  {
   "cell_type": "markdown",
   "metadata": {},
   "source": [
    "Check we did this right by examining number of lines. There will be slightly fewer in merged_modules, as we removed headers"
   ]
  },
  {
   "cell_type": "code",
   "execution_count": 26,
   "metadata": {},
   "outputs": [
    {
     "name": "stdout",
     "output_type": "stream",
     "text": [
      "    94 ../output/manual_clustering/cbai_transcriptomev4.0/all_genes/Crab_F/cluster_HLH.txt\n",
      "  3597 ../output/manual_clustering/cbai_transcriptomev4.0/all_genes/Crab_F/cluster_HTL.txt\n",
      "   633 ../output/manual_clustering/cbai_transcriptomev4.0/all_genes/Crab_F/cluster_HTL2.txt\n",
      "  1301 ../output/manual_clustering/cbai_transcriptomev4.0/all_genes/Crab_F/cluster_LHL.txt\n",
      "   462 ../output/manual_clustering/cbai_transcriptomev4.0/all_genes/Crab_F/cluster_LHL2.txt\n",
      "   925 ../output/manual_clustering/cbai_transcriptomev4.0/all_genes/Crab_F/cluster_LTH.txt\n",
      "   235 ../output/manual_clustering/cbai_transcriptomev4.0/all_genes/Crab_F/cluster_LTH2.txt\n",
      "  7247 total\n"
     ]
    }
   ],
   "source": [
    "!wc -l ../output/manual_clustering/cbai_transcriptomev4.0/all_genes/Crab_F/cluster_*txt"
   ]
  },
  {
   "cell_type": "code",
   "execution_count": 27,
   "metadata": {},
   "outputs": [
    {
     "name": "stdout",
     "output_type": "stream",
     "text": [
      "    93 ../output/manual_clustering/cbai_transcriptomev4.0/all_genes/Crab_F/merged_modules/HLH_merged.txt\n",
      "  4228 ../output/manual_clustering/cbai_transcriptomev4.0/all_genes/Crab_F/merged_modules/HTL_merged.txt\n",
      "  1761 ../output/manual_clustering/cbai_transcriptomev4.0/all_genes/Crab_F/merged_modules/LHL_merged.txt\n",
      "  1158 ../output/manual_clustering/cbai_transcriptomev4.0/all_genes/Crab_F/merged_modules/LTH_merged.txt\n",
      "     0 ../output/manual_clustering/cbai_transcriptomev4.0/all_genes/Crab_F/merged_modules/MIX_merged.txt\n",
      "  7240 total\n"
     ]
    }
   ],
   "source": [
    "!wc -l ../output/manual_clustering/cbai_transcriptomev4.0/all_genes/Crab_F/merged_modules/*merged.txt"
   ]
  },
  {
   "cell_type": "markdown",
   "metadata": {},
   "source": [
    "Looks good! We can move on."
   ]
  },
  {
   "cell_type": "markdown",
   "metadata": {},
   "source": [
    "## Crab G"
   ]
  },
  {
   "cell_type": "code",
   "execution_count": 28,
   "metadata": {},
   "outputs": [
    {
     "name": "stdout",
     "output_type": "stream",
     "text": [
      "bar_5CtsPerCrab\t\t cluster_LH2.txt\t   cluster_MIX3.txt\n",
      "cluster_HL.txt\t\t cluster_LH2_heatmap.png   cluster_MIX3_heatmap.png\n",
      "cluster_HL2.txt\t\t cluster_LH_heatmap.png    cluster_MIX_heatmap.png\n",
      "cluster_HL2_heatmap.png  cluster_MIX.txt\t   heatmap.png\n",
      "cluster_HL_heatmap.png\t cluster_MIX2.txt\n",
      "cluster_LH.txt\t\t cluster_MIX2_heatmap.png\n"
     ]
    }
   ],
   "source": [
    "!ls ../output/manual_clustering/cbai_transcriptomev4.0/all_genes/Crab_G/"
   ]
  },
  {
   "cell_type": "code",
   "execution_count": 29,
   "metadata": {},
   "outputs": [],
   "source": [
    "# Make new directory for merged modules\n",
    "!mkdir ../output/manual_clustering/cbai_transcriptomev4.0/all_genes/Crab_G/merged_modules\n",
    "\n",
    "# Merge all HL modules\n",
    "!find ../output/manual_clustering/cbai_transcriptomev4.0/all_genes/Crab_G -maxdepth 1 -name cluster_HL*txt | xargs -n 1 tail -n +2 > ../output/manual_clustering/cbai_transcriptomev4.0/all_genes/Crab_G/merged_modules/HL_merged.txt\n",
    "\n",
    "# Merge all LH modules\n",
    "!find ../output/manual_clustering/cbai_transcriptomev4.0/all_genes/Crab_G -maxdepth 1 -name cluster_LH*txt | xargs -n 1 tail -n +2 > ../output/manual_clustering/cbai_transcriptomev4.0/all_genes/Crab_G/merged_modules/LH_merged.txt\n",
    "\n",
    "# Merge all MIX modules\n",
    "!find ../output/manual_clustering/cbai_transcriptomev4.0/all_genes/Crab_G -maxdepth 1 -name cluster_MIX*txt | xargs -n 1 tail -n +2 > ../output/manual_clustering/cbai_transcriptomev4.0/all_genes/Crab_G/merged_modules/MIX_merged.txt\n",
    "\n",
    "# Won't merge HH or LL modules, as none are present in this crab"
   ]
  },
  {
   "cell_type": "markdown",
   "metadata": {},
   "source": [
    "Check we did this right by examining number of lines. There will be slightly fewer in merged_modules, as we removed headers"
   ]
  },
  {
   "cell_type": "code",
   "execution_count": 30,
   "metadata": {},
   "outputs": [
    {
     "name": "stdout",
     "output_type": "stream",
     "text": [
      "   237 ../output/manual_clustering/cbai_transcriptomev4.0/all_genes/Crab_G/cluster_HL.txt\n",
      "    65 ../output/manual_clustering/cbai_transcriptomev4.0/all_genes/Crab_G/cluster_HL2.txt\n",
      "  3308 ../output/manual_clustering/cbai_transcriptomev4.0/all_genes/Crab_G/cluster_LH.txt\n",
      "    80 ../output/manual_clustering/cbai_transcriptomev4.0/all_genes/Crab_G/cluster_LH2.txt\n",
      "  3113 ../output/manual_clustering/cbai_transcriptomev4.0/all_genes/Crab_G/cluster_MIX.txt\n",
      "   825 ../output/manual_clustering/cbai_transcriptomev4.0/all_genes/Crab_G/cluster_MIX2.txt\n",
      "    37 ../output/manual_clustering/cbai_transcriptomev4.0/all_genes/Crab_G/cluster_MIX3.txt\n",
      "  7665 total\n"
     ]
    }
   ],
   "source": [
    "!wc -l ../output/manual_clustering/cbai_transcriptomev4.0/all_genes/Crab_G/cluster_*txt"
   ]
  },
  {
   "cell_type": "code",
   "execution_count": 31,
   "metadata": {},
   "outputs": [
    {
     "name": "stdout",
     "output_type": "stream",
     "text": [
      "   300 ../output/manual_clustering/cbai_transcriptomev4.0/all_genes/Crab_G/merged_modules/HL_merged.txt\n",
      "  3386 ../output/manual_clustering/cbai_transcriptomev4.0/all_genes/Crab_G/merged_modules/LH_merged.txt\n",
      "  3972 ../output/manual_clustering/cbai_transcriptomev4.0/all_genes/Crab_G/merged_modules/MIX_merged.txt\n",
      "  7658 total\n"
     ]
    }
   ],
   "source": [
    "!wc -l ../output/manual_clustering/cbai_transcriptomev4.0/all_genes/Crab_G/merged_modules/*merged.txt"
   ]
  },
  {
   "cell_type": "markdown",
   "metadata": {},
   "source": [
    "Looks good! We can move on."
   ]
  },
  {
   "cell_type": "markdown",
   "metadata": {},
   "source": [
    "## Crab H"
   ]
  },
  {
   "cell_type": "code",
   "execution_count": 32,
   "metadata": {},
   "outputs": [
    {
     "name": "stdout",
     "output_type": "stream",
     "text": [
      "bar_5CtsPerCrab\t\tcluster_MIX2.txt\t  cluster_MIX4.txt\n",
      "cluster_LH.txt\t\tcluster_MIX2_heatmap.png  cluster_MIX4_heatmap.png\n",
      "cluster_LH_heatmap.png\tcluster_MIX3.txt\t  cluster_MIX_heatmap.png\n",
      "cluster_MIX.txt\t\tcluster_MIX3_heatmap.png  heatmap.png\n"
     ]
    }
   ],
   "source": [
    "!ls ../output/manual_clustering/cbai_transcriptomev4.0/all_genes/Crab_H/"
   ]
  },
  {
   "cell_type": "code",
   "execution_count": 33,
   "metadata": {},
   "outputs": [],
   "source": [
    "# Make new directory for merged modules\n",
    "!mkdir ../output/manual_clustering/cbai_transcriptomev4.0/all_genes/Crab_H/merged_modules\n",
    "\n",
    "# Merge all LH modules\n",
    "!find ../output/manual_clustering/cbai_transcriptomev4.0/all_genes/Crab_H -maxdepth 1 -name cluster_LH*txt | xargs -n 1 tail -n +2 > ../output/manual_clustering/cbai_transcriptomev4.0/all_genes/Crab_H/merged_modules/LH_merged.txt\n",
    "\n",
    "# Merge all MIX modules\n",
    "!find ../output/manual_clustering/cbai_transcriptomev4.0/all_genes/Crab_H -maxdepth 1 -name cluster_MIX*txt | xargs -n 1 tail -n +2 > ../output/manual_clustering/cbai_transcriptomev4.0/all_genes/Crab_H/merged_modules/MIX_merged.txt\n",
    "\n",
    "# Won't merge LL, HL, or HH modules, as none are present in this crab"
   ]
  },
  {
   "cell_type": "markdown",
   "metadata": {},
   "source": [
    "Check we did this right by examining number of lines. There will be slightly fewer in merged_modules, as we removed headers"
   ]
  },
  {
   "cell_type": "code",
   "execution_count": 34,
   "metadata": {},
   "outputs": [
    {
     "name": "stdout",
     "output_type": "stream",
     "text": [
      "   155 ../output/manual_clustering/cbai_transcriptomev4.0/all_genes/Crab_H/cluster_LH.txt\n",
      "  5031 ../output/manual_clustering/cbai_transcriptomev4.0/all_genes/Crab_H/cluster_MIX.txt\n",
      "   340 ../output/manual_clustering/cbai_transcriptomev4.0/all_genes/Crab_H/cluster_MIX2.txt\n",
      "  1584 ../output/manual_clustering/cbai_transcriptomev4.0/all_genes/Crab_H/cluster_MIX3.txt\n",
      "    49 ../output/manual_clustering/cbai_transcriptomev4.0/all_genes/Crab_H/cluster_MIX4.txt\n",
      "  7159 total\n"
     ]
    }
   ],
   "source": [
    "!wc -l ../output/manual_clustering/cbai_transcriptomev4.0/all_genes/Crab_H/cluster_*txt"
   ]
  },
  {
   "cell_type": "code",
   "execution_count": 35,
   "metadata": {},
   "outputs": [
    {
     "name": "stdout",
     "output_type": "stream",
     "text": [
      "   154 ../output/manual_clustering/cbai_transcriptomev4.0/all_genes/Crab_H/merged_modules/LH_merged.txt\n",
      "  7000 ../output/manual_clustering/cbai_transcriptomev4.0/all_genes/Crab_H/merged_modules/MIX_merged.txt\n",
      "  7154 total\n"
     ]
    }
   ],
   "source": [
    "!wc -l ../output/manual_clustering/cbai_transcriptomev4.0/all_genes/Crab_H/merged_modules/*merged.txt"
   ]
  },
  {
   "cell_type": "markdown",
   "metadata": {},
   "source": [
    "Looks good! We can move on."
   ]
  },
  {
   "cell_type": "markdown",
   "metadata": {},
   "source": [
    "## Crab I"
   ]
  },
  {
   "cell_type": "code",
   "execution_count": 36,
   "metadata": {},
   "outputs": [
    {
     "name": "stdout",
     "output_type": "stream",
     "text": [
      "bar_5CtsPerCrab\t\tcluster_MIX.txt\t\t  cluster_MIX4.txt\n",
      "cluster_HL.txt\t\tcluster_MIX2.txt\t  cluster_MIX4_heatmap.png\n",
      "cluster_HL_heatmap.png\tcluster_MIX2_heatmap.png  cluster_MIX_heatmap.png\n",
      "cluster_LH.txt\t\tcluster_MIX3.txt\t  heatmap.png\n",
      "cluster_LH_heatmap.png\tcluster_MIX3_heatmap.png\n"
     ]
    }
   ],
   "source": [
    "!ls ../output/manual_clustering/cbai_transcriptomev4.0/all_genes/Crab_I/"
   ]
  },
  {
   "cell_type": "code",
   "execution_count": 37,
   "metadata": {},
   "outputs": [],
   "source": [
    "# Make new directory for merged modules\n",
    "!mkdir ../output/manual_clustering/cbai_transcriptomev4.0/all_genes/Crab_I/merged_modules\n",
    "\n",
    "# Merge all HL modules\n",
    "!find ../output/manual_clustering/cbai_transcriptomev4.0/all_genes/Crab_I -maxdepth 1 -name cluster_HL*txt | xargs -n 1 tail -n +2 > ../output/manual_clustering/cbai_transcriptomev4.0/all_genes/Crab_I/merged_modules/HL_merged.txt\n",
    "\n",
    "# Merge all LH modules\n",
    "!find ../output/manual_clustering/cbai_transcriptomev4.0/all_genes/Crab_I -maxdepth 1 -name cluster_LH*txt | xargs -n 1 tail -n +2 > ../output/manual_clustering/cbai_transcriptomev4.0/all_genes/Crab_I/merged_modules/LH_merged.txt\n",
    "\n",
    "# Merge all MIX modules\n",
    "!find ../output/manual_clustering/cbai_transcriptomev4.0/all_genes/Crab_I -maxdepth 1 -name cluster_MIX*txt | xargs -n 1 tail -n +2 > ../output/manual_clustering/cbai_transcriptomev4.0/all_genes/Crab_I/merged_modules/MIX_merged.txt\n",
    "\n",
    "# Won't merge HH or LL modules, as none are present in this crab"
   ]
  },
  {
   "cell_type": "markdown",
   "metadata": {},
   "source": [
    "Check we did this right by examining number of lines. There will be slightly fewer in merged_modules, as we removed headers"
   ]
  },
  {
   "cell_type": "code",
   "execution_count": 38,
   "metadata": {},
   "outputs": [
    {
     "name": "stdout",
     "output_type": "stream",
     "text": [
      "    99 ../output/manual_clustering/cbai_transcriptomev4.0/all_genes/Crab_I/cluster_HL.txt\n",
      "   208 ../output/manual_clustering/cbai_transcriptomev4.0/all_genes/Crab_I/cluster_LH.txt\n",
      "  4740 ../output/manual_clustering/cbai_transcriptomev4.0/all_genes/Crab_I/cluster_MIX.txt\n",
      "  1423 ../output/manual_clustering/cbai_transcriptomev4.0/all_genes/Crab_I/cluster_MIX2.txt\n",
      "   816 ../output/manual_clustering/cbai_transcriptomev4.0/all_genes/Crab_I/cluster_MIX3.txt\n",
      "    70 ../output/manual_clustering/cbai_transcriptomev4.0/all_genes/Crab_I/cluster_MIX4.txt\n",
      "  7356 total\n"
     ]
    }
   ],
   "source": [
    "!wc -l ../output/manual_clustering/cbai_transcriptomev4.0/all_genes/Crab_I/cluster_*txt"
   ]
  },
  {
   "cell_type": "code",
   "execution_count": 39,
   "metadata": {},
   "outputs": [
    {
     "name": "stdout",
     "output_type": "stream",
     "text": [
      "    98 ../output/manual_clustering/cbai_transcriptomev4.0/all_genes/Crab_I/merged_modules/HL_merged.txt\n",
      "   207 ../output/manual_clustering/cbai_transcriptomev4.0/all_genes/Crab_I/merged_modules/LH_merged.txt\n",
      "  7045 ../output/manual_clustering/cbai_transcriptomev4.0/all_genes/Crab_I/merged_modules/MIX_merged.txt\n",
      "  7350 total\n"
     ]
    }
   ],
   "source": [
    "!wc -l ../output/manual_clustering/cbai_transcriptomev4.0/all_genes/Crab_I/merged_modules/*merged.txt"
   ]
  },
  {
   "cell_type": "markdown",
   "metadata": {},
   "source": [
    "Looks good! We can move on."
   ]
  },
  {
   "cell_type": "markdown",
   "metadata": {},
   "source": [
    "## Done merging"
   ]
  },
  {
   "cell_type": "markdown",
   "metadata": {},
   "source": [
    "Now, let's get a count of the number of lines in each module in each crab"
   ]
  },
  {
   "cell_type": "markdown",
   "metadata": {},
   "source": [
    "## Line Counts of Modules"
   ]
  },
  {
   "cell_type": "code",
   "execution_count": 40,
   "metadata": {},
   "outputs": [
    {
     "name": "stdout",
     "output_type": "stream",
     "text": [
      "     47 ../output/manual_clustering/cbai_transcriptomev4.0/all_genes/Crab_A/merged_modules/HLH_merged.txt\n",
      "   2424 ../output/manual_clustering/cbai_transcriptomev4.0/all_genes/Crab_A/merged_modules/HTL_merged.txt\n",
      "   2620 ../output/manual_clustering/cbai_transcriptomev4.0/all_genes/Crab_A/merged_modules/LHL_merged.txt\n",
      "   2279 ../output/manual_clustering/cbai_transcriptomev4.0/all_genes/Crab_A/merged_modules/LTH_merged.txt\n",
      "   1644 ../output/manual_clustering/cbai_transcriptomev4.0/all_genes/Crab_B/merged_modules/HLH_merged.txt\n",
      "   1806 ../output/manual_clustering/cbai_transcriptomev4.0/all_genes/Crab_B/merged_modules/HTL_merged.txt\n",
      "   2567 ../output/manual_clustering/cbai_transcriptomev4.0/all_genes/Crab_B/merged_modules/LHL_merged.txt\n",
      "   1496 ../output/manual_clustering/cbai_transcriptomev4.0/all_genes/Crab_B/merged_modules/LTH_merged.txt\n",
      "    887 ../output/manual_clustering/cbai_transcriptomev4.0/all_genes/Crab_C/merged_modules/HLH_merged.txt\n",
      "   2728 ../output/manual_clustering/cbai_transcriptomev4.0/all_genes/Crab_C/merged_modules/HTL_merged.txt\n",
      "    944 ../output/manual_clustering/cbai_transcriptomev4.0/all_genes/Crab_C/merged_modules/LHL_merged.txt\n",
      "   2541 ../output/manual_clustering/cbai_transcriptomev4.0/all_genes/Crab_C/merged_modules/LTH_merged.txt\n",
      "    400 ../output/manual_clustering/cbai_transcriptomev4.0/all_genes/Crab_D/merged_modules/HLH_merged.txt\n",
      "    358 ../output/manual_clustering/cbai_transcriptomev4.0/all_genes/Crab_D/merged_modules/HTL_merged.txt\n",
      "   2743 ../output/manual_clustering/cbai_transcriptomev4.0/all_genes/Crab_D/merged_modules/LHL_merged.txt\n",
      "   3572 ../output/manual_clustering/cbai_transcriptomev4.0/all_genes/Crab_D/merged_modules/LTH_merged.txt\n",
      "    635 ../output/manual_clustering/cbai_transcriptomev4.0/all_genes/Crab_E/merged_modules/HLH_merged.txt\n",
      "   2450 ../output/manual_clustering/cbai_transcriptomev4.0/all_genes/Crab_E/merged_modules/HTL_merged.txt\n",
      "   2886 ../output/manual_clustering/cbai_transcriptomev4.0/all_genes/Crab_E/merged_modules/LHL_merged.txt\n",
      "   1422 ../output/manual_clustering/cbai_transcriptomev4.0/all_genes/Crab_E/merged_modules/LTH_merged.txt\n",
      "     93 ../output/manual_clustering/cbai_transcriptomev4.0/all_genes/Crab_F/merged_modules/HLH_merged.txt\n",
      "   4228 ../output/manual_clustering/cbai_transcriptomev4.0/all_genes/Crab_F/merged_modules/HTL_merged.txt\n",
      "   1761 ../output/manual_clustering/cbai_transcriptomev4.0/all_genes/Crab_F/merged_modules/LHL_merged.txt\n",
      "   1158 ../output/manual_clustering/cbai_transcriptomev4.0/all_genes/Crab_F/merged_modules/LTH_merged.txt\n",
      "      0 ../output/manual_clustering/cbai_transcriptomev4.0/all_genes/Crab_F/merged_modules/MIX_merged.txt\n",
      "    300 ../output/manual_clustering/cbai_transcriptomev4.0/all_genes/Crab_G/merged_modules/HL_merged.txt\n",
      "   3386 ../output/manual_clustering/cbai_transcriptomev4.0/all_genes/Crab_G/merged_modules/LH_merged.txt\n",
      "   3972 ../output/manual_clustering/cbai_transcriptomev4.0/all_genes/Crab_G/merged_modules/MIX_merged.txt\n",
      "    154 ../output/manual_clustering/cbai_transcriptomev4.0/all_genes/Crab_H/merged_modules/LH_merged.txt\n",
      "   7000 ../output/manual_clustering/cbai_transcriptomev4.0/all_genes/Crab_H/merged_modules/MIX_merged.txt\n",
      "     98 ../output/manual_clustering/cbai_transcriptomev4.0/all_genes/Crab_I/merged_modules/HL_merged.txt\n",
      "    207 ../output/manual_clustering/cbai_transcriptomev4.0/all_genes/Crab_I/merged_modules/LH_merged.txt\n",
      "   7045 ../output/manual_clustering/cbai_transcriptomev4.0/all_genes/Crab_I/merged_modules/MIX_merged.txt\n",
      "  65851 total\n"
     ]
    }
   ],
   "source": [
    "!wc -l ../output/manual_clustering/cbai_transcriptomev4.0/all_genes/Crab_*/merged_modules/*merged.txt"
   ]
  },
  {
   "cell_type": "markdown",
   "metadata": {},
   "source": [
    "We'll now write the above word counts to a file, which we'll then turn into a table using R"
   ]
  },
  {
   "cell_type": "code",
   "execution_count": 41,
   "metadata": {},
   "outputs": [],
   "source": [
    "!wc -l ../output/manual_clustering/cbai_transcriptomev4.0/all_genes/Crab_*/merged_modules/*merged.txt > ../output/manual_clustering/cbai_transcriptomev4.0/all_genes/merged_modules_raw_counts.txt"
   ]
  }
 ],
 "metadata": {
  "kernelspec": {
   "display_name": "Python 3",
   "language": "python",
   "name": "python3"
  },
  "language_info": {
   "codemirror_mode": {
    "name": "ipython",
    "version": 3
   },
   "file_extension": ".py",
   "mimetype": "text/x-python",
   "name": "python",
   "nbconvert_exporter": "python",
   "pygments_lexer": "ipython3",
   "version": "3.8.3"
  }
 },
 "nbformat": 4,
 "nbformat_minor": 4
}

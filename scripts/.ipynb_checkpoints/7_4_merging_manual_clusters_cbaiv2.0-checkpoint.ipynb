{
 "cells": [
  {
   "cell_type": "markdown",
   "metadata": {},
   "source": [
    "Aidan Coyle\n",
    "\n",
    "afcoyle@uw.edu\n",
    "\n",
    "2021-07-01\n",
    "\n",
    "Roberts Lab, UW-SAFS"
   ]
  },
  {
   "cell_type": "markdown",
   "metadata": {},
   "source": [
    "IMPORTANT: Unlike the manual clusters for cbai_v4.0 and hemat_v1.6, the current bar for expression in these transcriptome's clusters is 10 counts total over all samples for that crab. For the other transcriptomes, it is 5 counts. This is because the number of counts for cbai_v2.0 stops a function used in heatmap creation from running in the previous script.\n",
    "\n",
    "In script 7_1_manual_clustering_cbaiv2.0.Rmd, we took libraries aligned to an unfiltered transcriptome (cbai_transcriptomev2.0), grouped them according to crab (e.g. took all libraries for Crab A, B, C...) and clustered gene expression into modules based on expression patterns\n",
    "\n",
    "We then described the expression patterns of each module as following one of five patterns. Crabs with three time points (ambient- and lowered-temperature treatment crab) had the following notation used:\n",
    "\n",
    "- High to low (HTL): Expression decreases over time (regardless of whether the decrease took place on Day 2 or Day 17)\n",
    "\n",
    "- Low to high (LTH): Expression increases over time (regardless of whether the increase took place on Day 2 or Day 17)\n",
    "\n",
    "- Low High Low (LHL): Expression increases on Day 2, and then drops on Day 17\n",
    "\n",
    "- High Low High (HLH): Expression drops on Day 2 and then increases on Day 17\n",
    "\n",
    "- Mixed (MIX): Expression within the module follows no clear pattern\n",
    "\n",
    "Crabs in the Elevated-temperature treatment group had only two time points (crabs G, H, and I). For these, a different notation was used. \n",
    "\n",
    "- LL = expression stays low\n",
    "\n",
    "- HH = expression stays high\n",
    "\n",
    "- LH = expression goes from low to high\n",
    "\n",
    "- HL = expression goes from high to low\n",
    "\n",
    "- MIX = mixed - no clear pattern of expression within the module"
   ]
  },
  {
   "cell_type": "markdown",
   "metadata": {},
   "source": [
    "Importantly, **multiple modules within a single crab could be given the same assignment**. This issue is what this script is meant to solve by merging gene lists."
   ]
  },
  {
   "cell_type": "markdown",
   "metadata": {},
   "source": [
    "First, let's see an example of one crab"
   ]
  },
  {
   "cell_type": "code",
   "execution_count": 1,
   "metadata": {},
   "outputs": [
    {
     "name": "stdout",
     "output_type": "stream",
     "text": [
      "cluster_HLH.txt\t\t  cluster_LHL.txt\t    cluster_MIX.txt\n",
      "cluster_HLH_heatmap.png   cluster_LHL_heatmap.png   cluster_MIX_heatmap.png\n",
      "cluster_HTL.txt\t\t  cluster_LTH.txt\t    heatmap.png\n",
      "cluster_HTL2.txt\t  cluster_LTH2.txt\t    manual_clustnums\n",
      "cluster_HTL2_heatmap.png  cluster_LTH2_heatmap.png  merged_modules\n",
      "cluster_HTL_heatmap.png   cluster_LTH_heatmap.png\n"
     ]
    }
   ],
   "source": [
    "!ls ../output/manual_clustering/cbai_transcriptomev2.0/Crab_A/"
   ]
  },
  {
   "cell_type": "markdown",
   "metadata": {},
   "source": [
    "And let's also see what each cluster looks like"
   ]
  },
  {
   "cell_type": "code",
   "execution_count": 2,
   "metadata": {},
   "outputs": [
    {
     "name": "stdout",
     "output_type": "stream",
     "text": [
      "\"id178_TPM\"\t\"id359_TPM\"\t\"id463_TPM\"\n",
      "\"TRINITY_DN27933_c0_g1_i1\"\t4.26297\t2.75102\t3.72238\n",
      "\"TRINITY_DN44127_c2_g1_i1\"\t5.7006\t1.23889\t7.34844\n",
      "\"TRINITY_DN1172_c38_g3_i3\"\t7.18434\t1.4249\t7.88532\n",
      "\"TRINITY_DN15444_c0_g1_i2\"\t4.30782\t2.5026\t3.74966\n",
      "\"TRINITY_DN60211_c0_g1_i14\"\t12.5478\t5.78291\t10.393\n",
      "\"TRINITY_DN14279_c0_g1_i14\"\t7.28032\t4.37067\t6.3788\n",
      "\"TRINITY_DN226_c5_g1_i16\"\t5.41642\t2.80646\t4.54258\n",
      "\"TRINITY_DN5229_c2_g1_i1\"\t11.0762\t0\t12.3603\n",
      "\"TRINITY_DN40265_c0_g1_i2\"\t9.12058\t1.99923\t12.5864\n"
     ]
    }
   ],
   "source": [
    "!head ../output/manual_clustering/cbai_transcriptomev2.0/Crab_A/cluster_HLH.txt"
   ]
  },
  {
   "cell_type": "markdown",
   "metadata": {},
   "source": [
    "Looks like we need to remove the first line of each file - otherwise, when we merge modules, the header line will be included. And since columns correspond to days 0, 2, and 17 samples, it's not too meaningful\n",
    "\n",
    "Now, let's see how many crab folders we have"
   ]
  },
  {
   "cell_type": "code",
   "execution_count": 3,
   "metadata": {},
   "outputs": [
    {
     "name": "stdout",
     "output_type": "stream",
     "text": [
      "Crab_A\tCrab_D\tCrab_G\tmerged_modules_percentages.csv\n",
      "Crab_B\tCrab_E\tCrab_H\tmerged_modules_raw_counts.csv\n",
      "Crab_C\tCrab_F\tCrab_I\n"
     ]
    }
   ],
   "source": [
    "!ls ../output/manual_clustering/cbai_transcriptomev2.0/"
   ]
  },
  {
   "cell_type": "markdown",
   "metadata": {},
   "source": [
    "Looks good! We can move on."
   ]
  },
  {
   "cell_type": "markdown",
   "metadata": {},
   "source": [
    "## Crab A\n",
    "\n",
    "We'll now start on merging all modules for Crab A\n",
    "\n",
    "Let's take another look at the current modules for Crab A"
   ]
  },
  {
   "cell_type": "code",
   "execution_count": 4,
   "metadata": {},
   "outputs": [
    {
     "name": "stdout",
     "output_type": "stream",
     "text": [
      "cluster_HLH.txt\t\t  cluster_LHL.txt\t    cluster_MIX.txt\n",
      "cluster_HLH_heatmap.png   cluster_LHL_heatmap.png   cluster_MIX_heatmap.png\n",
      "cluster_HTL.txt\t\t  cluster_LTH.txt\t    heatmap.png\n",
      "cluster_HTL2.txt\t  cluster_LTH2.txt\t    manual_clustnums\n",
      "cluster_HTL2_heatmap.png  cluster_LTH2_heatmap.png  merged_modules\n",
      "cluster_HTL_heatmap.png   cluster_LTH_heatmap.png\n"
     ]
    }
   ],
   "source": [
    "!ls ../output/manual_clustering/cbai_transcriptomev2.0/Crab_A/"
   ]
  },
  {
   "cell_type": "code",
   "execution_count": 11,
   "metadata": {},
   "outputs": [],
   "source": [
    "# Make new directory for merged modules\n",
    "!mkdir ../output/manual_clustering/cbai_transcriptomev2.0/Crab_A/merged_modules\n",
    "\n",
    "# Merge all HTL modules\n",
    "!find ../output/manual_clustering/cbai_transcriptomev2.0/Crab_A -maxdepth 1 -name cluster_HTL*txt | xargs -n 1 tail -n +2 > ../output/manual_clustering/cbai_transcriptomev2.0/Crab_A/merged_modules/HTL_merged.txt\n",
    "\n",
    "# Merge all LTH modules\n",
    "!find ../output/manual_clustering/cbai_transcriptomev2.0/Crab_A -maxdepth 1 -name cluster_LTH*txt | xargs -n 1 tail -n +2 > ../output/manual_clustering/cbai_transcriptomev2.0/Crab_A/merged_modules/LTH_merged.txt\n",
    "\n",
    "# Merge all HLH modules\n",
    "!find ../output/manual_clustering/cbai_transcriptomev2.0/Crab_A -maxdepth 1 -name cluster_HLH*txt | xargs -n 1 tail -n +2 > ../output/manual_clustering/cbai_transcriptomev2.0/Crab_A/merged_modules/HLH_merged.txt\n",
    "\n",
    "# Merge all LHL modules\n",
    "!find ../output/manual_clustering/cbai_transcriptomev2.0/Crab_A -maxdepth 1 -name cluster_LHL*txt | xargs -n 1 tail -n +2 > ../output/manual_clustering/cbai_transcriptomev2.0/Crab_A/merged_modules/LHL_merged.txt\n",
    "\n",
    "# Merge all MIX modules\n",
    "!find ../output/manual_clustering/cbai_transcriptomev2.0/Crab_A -maxdepth 1 -name cluster_MIX*txt | xargs -n 1 tail -n +2 > ../output/manual_clustering/cbai_transcriptomev2.0/Crab_A/merged_modules/MIX_merged.txt\n"
   ]
  },
  {
   "cell_type": "markdown",
   "metadata": {},
   "source": [
    "Check we did this right by examining number of lines. There will be slightly fewer in merged_modules, as we removed headers"
   ]
  },
  {
   "cell_type": "code",
   "execution_count": 12,
   "metadata": {},
   "outputs": [
    {
     "name": "stdout",
     "output_type": "stream",
     "text": [
      "     38 ../output/manual_clustering/cbai_transcriptomev2.0/Crab_A/cluster_HLH.txt\n",
      "    779 ../output/manual_clustering/cbai_transcriptomev2.0/Crab_A/cluster_HTL.txt\n",
      "   4814 ../output/manual_clustering/cbai_transcriptomev2.0/Crab_A/cluster_HTL2.txt\n",
      "   3334 ../output/manual_clustering/cbai_transcriptomev2.0/Crab_A/cluster_LHL.txt\n",
      "  26543 ../output/manual_clustering/cbai_transcriptomev2.0/Crab_A/cluster_LTH.txt\n",
      "    581 ../output/manual_clustering/cbai_transcriptomev2.0/Crab_A/cluster_LTH2.txt\n",
      "     65 ../output/manual_clustering/cbai_transcriptomev2.0/Crab_A/cluster_MIX.txt\n",
      "  36154 total\n"
     ]
    }
   ],
   "source": [
    "!wc -l ../output/manual_clustering/cbai_transcriptomev2.0/Crab_A/cluster_*txt"
   ]
  },
  {
   "cell_type": "code",
   "execution_count": 13,
   "metadata": {},
   "outputs": [
    {
     "name": "stdout",
     "output_type": "stream",
     "text": [
      "     37 ../output/manual_clustering/cbai_transcriptomev2.0/Crab_A/merged_modules/HLH_merged.txt\n",
      "   5591 ../output/manual_clustering/cbai_transcriptomev2.0/Crab_A/merged_modules/HTL_merged.txt\n",
      "   3333 ../output/manual_clustering/cbai_transcriptomev2.0/Crab_A/merged_modules/LHL_merged.txt\n",
      "  27122 ../output/manual_clustering/cbai_transcriptomev2.0/Crab_A/merged_modules/LTH_merged.txt\n",
      "     64 ../output/manual_clustering/cbai_transcriptomev2.0/Crab_A/merged_modules/MIX_merged.txt\n",
      "  36147 total\n"
     ]
    }
   ],
   "source": [
    "!wc -l ../output/manual_clustering/cbai_transcriptomev2.0/Crab_A/merged_modules/*merged.txt"
   ]
  },
  {
   "cell_type": "markdown",
   "metadata": {},
   "source": [
    "Looks good! We can move on."
   ]
  },
  {
   "cell_type": "markdown",
   "metadata": {},
   "source": [
    "## Crab B"
   ]
  },
  {
   "cell_type": "code",
   "execution_count": 14,
   "metadata": {},
   "outputs": [
    {
     "name": "stdout",
     "output_type": "stream",
     "text": [
      "cluster_HLH.txt\t\t  cluster_HTL3_heatmap.png  cluster_LTH.txt\n",
      "cluster_HLH_heatmap.png   cluster_HTL_heatmap.png   cluster_LTH_heatmap.png\n",
      "cluster_HTL.txt\t\t  cluster_LHL.txt\t    heatmap.png\n",
      "cluster_HTL2.txt\t  cluster_LHL2.txt\t    manual_clustnums\n",
      "cluster_HTL2_heatmap.png  cluster_LHL2_heatmap.png  merged_modules\n",
      "cluster_HTL3.txt\t  cluster_LHL_heatmap.png\n"
     ]
    }
   ],
   "source": [
    "!ls ../output/manual_clustering/cbai_transcriptomev2.0/Crab_B/"
   ]
  },
  {
   "cell_type": "code",
   "execution_count": 15,
   "metadata": {},
   "outputs": [],
   "source": [
    "# Make new directory for merged modules\n",
    "!mkdir ../output/manual_clustering/cbai_transcriptomev2.0/Crab_B/merged_modules\n",
    "\n",
    "# Merge all HTL modules\n",
    "!find ../output/manual_clustering/cbai_transcriptomev2.0/Crab_B -maxdepth 1 -name cluster_HTL*txt | xargs -n 1 tail -n +2 > ../output/manual_clustering/cbai_transcriptomev2.0/Crab_B/merged_modules/HTL_merged.txt\n",
    "\n",
    "# Merge all LTH modules\n",
    "!find ../output/manual_clustering/cbai_transcriptomev2.0/Crab_B -maxdepth 1 -name cluster_LTH*txt | xargs -n 1 tail -n +2 > ../output/manual_clustering/cbai_transcriptomev2.0/Crab_B/merged_modules/LTH_merged.txt\n",
    "\n",
    "# Merge all HLH modules\n",
    "!find ../output/manual_clustering/cbai_transcriptomev2.0/Crab_B -maxdepth 1 -name cluster_HLH*txt | xargs -n 1 tail -n +2 > ../output/manual_clustering/cbai_transcriptomev2.0/Crab_B/merged_modules/HLH_merged.txt\n",
    "\n",
    "# Merge all LHL modules\n",
    "!find ../output/manual_clustering/cbai_transcriptomev2.0/Crab_B -maxdepth 1 -name cluster_LHL*txt | xargs -n 1 tail -n +2 > ../output/manual_clustering/cbai_transcriptomev2.0/Crab_B/merged_modules/LHL_merged.txt\n",
    "\n",
    "# Won't merge MIX modules, as none are present in this crab"
   ]
  },
  {
   "cell_type": "markdown",
   "metadata": {},
   "source": [
    "Check we did this right by examining number of lines. There will be slightly fewer in merged_modules, as we removed headers"
   ]
  },
  {
   "cell_type": "code",
   "execution_count": 16,
   "metadata": {},
   "outputs": [
    {
     "name": "stdout",
     "output_type": "stream",
     "text": [
      "  1290 ../output/manual_clustering/cbai_transcriptomev2.0/Crab_B/cluster_HLH.txt\n",
      "  4256 ../output/manual_clustering/cbai_transcriptomev2.0/Crab_B/cluster_HTL.txt\n",
      "   103 ../output/manual_clustering/cbai_transcriptomev2.0/Crab_B/cluster_HTL2.txt\n",
      "   178 ../output/manual_clustering/cbai_transcriptomev2.0/Crab_B/cluster_HTL3.txt\n",
      "  9789 ../output/manual_clustering/cbai_transcriptomev2.0/Crab_B/cluster_LHL.txt\n",
      "   260 ../output/manual_clustering/cbai_transcriptomev2.0/Crab_B/cluster_LHL2.txt\n",
      "  4630 ../output/manual_clustering/cbai_transcriptomev2.0/Crab_B/cluster_LTH.txt\n",
      " 20506 total\n"
     ]
    }
   ],
   "source": [
    "!wc -l ../output/manual_clustering/cbai_transcriptomev2.0/Crab_B/cluster_*txt"
   ]
  },
  {
   "cell_type": "code",
   "execution_count": 17,
   "metadata": {},
   "outputs": [
    {
     "name": "stdout",
     "output_type": "stream",
     "text": [
      "  1289 ../output/manual_clustering/cbai_transcriptomev2.0/Crab_B/merged_modules/HLH_merged.txt\n",
      "  4534 ../output/manual_clustering/cbai_transcriptomev2.0/Crab_B/merged_modules/HTL_merged.txt\n",
      " 10047 ../output/manual_clustering/cbai_transcriptomev2.0/Crab_B/merged_modules/LHL_merged.txt\n",
      "  4629 ../output/manual_clustering/cbai_transcriptomev2.0/Crab_B/merged_modules/LTH_merged.txt\n",
      " 20499 total\n"
     ]
    }
   ],
   "source": [
    "!wc -l ../output/manual_clustering/cbai_transcriptomev2.0/Crab_B/merged_modules/*merged.txt"
   ]
  },
  {
   "cell_type": "markdown",
   "metadata": {},
   "source": [
    "Looks good! We can move on."
   ]
  },
  {
   "cell_type": "markdown",
   "metadata": {},
   "source": [
    "## Crab C"
   ]
  },
  {
   "cell_type": "code",
   "execution_count": 18,
   "metadata": {},
   "outputs": [
    {
     "name": "stdout",
     "output_type": "stream",
     "text": [
      "cluster_HLH.txt\t\t  cluster_LHL.txt\t    cluster_LTH2_heatmap.png\n",
      "cluster_HLH_heatmap.png   cluster_LHL2.txt\t    cluster_LTH_heatmap.png\n",
      "cluster_HTL.txt\t\t  cluster_LHL2_heatmap.png  heatmap.png\n",
      "cluster_HTL2.txt\t  cluster_LHL_heatmap.png   manual_clustnums\n",
      "cluster_HTL2_heatmap.png  cluster_LTH.txt\n",
      "cluster_HTL_heatmap.png   cluster_LTH2.txt\n"
     ]
    }
   ],
   "source": [
    "!ls ../output/manual_clustering/cbai_transcriptomev2.0/Crab_C/"
   ]
  },
  {
   "cell_type": "code",
   "execution_count": 19,
   "metadata": {},
   "outputs": [],
   "source": [
    "# Make new directory for merged modules\n",
    "!mkdir ../output/manual_clustering/cbai_transcriptomev2.0/Crab_C/merged_modules\n",
    "\n",
    "# Merge all HTL modules\n",
    "!find ../output/manual_clustering/cbai_transcriptomev2.0/Crab_C -maxdepth 1 -name cluster_HTL*txt | xargs -n 1 tail -n +2 > ../output/manual_clustering/cbai_transcriptomev2.0/Crab_C/merged_modules/HTL_merged.txt\n",
    "\n",
    "# Merge all LTH modules\n",
    "!find ../output/manual_clustering/cbai_transcriptomev2.0/Crab_C -maxdepth 1 -name cluster_LTH*txt | xargs -n 1 tail -n +2 > ../output/manual_clustering/cbai_transcriptomev2.0/Crab_C/merged_modules/LTH_merged.txt\n",
    "\n",
    "# Merge all HLH modules\n",
    "!find ../output/manual_clustering/cbai_transcriptomev2.0/Crab_C -maxdepth 1 -name cluster_HLH*txt | xargs -n 1 tail -n +2 > ../output/manual_clustering/cbai_transcriptomev2.0/Crab_C/merged_modules/HLH_merged.txt\n",
    "\n",
    "# Merge all LHL modules\n",
    "!find ../output/manual_clustering/cbai_transcriptomev2.0/Crab_C -maxdepth 1 -name cluster_LHL*txt | xargs -n 1 tail -n +2 > ../output/manual_clustering/cbai_transcriptomev2.0/Crab_C/merged_modules/LHL_merged.txt\n",
    "\n",
    "# Won't merge MIX modules, as none are present in this crab"
   ]
  },
  {
   "cell_type": "markdown",
   "metadata": {},
   "source": [
    "Check we did this right by examining number of lines. There will be slightly fewer in merged_modules, as we removed headers"
   ]
  },
  {
   "cell_type": "code",
   "execution_count": 20,
   "metadata": {},
   "outputs": [
    {
     "name": "stdout",
     "output_type": "stream",
     "text": [
      "  2365 ../output/manual_clustering/cbai_transcriptomev2.0/Crab_C/cluster_HLH.txt\n",
      "  1876 ../output/manual_clustering/cbai_transcriptomev2.0/Crab_C/cluster_HTL.txt\n",
      "  3088 ../output/manual_clustering/cbai_transcriptomev2.0/Crab_C/cluster_HTL2.txt\n",
      "  1235 ../output/manual_clustering/cbai_transcriptomev2.0/Crab_C/cluster_LHL.txt\n",
      "  1423 ../output/manual_clustering/cbai_transcriptomev2.0/Crab_C/cluster_LHL2.txt\n",
      "  2762 ../output/manual_clustering/cbai_transcriptomev2.0/Crab_C/cluster_LTH.txt\n",
      "   583 ../output/manual_clustering/cbai_transcriptomev2.0/Crab_C/cluster_LTH2.txt\n",
      " 13332 total\n"
     ]
    }
   ],
   "source": [
    "!wc -l ../output/manual_clustering/cbai_transcriptomev2.0/Crab_C/cluster_*txt"
   ]
  },
  {
   "cell_type": "code",
   "execution_count": 21,
   "metadata": {},
   "outputs": [
    {
     "name": "stdout",
     "output_type": "stream",
     "text": [
      "  2364 ../output/manual_clustering/cbai_transcriptomev2.0/Crab_C/merged_modules/HLH_merged.txt\n",
      "  4962 ../output/manual_clustering/cbai_transcriptomev2.0/Crab_C/merged_modules/HTL_merged.txt\n",
      "  2656 ../output/manual_clustering/cbai_transcriptomev2.0/Crab_C/merged_modules/LHL_merged.txt\n",
      "  3343 ../output/manual_clustering/cbai_transcriptomev2.0/Crab_C/merged_modules/LTH_merged.txt\n",
      " 13325 total\n"
     ]
    }
   ],
   "source": [
    "!wc -l ../output/manual_clustering/cbai_transcriptomev2.0/Crab_C/merged_modules/*merged.txt"
   ]
  },
  {
   "cell_type": "markdown",
   "metadata": {},
   "source": [
    "Looks good! We can move on."
   ]
  },
  {
   "cell_type": "markdown",
   "metadata": {},
   "source": [
    "## Crab D\n",
    "\n",
    "We'll now start on merging all modules for Crab D\n",
    "\n",
    "Let's take another look at the current modules for Crab D"
   ]
  },
  {
   "cell_type": "code",
   "execution_count": 22,
   "metadata": {},
   "outputs": [
    {
     "name": "stdout",
     "output_type": "stream",
     "text": [
      "cluster_HLH.txt\t\t  cluster_HTL_heatmap.png   cluster_LTH.txt\n",
      "cluster_HLH_heatmap.png   cluster_LHL.txt\t    cluster_LTH2.txt\n",
      "cluster_HTL.txt\t\t  cluster_LHL2.txt\t    cluster_LTH2_heatmap.png\n",
      "cluster_HTL2.txt\t  cluster_LHL2_heatmap.png  cluster_LTH_heatmap.png\n",
      "cluster_HTL2_heatmap.png  cluster_LHL_heatmap.png   heatmap.png\n"
     ]
    }
   ],
   "source": [
    "!ls ../output/manual_clustering/cbai_transcriptomev2.0/Crab_D/"
   ]
  },
  {
   "cell_type": "code",
   "execution_count": 23,
   "metadata": {},
   "outputs": [],
   "source": [
    "# Make new directory for merged modules\n",
    "!mkdir ../output/manual_clustering/cbai_transcriptomev2.0/Crab_D/merged_modules\n",
    "\n",
    "# Merge all HTL modules\n",
    "!find ../output/manual_clustering/cbai_transcriptomev2.0/Crab_D -maxdepth 1 -name cluster_HTL*txt | xargs -n 1 tail -n +2 > ../output/manual_clustering/cbai_transcriptomev2.0/Crab_D/merged_modules/HTL_merged.txt\n",
    "\n",
    "# Merge all LTH modules\n",
    "!find ../output/manual_clustering/cbai_transcriptomev2.0/Crab_D -maxdepth 1 -name cluster_LTH*txt | xargs -n 1 tail -n +2 > ../output/manual_clustering/cbai_transcriptomev2.0/Crab_D/merged_modules/LTH_merged.txt\n",
    "\n",
    "# Merge all HLH modules\n",
    "!find ../output/manual_clustering/cbai_transcriptomev2.0/Crab_D -maxdepth 1 -name cluster_HLH*txt | xargs -n 1 tail -n +2 > ../output/manual_clustering/cbai_transcriptomev2.0/Crab_D/merged_modules/HLH_merged.txt\n",
    "\n",
    "# Merge all LHL modules\n",
    "!find ../output/manual_clustering/cbai_transcriptomev2.0/Crab_D -maxdepth 1 -name cluster_LHL*txt | xargs -n 1 tail -n +2 > ../output/manual_clustering/cbai_transcriptomev2.0/Crab_D/merged_modules/LHL_merged.txt\n",
    "\n",
    "# Won't merge MIX modules, as none are present in this crab"
   ]
  },
  {
   "cell_type": "markdown",
   "metadata": {},
   "source": [
    "Check we did this right by examining number of lines. There will be slightly fewer in merged_modules, as we removed headers"
   ]
  },
  {
   "cell_type": "code",
   "execution_count": 24,
   "metadata": {},
   "outputs": [
    {
     "name": "stdout",
     "output_type": "stream",
     "text": [
      "   6619 ../output/manual_clustering/cbai_transcriptomev2.0/Crab_D/cluster_HLH.txt\n",
      "   9138 ../output/manual_clustering/cbai_transcriptomev2.0/Crab_D/cluster_HTL.txt\n",
      "   3658 ../output/manual_clustering/cbai_transcriptomev2.0/Crab_D/cluster_HTL2.txt\n",
      "   4994 ../output/manual_clustering/cbai_transcriptomev2.0/Crab_D/cluster_LHL.txt\n",
      "    798 ../output/manual_clustering/cbai_transcriptomev2.0/Crab_D/cluster_LHL2.txt\n",
      "   4708 ../output/manual_clustering/cbai_transcriptomev2.0/Crab_D/cluster_LTH.txt\n",
      "    124 ../output/manual_clustering/cbai_transcriptomev2.0/Crab_D/cluster_LTH2.txt\n",
      "  30039 total\n"
     ]
    }
   ],
   "source": [
    "!wc -l ../output/manual_clustering/cbai_transcriptomev2.0/Crab_D/cluster_*txt"
   ]
  },
  {
   "cell_type": "code",
   "execution_count": 25,
   "metadata": {},
   "outputs": [
    {
     "name": "stdout",
     "output_type": "stream",
     "text": [
      "   6618 ../output/manual_clustering/cbai_transcriptomev2.0/Crab_D/merged_modules/HLH_merged.txt\n",
      "  12794 ../output/manual_clustering/cbai_transcriptomev2.0/Crab_D/merged_modules/HTL_merged.txt\n",
      "   5790 ../output/manual_clustering/cbai_transcriptomev2.0/Crab_D/merged_modules/LHL_merged.txt\n",
      "   4830 ../output/manual_clustering/cbai_transcriptomev2.0/Crab_D/merged_modules/LTH_merged.txt\n",
      "  30032 total\n"
     ]
    }
   ],
   "source": [
    "!wc -l ../output/manual_clustering/cbai_transcriptomev2.0/Crab_D/merged_modules/*merged.txt"
   ]
  },
  {
   "cell_type": "markdown",
   "metadata": {},
   "source": [
    "Looks good! We can move on."
   ]
  },
  {
   "cell_type": "markdown",
   "metadata": {},
   "source": [
    "## Crab E"
   ]
  },
  {
   "cell_type": "code",
   "execution_count": 26,
   "metadata": {},
   "outputs": [
    {
     "name": "stdout",
     "output_type": "stream",
     "text": [
      "cluster_HLH.txt\t\t  cluster_LHL.txt\t    cluster_LTH2_heatmap.png\n",
      "cluster_HLH_heatmap.png   cluster_LHL2.txt\t    cluster_LTH_heatmap.png\n",
      "cluster_HTL.txt\t\t  cluster_LHL2_heatmap.png  heatmap.png\n",
      "cluster_HTL2.txt\t  cluster_LHL_heatmap.png   manual_clustnums\n",
      "cluster_HTL2_heatmap.png  cluster_LTH.txt\n",
      "cluster_HTL_heatmap.png   cluster_LTH2.txt\n"
     ]
    }
   ],
   "source": [
    "!ls ../output/manual_clustering/cbai_transcriptomev2.0/Crab_E/"
   ]
  },
  {
   "cell_type": "code",
   "execution_count": 27,
   "metadata": {},
   "outputs": [],
   "source": [
    "# Make new directory for merged modules\n",
    "!mkdir ../output/manual_clustering/cbai_transcriptomev2.0/Crab_E/merged_modules\n",
    "\n",
    "# Merge all HTL modules\n",
    "!find ../output/manual_clustering/cbai_transcriptomev2.0/Crab_E -maxdepth 1 -name cluster_HTL*txt | xargs -n 1 tail -n +2 > ../output/manual_clustering/cbai_transcriptomev2.0/Crab_E/merged_modules/HTL_merged.txt\n",
    "\n",
    "# Merge all LTH modules\n",
    "!find ../output/manual_clustering/cbai_transcriptomev2.0/Crab_E -maxdepth 1 -name cluster_LTH*txt | xargs -n 1 tail -n +2 > ../output/manual_clustering/cbai_transcriptomev2.0/Crab_E/merged_modules/LTH_merged.txt\n",
    "\n",
    "# Merge all HLH modules\n",
    "!find ../output/manual_clustering/cbai_transcriptomev2.0/Crab_E -maxdepth 1 -name cluster_HLH*txt | xargs -n 1 tail -n +2 > ../output/manual_clustering/cbai_transcriptomev2.0/Crab_E/merged_modules/HLH_merged.txt\n",
    "\n",
    "# Merge all LHL modules\n",
    "!find ../output/manual_clustering/cbai_transcriptomev2.0/Crab_E -maxdepth 1 -name cluster_LHL*txt | xargs -n 1 tail -n +2 > ../output/manual_clustering/cbai_transcriptomev2.0/Crab_E/merged_modules/LHL_merged.txt\n",
    "\n",
    "# Won't merge MIX modules, as none are present in this crab"
   ]
  },
  {
   "cell_type": "markdown",
   "metadata": {},
   "source": [
    "Check we did this right by examining number of lines. There will be slightly fewer in merged_modules, as we removed headers"
   ]
  },
  {
   "cell_type": "code",
   "execution_count": 28,
   "metadata": {},
   "outputs": [
    {
     "name": "stdout",
     "output_type": "stream",
     "text": [
      "  1522 ../output/manual_clustering/cbai_transcriptomev2.0/Crab_E/cluster_HLH.txt\n",
      "  5457 ../output/manual_clustering/cbai_transcriptomev2.0/Crab_E/cluster_HTL.txt\n",
      "  1749 ../output/manual_clustering/cbai_transcriptomev2.0/Crab_E/cluster_HTL2.txt\n",
      "  2544 ../output/manual_clustering/cbai_transcriptomev2.0/Crab_E/cluster_LHL.txt\n",
      "  1519 ../output/manual_clustering/cbai_transcriptomev2.0/Crab_E/cluster_LHL2.txt\n",
      "   299 ../output/manual_clustering/cbai_transcriptomev2.0/Crab_E/cluster_LTH.txt\n",
      "  3410 ../output/manual_clustering/cbai_transcriptomev2.0/Crab_E/cluster_LTH2.txt\n",
      " 16500 total\n"
     ]
    }
   ],
   "source": [
    "!wc -l ../output/manual_clustering/cbai_transcriptomev2.0/Crab_E/cluster_*txt"
   ]
  },
  {
   "cell_type": "code",
   "execution_count": 29,
   "metadata": {},
   "outputs": [
    {
     "name": "stdout",
     "output_type": "stream",
     "text": [
      "  1521 ../output/manual_clustering/cbai_transcriptomev2.0/Crab_E/merged_modules/HLH_merged.txt\n",
      "  7204 ../output/manual_clustering/cbai_transcriptomev2.0/Crab_E/merged_modules/HTL_merged.txt\n",
      "  4061 ../output/manual_clustering/cbai_transcriptomev2.0/Crab_E/merged_modules/LHL_merged.txt\n",
      "  3707 ../output/manual_clustering/cbai_transcriptomev2.0/Crab_E/merged_modules/LTH_merged.txt\n",
      " 16493 total\n"
     ]
    }
   ],
   "source": [
    "!wc -l ../output/manual_clustering/cbai_transcriptomev2.0/Crab_E/merged_modules/*merged.txt"
   ]
  },
  {
   "cell_type": "markdown",
   "metadata": {},
   "source": [
    "Looks good! We can move on."
   ]
  },
  {
   "cell_type": "markdown",
   "metadata": {},
   "source": [
    "## Crab F\n",
    "\n",
    "We'll now start on merging all modules for Crab F\n",
    "\n",
    "Let's take another look at the current modules for Crab F"
   ]
  },
  {
   "cell_type": "code",
   "execution_count": 30,
   "metadata": {},
   "outputs": [
    {
     "name": "stdout",
     "output_type": "stream",
     "text": [
      "cluster_HLH.txt\t\t  cluster_HTL_heatmap.png  cluster_LTH2_heatmap.png\n",
      "cluster_HLH_heatmap.png   cluster_LHL.txt\t   cluster_LTH_heatmap.png\n",
      "cluster_HTL.txt\t\t  cluster_LHL_heatmap.png  heatmap.png\n",
      "cluster_HTL2.txt\t  cluster_LTH.txt\n",
      "cluster_HTL2_heatmap.png  cluster_LTH2.txt\n"
     ]
    }
   ],
   "source": [
    "!ls ../output/manual_clustering/cbai_transcriptomev2.0/Crab_F/"
   ]
  },
  {
   "cell_type": "code",
   "execution_count": 31,
   "metadata": {},
   "outputs": [],
   "source": [
    "# Make new directory for merged modules\n",
    "!mkdir ../output/manual_clustering/cbai_transcriptomev2.0/Crab_F/merged_modules\n",
    "\n",
    "# Merge all HTL modules\n",
    "!find ../output/manual_clustering/cbai_transcriptomev2.0/Crab_F -maxdepth 1 -name cluster_HTL*txt | xargs -n 1 tail -n +2 > ../output/manual_clustering/cbai_transcriptomev2.0/Crab_F/merged_modules/HTL_merged.txt\n",
    "\n",
    "# Merge all LTH modules\n",
    "!find ../output/manual_clustering/cbai_transcriptomev2.0/Crab_F -maxdepth 1 -name cluster_LTH*txt | xargs -n 1 tail -n +2 > ../output/manual_clustering/cbai_transcriptomev2.0/Crab_F/merged_modules/LTH_merged.txt\n",
    "\n",
    "# Merge all HLH modules\n",
    "!find ../output/manual_clustering/cbai_transcriptomev2.0/Crab_F -maxdepth 1 -name cluster_HLH*txt | xargs -n 1 tail -n +2 > ../output/manual_clustering/cbai_transcriptomev2.0/Crab_F/merged_modules/HLH_merged.txt\n",
    "\n",
    "# Merge all LHL modules\n",
    "!find ../output/manual_clustering/cbai_transcriptomev2.0/Crab_F -maxdepth 1 -name cluster_LHL*txt | xargs -n 1 tail -n +2 > ../output/manual_clustering/cbai_transcriptomev2.0/Crab_F/merged_modules/LHL_merged.txt\n",
    "\n",
    "# Won't merge MIX modules, as none are present in this crab"
   ]
  },
  {
   "cell_type": "markdown",
   "metadata": {},
   "source": [
    "Check we did this right by examining number of lines. There will be slightly fewer in merged_modules, as we removed headers"
   ]
  },
  {
   "cell_type": "code",
   "execution_count": 32,
   "metadata": {},
   "outputs": [
    {
     "name": "stdout",
     "output_type": "stream",
     "text": [
      "    85 ../output/manual_clustering/cbai_transcriptomev2.0/Crab_F/cluster_HLH.txt\n",
      "  5306 ../output/manual_clustering/cbai_transcriptomev2.0/Crab_F/cluster_HTL.txt\n",
      "  1931 ../output/manual_clustering/cbai_transcriptomev2.0/Crab_F/cluster_HTL2.txt\n",
      "   395 ../output/manual_clustering/cbai_transcriptomev2.0/Crab_F/cluster_LHL.txt\n",
      "  5819 ../output/manual_clustering/cbai_transcriptomev2.0/Crab_F/cluster_LTH.txt\n",
      "   294 ../output/manual_clustering/cbai_transcriptomev2.0/Crab_F/cluster_LTH2.txt\n",
      " 13830 total\n"
     ]
    }
   ],
   "source": [
    "!wc -l ../output/manual_clustering/cbai_transcriptomev2.0/Crab_F/cluster_*txt"
   ]
  },
  {
   "cell_type": "code",
   "execution_count": 33,
   "metadata": {},
   "outputs": [
    {
     "name": "stdout",
     "output_type": "stream",
     "text": [
      "    84 ../output/manual_clustering/cbai_transcriptomev2.0/Crab_F/merged_modules/HLH_merged.txt\n",
      "  7235 ../output/manual_clustering/cbai_transcriptomev2.0/Crab_F/merged_modules/HTL_merged.txt\n",
      "   394 ../output/manual_clustering/cbai_transcriptomev2.0/Crab_F/merged_modules/LHL_merged.txt\n",
      "  6111 ../output/manual_clustering/cbai_transcriptomev2.0/Crab_F/merged_modules/LTH_merged.txt\n",
      " 13824 total\n"
     ]
    }
   ],
   "source": [
    "!wc -l ../output/manual_clustering/cbai_transcriptomev2.0/Crab_F/merged_modules/*merged.txt"
   ]
  },
  {
   "cell_type": "markdown",
   "metadata": {},
   "source": [
    "Looks good! We can move on."
   ]
  },
  {
   "cell_type": "markdown",
   "metadata": {},
   "source": [
    "## Crab G"
   ]
  },
  {
   "cell_type": "code",
   "execution_count": 34,
   "metadata": {},
   "outputs": [
    {
     "name": "stdout",
     "output_type": "stream",
     "text": [
      "cluster_HL.txt\t\t cluster_LH2.txt\t  cluster_MIX.txt\n",
      "cluster_HL2.txt\t\t cluster_LH2_heatmap.png  cluster_MIX_heatmap.png\n",
      "cluster_HL2_heatmap.png  cluster_LH_heatmap.png   heatmap.png\n",
      "cluster_HL_heatmap.png\t cluster_LL.txt\t\t  manual_clustnums\n",
      "cluster_LH.txt\t\t cluster_LL_heatmap.png\n"
     ]
    }
   ],
   "source": [
    "!ls ../output/manual_clustering/cbai_transcriptomev2.0/Crab_G/"
   ]
  },
  {
   "cell_type": "code",
   "execution_count": 35,
   "metadata": {},
   "outputs": [],
   "source": [
    "# Make new directory for merged modules\n",
    "!mkdir ../output/manual_clustering/cbai_transcriptomev2.0/Crab_G/merged_modules\n",
    "\n",
    "# Merge all HL modules\n",
    "!find ../output/manual_clustering/cbai_transcriptomev2.0/Crab_G -maxdepth 1 -name cluster_HL*txt | xargs -n 1 tail -n +2 > ../output/manual_clustering/cbai_transcriptomev2.0/Crab_G/merged_modules/HL_merged.txt\n",
    "\n",
    "# Merge all LH modules\n",
    "!find ../output/manual_clustering/cbai_transcriptomev2.0/Crab_G -maxdepth 1 -name cluster_LH*txt | xargs -n 1 tail -n +2 > ../output/manual_clustering/cbai_transcriptomev2.0/Crab_G/merged_modules/LH_merged.txt\n",
    "\n",
    "# Merge all LL modules\n",
    "!find ../output/manual_clustering/cbai_transcriptomev2.0/Crab_G -maxdepth 1 -name cluster_LL*txt | xargs -n 1 tail -n +2 > ../output/manual_clustering/cbai_transcriptomev2.0/Crab_G/merged_modules/LL_merged.txt\n",
    "\n",
    "# Merge all MIX modules\n",
    "!find ../output/manual_clustering/cbai_transcriptomev2.0/Crab_G -maxdepth 1 -name cluster_MIX*txt | xargs -n 1 tail -n +2 > ../output/manual_clustering/cbai_transcriptomev2.0/Crab_G/merged_modules/MIX_merged.txt\n",
    "\n",
    "# Won't merge HH modules, as none are present in this crab"
   ]
  },
  {
   "cell_type": "markdown",
   "metadata": {},
   "source": [
    "Check we did this right by examining number of lines. There will be slightly fewer in merged_modules, as we removed headers"
   ]
  },
  {
   "cell_type": "code",
   "execution_count": 36,
   "metadata": {},
   "outputs": [
    {
     "name": "stdout",
     "output_type": "stream",
     "text": [
      "  8021 ../output/manual_clustering/cbai_transcriptomev2.0/Crab_G/cluster_HL.txt\n",
      "   646 ../output/manual_clustering/cbai_transcriptomev2.0/Crab_G/cluster_HL2.txt\n",
      "  7737 ../output/manual_clustering/cbai_transcriptomev2.0/Crab_G/cluster_LH.txt\n",
      "   113 ../output/manual_clustering/cbai_transcriptomev2.0/Crab_G/cluster_LH2.txt\n",
      "   313 ../output/manual_clustering/cbai_transcriptomev2.0/Crab_G/cluster_LL.txt\n",
      "    25 ../output/manual_clustering/cbai_transcriptomev2.0/Crab_G/cluster_MIX.txt\n",
      " 16855 total\n"
     ]
    }
   ],
   "source": [
    "!wc -l ../output/manual_clustering/cbai_transcriptomev2.0/Crab_G/cluster_*txt"
   ]
  },
  {
   "cell_type": "code",
   "execution_count": 37,
   "metadata": {},
   "outputs": [
    {
     "name": "stdout",
     "output_type": "stream",
     "text": [
      "  8665 ../output/manual_clustering/cbai_transcriptomev2.0/Crab_G/merged_modules/HL_merged.txt\n",
      "  7848 ../output/manual_clustering/cbai_transcriptomev2.0/Crab_G/merged_modules/LH_merged.txt\n",
      "   312 ../output/manual_clustering/cbai_transcriptomev2.0/Crab_G/merged_modules/LL_merged.txt\n",
      "    24 ../output/manual_clustering/cbai_transcriptomev2.0/Crab_G/merged_modules/MIX_merged.txt\n",
      " 16849 total\n"
     ]
    }
   ],
   "source": [
    "!wc -l ../output/manual_clustering/cbai_transcriptomev2.0/Crab_G/merged_modules/*merged.txt"
   ]
  },
  {
   "cell_type": "markdown",
   "metadata": {},
   "source": [
    "Looks good! We can move on."
   ]
  },
  {
   "cell_type": "markdown",
   "metadata": {},
   "source": [
    "## Crab H"
   ]
  },
  {
   "cell_type": "code",
   "execution_count": 38,
   "metadata": {},
   "outputs": [
    {
     "name": "stdout",
     "output_type": "stream",
     "text": [
      "cluster_HL.txt\t\tcluster_LH_heatmap.png\t heatmap.png\n",
      "cluster_HL_heatmap.png\tcluster_MIX.txt\t\t manual_clustnums\n",
      "cluster_LH.txt\t\tcluster_MIX_heatmap.png\n"
     ]
    }
   ],
   "source": [
    "!ls ../output/manual_clustering/cbai_transcriptomev2.0/Crab_H/"
   ]
  },
  {
   "cell_type": "code",
   "execution_count": 39,
   "metadata": {},
   "outputs": [],
   "source": [
    "# Make new directory for merged modules\n",
    "!mkdir ../output/manual_clustering/cbai_transcriptomev2.0/Crab_H/merged_modules\n",
    "\n",
    "# Merge all HL modules\n",
    "!find ../output/manual_clustering/cbai_transcriptomev2.0/Crab_H -maxdepth 1 -name cluster_HL*txt | xargs -n 1 tail -n +2 > ../output/manual_clustering/cbai_transcriptomev2.0/Crab_H/merged_modules/HL_merged.txt\n",
    "\n",
    "# Merge all LH modules\n",
    "!find ../output/manual_clustering/cbai_transcriptomev2.0/Crab_H -maxdepth 1 -name cluster_LH*txt | xargs -n 1 tail -n +2 > ../output/manual_clustering/cbai_transcriptomev2.0/Crab_H/merged_modules/LH_merged.txt\n",
    "\n",
    "# Merge all MIX modules\n",
    "!find ../output/manual_clustering/cbai_transcriptomev2.0/Crab_H -maxdepth 1 -name cluster_MIX*txt | xargs -n 1 tail -n +2 > ../output/manual_clustering/cbai_transcriptomev2.0/Crab_H/merged_modules/MIX_merged.txt\n",
    "\n",
    "# Won't merge HH or LL modules, as none are present in this crab"
   ]
  },
  {
   "cell_type": "markdown",
   "metadata": {},
   "source": [
    "Check we did this right by examining number of lines. There will be slightly fewer in merged_modules, as we removed headers"
   ]
  },
  {
   "cell_type": "code",
   "execution_count": 40,
   "metadata": {},
   "outputs": [
    {
     "name": "stdout",
     "output_type": "stream",
     "text": [
      "  6457 ../output/manual_clustering/cbai_transcriptomev2.0/Crab_H/cluster_HL.txt\n",
      "  2206 ../output/manual_clustering/cbai_transcriptomev2.0/Crab_H/cluster_LH.txt\n",
      "    12 ../output/manual_clustering/cbai_transcriptomev2.0/Crab_H/cluster_MIX.txt\n",
      "  8675 total\n"
     ]
    }
   ],
   "source": [
    "!wc -l ../output/manual_clustering/cbai_transcriptomev2.0/Crab_H/cluster_*txt"
   ]
  },
  {
   "cell_type": "code",
   "execution_count": 41,
   "metadata": {},
   "outputs": [
    {
     "name": "stdout",
     "output_type": "stream",
     "text": [
      "  6456 ../output/manual_clustering/cbai_transcriptomev2.0/Crab_H/merged_modules/HL_merged.txt\n",
      "  2205 ../output/manual_clustering/cbai_transcriptomev2.0/Crab_H/merged_modules/LH_merged.txt\n",
      "    11 ../output/manual_clustering/cbai_transcriptomev2.0/Crab_H/merged_modules/MIX_merged.txt\n",
      "  8672 total\n"
     ]
    }
   ],
   "source": [
    "!wc -l ../output/manual_clustering/cbai_transcriptomev2.0/Crab_H/merged_modules/*merged.txt"
   ]
  },
  {
   "cell_type": "markdown",
   "metadata": {},
   "source": [
    "Looks good! We can move on."
   ]
  },
  {
   "cell_type": "markdown",
   "metadata": {},
   "source": [
    "## Crab I"
   ]
  },
  {
   "cell_type": "code",
   "execution_count": 42,
   "metadata": {},
   "outputs": [
    {
     "name": "stdout",
     "output_type": "stream",
     "text": [
      "cluster_HL.txt\t\tcluster_LH_heatmap.png\t heatmap.png\n",
      "cluster_HL_heatmap.png\tcluster_MIX.txt\t\t manual_clustnums\n",
      "cluster_LH.txt\t\tcluster_MIX_heatmap.png\n"
     ]
    }
   ],
   "source": [
    "!ls ../output/manual_clustering/cbai_transcriptomev2.0/Crab_I/"
   ]
  },
  {
   "cell_type": "code",
   "execution_count": 43,
   "metadata": {},
   "outputs": [],
   "source": [
    "# Make new directory for merged modules\n",
    "!mkdir ../output/manual_clustering/cbai_transcriptomev2.0/Crab_I/merged_modules\n",
    "\n",
    "# Merge all HL modules\n",
    "!find ../output/manual_clustering/cbai_transcriptomev2.0/Crab_I -maxdepth 1 -name cluster_HL*txt | xargs -n 1 tail -n +2 > ../output/manual_clustering/cbai_transcriptomev2.0/Crab_I/merged_modules/HL_merged.txt\n",
    "\n",
    "# Merge all LH modules\n",
    "!find ../output/manual_clustering/cbai_transcriptomev2.0/Crab_I -maxdepth 1 -name cluster_LH*txt | xargs -n 1 tail -n +2 > ../output/manual_clustering/cbai_transcriptomev2.0/Crab_I/merged_modules/LH_merged.txt\n",
    "\n",
    "# Merge all MIX modules\n",
    "!find ../output/manual_clustering/cbai_transcriptomev2.0/Crab_I -maxdepth 1 -name cluster_MIX*txt | xargs -n 1 tail -n +2 > ../output/manual_clustering/cbai_transcriptomev2.0/Crab_I/merged_modules/MIX_merged.txt\n",
    "\n",
    "# Won't merge HH or LL modules, as none are present in this crab"
   ]
  },
  {
   "cell_type": "markdown",
   "metadata": {},
   "source": [
    "Check we did this right by examining number of lines. There will be slightly fewer in merged_modules, as we removed headers"
   ]
  },
  {
   "cell_type": "code",
   "execution_count": 44,
   "metadata": {},
   "outputs": [
    {
     "name": "stdout",
     "output_type": "stream",
     "text": [
      "  6774 ../output/manual_clustering/cbai_transcriptomev2.0/Crab_I/cluster_HL.txt\n",
      "  4706 ../output/manual_clustering/cbai_transcriptomev2.0/Crab_I/cluster_LH.txt\n",
      "    11 ../output/manual_clustering/cbai_transcriptomev2.0/Crab_I/cluster_MIX.txt\n",
      " 11491 total\n"
     ]
    }
   ],
   "source": [
    "!wc -l ../output/manual_clustering/cbai_transcriptomev2.0/Crab_I/cluster_*txt"
   ]
  },
  {
   "cell_type": "code",
   "execution_count": 45,
   "metadata": {},
   "outputs": [
    {
     "name": "stdout",
     "output_type": "stream",
     "text": [
      "  6773 ../output/manual_clustering/cbai_transcriptomev2.0/Crab_I/merged_modules/HL_merged.txt\n",
      "  4705 ../output/manual_clustering/cbai_transcriptomev2.0/Crab_I/merged_modules/LH_merged.txt\n",
      "    10 ../output/manual_clustering/cbai_transcriptomev2.0/Crab_I/merged_modules/MIX_merged.txt\n",
      " 11488 total\n"
     ]
    }
   ],
   "source": [
    "!wc -l ../output/manual_clustering/cbai_transcriptomev2.0/Crab_I/merged_modules/*merged.txt"
   ]
  },
  {
   "cell_type": "markdown",
   "metadata": {},
   "source": [
    "Looks good! We can move on."
   ]
  },
  {
   "cell_type": "markdown",
   "metadata": {},
   "source": [
    "## Done merging"
   ]
  },
  {
   "cell_type": "markdown",
   "metadata": {},
   "source": [
    "Now, let's get a count of the number of lines in each module in each crab"
   ]
  },
  {
   "cell_type": "markdown",
   "metadata": {},
   "source": [
    "## Line Counts of Modules"
   ]
  },
  {
   "cell_type": "code",
   "execution_count": 46,
   "metadata": {},
   "outputs": [
    {
     "name": "stdout",
     "output_type": "stream",
     "text": [
      "     37 ../output/manual_clustering/cbai_transcriptomev2.0/Crab_A/merged_modules/HLH_merged.txt\n",
      "   5591 ../output/manual_clustering/cbai_transcriptomev2.0/Crab_A/merged_modules/HTL_merged.txt\n",
      "   3333 ../output/manual_clustering/cbai_transcriptomev2.0/Crab_A/merged_modules/LHL_merged.txt\n",
      "  27122 ../output/manual_clustering/cbai_transcriptomev2.0/Crab_A/merged_modules/LTH_merged.txt\n",
      "     64 ../output/manual_clustering/cbai_transcriptomev2.0/Crab_A/merged_modules/MIX_merged.txt\n",
      "   1289 ../output/manual_clustering/cbai_transcriptomev2.0/Crab_B/merged_modules/HLH_merged.txt\n",
      "   4534 ../output/manual_clustering/cbai_transcriptomev2.0/Crab_B/merged_modules/HTL_merged.txt\n",
      "  10047 ../output/manual_clustering/cbai_transcriptomev2.0/Crab_B/merged_modules/LHL_merged.txt\n",
      "   4629 ../output/manual_clustering/cbai_transcriptomev2.0/Crab_B/merged_modules/LTH_merged.txt\n",
      "   2364 ../output/manual_clustering/cbai_transcriptomev2.0/Crab_C/merged_modules/HLH_merged.txt\n",
      "   4962 ../output/manual_clustering/cbai_transcriptomev2.0/Crab_C/merged_modules/HTL_merged.txt\n",
      "   2656 ../output/manual_clustering/cbai_transcriptomev2.0/Crab_C/merged_modules/LHL_merged.txt\n",
      "   3343 ../output/manual_clustering/cbai_transcriptomev2.0/Crab_C/merged_modules/LTH_merged.txt\n",
      "   6618 ../output/manual_clustering/cbai_transcriptomev2.0/Crab_D/merged_modules/HLH_merged.txt\n",
      "  12794 ../output/manual_clustering/cbai_transcriptomev2.0/Crab_D/merged_modules/HTL_merged.txt\n",
      "   5790 ../output/manual_clustering/cbai_transcriptomev2.0/Crab_D/merged_modules/LHL_merged.txt\n",
      "   4830 ../output/manual_clustering/cbai_transcriptomev2.0/Crab_D/merged_modules/LTH_merged.txt\n",
      "   1521 ../output/manual_clustering/cbai_transcriptomev2.0/Crab_E/merged_modules/HLH_merged.txt\n",
      "   7204 ../output/manual_clustering/cbai_transcriptomev2.0/Crab_E/merged_modules/HTL_merged.txt\n",
      "   4061 ../output/manual_clustering/cbai_transcriptomev2.0/Crab_E/merged_modules/LHL_merged.txt\n",
      "   3707 ../output/manual_clustering/cbai_transcriptomev2.0/Crab_E/merged_modules/LTH_merged.txt\n",
      "     84 ../output/manual_clustering/cbai_transcriptomev2.0/Crab_F/merged_modules/HLH_merged.txt\n",
      "   7235 ../output/manual_clustering/cbai_transcriptomev2.0/Crab_F/merged_modules/HTL_merged.txt\n",
      "    394 ../output/manual_clustering/cbai_transcriptomev2.0/Crab_F/merged_modules/LHL_merged.txt\n",
      "   6111 ../output/manual_clustering/cbai_transcriptomev2.0/Crab_F/merged_modules/LTH_merged.txt\n",
      "   8665 ../output/manual_clustering/cbai_transcriptomev2.0/Crab_G/merged_modules/HL_merged.txt\n",
      "   7848 ../output/manual_clustering/cbai_transcriptomev2.0/Crab_G/merged_modules/LH_merged.txt\n",
      "    312 ../output/manual_clustering/cbai_transcriptomev2.0/Crab_G/merged_modules/LL_merged.txt\n",
      "     24 ../output/manual_clustering/cbai_transcriptomev2.0/Crab_G/merged_modules/MIX_merged.txt\n",
      "   6456 ../output/manual_clustering/cbai_transcriptomev2.0/Crab_H/merged_modules/HL_merged.txt\n",
      "   2205 ../output/manual_clustering/cbai_transcriptomev2.0/Crab_H/merged_modules/LH_merged.txt\n",
      "     11 ../output/manual_clustering/cbai_transcriptomev2.0/Crab_H/merged_modules/MIX_merged.txt\n",
      "   6773 ../output/manual_clustering/cbai_transcriptomev2.0/Crab_I/merged_modules/HL_merged.txt\n",
      "   4705 ../output/manual_clustering/cbai_transcriptomev2.0/Crab_I/merged_modules/LH_merged.txt\n",
      "     10 ../output/manual_clustering/cbai_transcriptomev2.0/Crab_I/merged_modules/MIX_merged.txt\n",
      " 167329 total\n"
     ]
    }
   ],
   "source": [
    "!wc -l ../output/manual_clustering/cbai_transcriptomev2.0/Crab_*/merged_modules/*merged.txt"
   ]
  },
  {
   "cell_type": "markdown",
   "metadata": {},
   "source": [
    "We'll now write the above word counts to a file, which we'll then turn into a table using R"
   ]
  },
  {
   "cell_type": "code",
   "execution_count": 47,
   "metadata": {},
   "outputs": [],
   "source": [
    "!wc -l ../output/manual_clustering/cbai_transcriptomev2.0/Crab_*/merged_modules/*merged.txt > ../output/manual_clustering/cbai_transcriptomev2.0/merged_modules_raw_counts.txt"
   ]
  }
 ],
 "metadata": {
  "kernelspec": {
   "display_name": "Python 3",
   "language": "python",
   "name": "python3"
  },
  "language_info": {
   "codemirror_mode": {
    "name": "ipython",
    "version": 3
   },
   "file_extension": ".py",
   "mimetype": "text/x-python",
   "name": "python",
   "nbconvert_exporter": "python",
   "pygments_lexer": "ipython3",
   "version": "3.8.3"
  }
 },
 "nbformat": 4,
 "nbformat_minor": 4
}

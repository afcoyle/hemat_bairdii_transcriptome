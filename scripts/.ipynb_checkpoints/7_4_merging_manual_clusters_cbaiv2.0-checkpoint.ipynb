{
 "cells": [
  {
   "cell_type": "markdown",
   "metadata": {},
   "source": [
    "Aidan Coyle\n",
    "\n",
    "afcoyle@uw.edu\n",
    "\n",
    "2021-07-01\n",
    "\n",
    "Roberts Lab, UW-SAFS"
   ]
  },
  {
   "cell_type": "markdown",
   "metadata": {},
   "source": [
    "In script 7_1_manual_clustering_cbaiv2.0.Rmd, we took libraries aligned to an unfiltered transcriptome (cbai_transcriptomev2.0), grouped them according to crab (e.g. took all libraries for Crab A, B, C...) and clustered gene expression into modules based on expression patterns\n",
    "\n",
    "We then described the expression patterns of each module as following one of five patterns. Crabs with three time points (ambient- and lowered-temperature treatment crab) had the following notation used:\n",
    "\n",
    "- High to low (HTL): Expression decreases over time (regardless of whether the decrease took place on Day 2 or Day 17)\n",
    "\n",
    "- Low to high (LTH): Expression increases over time (regardless of whether the increase took place on Day 2 or Day 17)\n",
    "\n",
    "- Low High Low (LHL): Expression increases on Day 2, and then drops on Day 17\n",
    "\n",
    "- High Low High (HLH): Expression drops on Day 2 and then increases on Day 17\n",
    "\n",
    "- Mixed (MIX): Expression within the module follows no clear pattern\n",
    "\n",
    "Crabs in the Elevated-temperature treatment group had only two time points (crabs G, H, and I). For these, a different notation was used. \n",
    "\n",
    "- LL = expression stays low\n",
    "\n",
    "- HH = expression stays high\n",
    "\n",
    "- LH = expression goes from low to high\n",
    "\n",
    "- HL = expression goes from high to low\n",
    "\n",
    "- MIX = mixed - no clear pattern of expression within the module"
   ]
  },
  {
   "cell_type": "markdown",
   "metadata": {},
   "source": [
    "Importantly, **multiple modules within a single crab could be given the same assignment**. This issue is what this script is meant to solve by merging gene lists."
   ]
  },
  {
   "cell_type": "markdown",
   "metadata": {},
   "source": [
    "First, let's see an example of one crab"
   ]
  },
  {
   "cell_type": "code",
   "execution_count": 1,
   "metadata": {},
   "outputs": [
    {
     "name": "stdout",
     "output_type": "stream",
     "text": [
      "bar_5CtsPerCrab\t\t  cluster_HTL_heatmap.png   cluster_LTH2.txt\n",
      "cluster_HLH.txt\t\t  cluster_LHL.txt\t    cluster_LTH2_heatmap.png\n",
      "cluster_HLH_heatmap.png   cluster_LHL2.txt\t    cluster_LTH_heatmap.png\n",
      "cluster_HTL.txt\t\t  cluster_LHL2_heatmap.png  heatmap.png\n",
      "cluster_HTL2.txt\t  cluster_LHL_heatmap.png   merged_modules\n",
      "cluster_HTL2_heatmap.png  cluster_LTH.txt\n"
     ]
    }
   ],
   "source": [
    "!ls ../output/manual_clustering/cbai_transcriptomev2.0/all_genes/Crab_A/"
   ]
  },
  {
   "cell_type": "markdown",
   "metadata": {},
   "source": [
    "And let's also see what each cluster looks like"
   ]
  },
  {
   "cell_type": "code",
   "execution_count": 2,
   "metadata": {},
   "outputs": [
    {
     "name": "stdout",
     "output_type": "stream",
     "text": [
      "\"178\"\t\"359\"\t\"463\"\n",
      "\"TRINITY_DN54027_c3_g1_i2\"\t0.291166\t0\t0.46337\n",
      "\"TRINITY_DN10_c0_g2_i33\"\t1.11931\t0\t2.13372\n",
      "\"TRINITY_DN3837_c0_g1_i19\"\t1.62353\t0\t1.2497\n",
      "\"TRINITY_DN2923_c0_g2_i1\"\t1.6895\t0.314953\t1.712\n",
      "\"TRINITY_DN2938_c0_g1_i6\"\t0.398434\t0\t0.365213\n",
      "\"TRINITY_DN10880_c1_g1_i1\"\t0.356349\t0\t0.355002\n",
      "\"TRINITY_DN17087_c0_g2_i3\"\t0.927382\t0.226322\t1.12134\n",
      "\"TRINITY_DN17115_c0_g1_i6\"\t2.22112\t0\t2.41907\n",
      "\"TRINITY_DN5134_c23_g1_i1\"\t1.04238\t0.372121\t1.33065\n"
     ]
    }
   ],
   "source": [
    "!head ../output/manual_clustering/cbai_transcriptomev2.0/all_genes/Crab_A/cluster_HLH.txt"
   ]
  },
  {
   "cell_type": "markdown",
   "metadata": {},
   "source": [
    "Looks like we need to remove the first line of each file - otherwise, when we merge modules, the header line will be included. And since columns correspond to days 0, 2, and 17 samples, it's not too meaningful\n",
    "\n",
    "Now, let's see how many crab folders we have"
   ]
  },
  {
   "cell_type": "code",
   "execution_count": 3,
   "metadata": {},
   "outputs": [
    {
     "name": "stdout",
     "output_type": "stream",
     "text": [
      "Crab_A\tCrab_C\tCrab_E\tCrab_G\tCrab_I\n",
      "Crab_B\tCrab_D\tCrab_F\tCrab_H\tbar_5CtsPerCrab_merged_modules_raw_counts.txt\n"
     ]
    }
   ],
   "source": [
    "!ls ../output/manual_clustering/cbai_transcriptomev2.0/all_genes/"
   ]
  },
  {
   "cell_type": "markdown",
   "metadata": {},
   "source": [
    "Looks good! We can move on."
   ]
  },
  {
   "cell_type": "markdown",
   "metadata": {},
   "source": [
    "## Crab A\n",
    "\n",
    "We'll now start on merging all modules for Crab A\n",
    "\n",
    "Let's take another look at the current modules for Crab A"
   ]
  },
  {
   "cell_type": "code",
   "execution_count": 4,
   "metadata": {},
   "outputs": [
    {
     "name": "stdout",
     "output_type": "stream",
     "text": [
      "bar_5CtsPerCrab\t\t  cluster_HTL_heatmap.png   cluster_LTH2.txt\n",
      "cluster_HLH.txt\t\t  cluster_LHL.txt\t    cluster_LTH2_heatmap.png\n",
      "cluster_HLH_heatmap.png   cluster_LHL2.txt\t    cluster_LTH_heatmap.png\n",
      "cluster_HTL.txt\t\t  cluster_LHL2_heatmap.png  heatmap.png\n",
      "cluster_HTL2.txt\t  cluster_LHL_heatmap.png\n",
      "cluster_HTL2_heatmap.png  cluster_LTH.txt\n"
     ]
    }
   ],
   "source": [
    "!ls ../output/manual_clustering/cbai_transcriptomev2.0/all_genes/Crab_A/"
   ]
  },
  {
   "cell_type": "code",
   "execution_count": 5,
   "metadata": {},
   "outputs": [],
   "source": [
    "# Make new directory for merged modules\n",
    "!mkdir ../output/manual_clustering/cbai_transcriptomev2.0/all_genes/Crab_A/merged_modules\n",
    "\n",
    "# Merge all HTL modules\n",
    "!find ../output/manual_clustering/cbai_transcriptomev2.0/all_genes/Crab_A -maxdepth 1 -name cluster_HTL*txt | xargs -n 1 tail -n +2 > ../output/manual_clustering/cbai_transcriptomev2.0/all_genes/Crab_A/merged_modules/HTL_merged.txt\n",
    "\n",
    "# Merge all LTH modules\n",
    "!find ../output/manual_clustering/cbai_transcriptomev2.0/all_genes/Crab_A -maxdepth 1 -name cluster_LTH*txt | xargs -n 1 tail -n +2 > ../output/manual_clustering/cbai_transcriptomev2.0/all_genes/Crab_A/merged_modules/LTH_merged.txt\n",
    "\n",
    "# Merge all HLH modules\n",
    "!find ../output/manual_clustering/cbai_transcriptomev2.0/all_genes/Crab_A -maxdepth 1 -name cluster_HLH*txt | xargs -n 1 tail -n +2 > ../output/manual_clustering/cbai_transcriptomev2.0/all_genes/Crab_A/merged_modules/HLH_merged.txt\n",
    "\n",
    "# Merge all LHL modules\n",
    "!find ../output/manual_clustering/cbai_transcriptomev2.0/all_genes/Crab_A -maxdepth 1 -name cluster_LHL*txt | xargs -n 1 tail -n +2 > ../output/manual_clustering/cbai_transcriptomev2.0/all_genes/Crab_A/merged_modules/LHL_merged.txt\n",
    "\n",
    "# Won't merge MIX modules, as none are present in this crab"
   ]
  },
  {
   "cell_type": "markdown",
   "metadata": {},
   "source": [
    "Check we did this right by examining number of lines. There will be slightly fewer in merged_modules, as we removed headers"
   ]
  },
  {
   "cell_type": "code",
   "execution_count": 8,
   "metadata": {},
   "outputs": [
    {
     "name": "stdout",
     "output_type": "stream",
     "text": [
      "   109 ../output/manual_clustering/cbai_transcriptomev2.0/Crab_A/cluster_HLH.txt\n",
      "  1379 ../output/manual_clustering/cbai_transcriptomev2.0/Crab_A/cluster_HTL.txt\n",
      "  2057 ../output/manual_clustering/cbai_transcriptomev2.0/Crab_A/cluster_HTL2.txt\n",
      "  2728 ../output/manual_clustering/cbai_transcriptomev2.0/Crab_A/cluster_LHL.txt\n",
      "  1113 ../output/manual_clustering/cbai_transcriptomev2.0/Crab_A/cluster_LHL2.txt\n",
      "  6427 ../output/manual_clustering/cbai_transcriptomev2.0/Crab_A/cluster_LTH.txt\n",
      "   413 ../output/manual_clustering/cbai_transcriptomev2.0/Crab_A/cluster_LTH2.txt\n",
      " 14226 total\n"
     ]
    }
   ],
   "source": [
    "!wc -l ../output/manual_clustering/cbai_transcriptomev2.0/all_genes/Crab_A/cluster_*txt"
   ]
  },
  {
   "cell_type": "code",
   "execution_count": 9,
   "metadata": {},
   "outputs": [
    {
     "name": "stdout",
     "output_type": "stream",
     "text": [
      "   108 ../output/manual_clustering/cbai_transcriptomev2.0/Crab_A/merged_modules/HLH_merged.txt\n",
      "  3434 ../output/manual_clustering/cbai_transcriptomev2.0/Crab_A/merged_modules/HTL_merged.txt\n",
      "  3839 ../output/manual_clustering/cbai_transcriptomev2.0/Crab_A/merged_modules/LHL_merged.txt\n",
      "  6838 ../output/manual_clustering/cbai_transcriptomev2.0/Crab_A/merged_modules/LTH_merged.txt\n",
      " 14219 total\n"
     ]
    }
   ],
   "source": [
    "!wc -l ../output/manual_clustering/cbai_transcriptomev2.0/all_genes/Crab_A/merged_modules/*merged.txt"
   ]
  },
  {
   "cell_type": "markdown",
   "metadata": {},
   "source": [
    "Looks good! We can move on."
   ]
  },
  {
   "cell_type": "markdown",
   "metadata": {},
   "source": [
    "## Crab B"
   ]
  },
  {
   "cell_type": "code",
   "execution_count": 6,
   "metadata": {},
   "outputs": [
    {
     "name": "stdout",
     "output_type": "stream",
     "text": [
      "bar_5CtsPerCrab\t\t cluster_HTL2_heatmap.png  cluster_LHL_heatmap.png\n",
      "cluster_HLH.txt\t\t cluster_HTL_heatmap.png   cluster_LTH.txt\n",
      "cluster_HLH_heatmap.png  cluster_LHL.txt\t   cluster_LTH_heatmap.png\n",
      "cluster_HTL.txt\t\t cluster_LHL2.txt\t   heatmap.png\n",
      "cluster_HTL2.txt\t cluster_LHL2_heatmap.png\n"
     ]
    }
   ],
   "source": [
    "!ls ../output/manual_clustering/cbai_transcriptomev2.0/all_genes/Crab_B/"
   ]
  },
  {
   "cell_type": "code",
   "execution_count": 7,
   "metadata": {},
   "outputs": [],
   "source": [
    "# Make new directory for merged modules\n",
    "!mkdir ../output/manual_clustering/cbai_transcriptomev2.0/all_genes/Crab_B/merged_modules\n",
    "\n",
    "# Merge all HTL modules\n",
    "!find ../output/manual_clustering/cbai_transcriptomev2.0/all_genes/Crab_B -maxdepth 1 -name cluster_HTL*txt | xargs -n 1 tail -n +2 > ../output/manual_clustering/cbai_transcriptomev2.0/all_genes/Crab_B/merged_modules/HTL_merged.txt\n",
    "\n",
    "# Merge all LTH modules\n",
    "!find ../output/manual_clustering/cbai_transcriptomev2.0/all_genes/Crab_B -maxdepth 1 -name cluster_LTH*txt | xargs -n 1 tail -n +2 > ../output/manual_clustering/cbai_transcriptomev2.0/all_genes/Crab_B/merged_modules/LTH_merged.txt\n",
    "\n",
    "# Merge all HLH modules\n",
    "!find ../output/manual_clustering/cbai_transcriptomev2.0/all_genes/Crab_B -maxdepth 1 -name cluster_HLH*txt | xargs -n 1 tail -n +2 > ../output/manual_clustering/cbai_transcriptomev2.0/all_genes/Crab_B/merged_modules/HLH_merged.txt\n",
    "\n",
    "# Merge all LHL modules\n",
    "!find ../output/manual_clustering/cbai_transcriptomev2.0/all_genes/Crab_B -maxdepth 1 -name cluster_LHL*txt | xargs -n 1 tail -n +2 > ../output/manual_clustering/cbai_transcriptomev2.0/all_genes/Crab_B/merged_modules/LHL_merged.txt\n",
    "\n",
    "# Won't merge MIX modules, as none are present in this crab"
   ]
  },
  {
   "cell_type": "markdown",
   "metadata": {},
   "source": [
    "Check we did this right by examining number of lines. There will be slightly fewer in merged_modules, as we removed headers"
   ]
  },
  {
   "cell_type": "code",
   "execution_count": 10,
   "metadata": {},
   "outputs": [
    {
     "name": "stdout",
     "output_type": "stream",
     "text": [
      "  1465 ../output/manual_clustering/cbai_transcriptomev2.0/Crab_B/cluster_HLH.txt\n",
      "  1915 ../output/manual_clustering/cbai_transcriptomev2.0/Crab_B/cluster_HTL.txt\n",
      "  3624 ../output/manual_clustering/cbai_transcriptomev2.0/Crab_B/cluster_HTL2.txt\n",
      "  4895 ../output/manual_clustering/cbai_transcriptomev2.0/Crab_B/cluster_LHL.txt\n",
      "   228 ../output/manual_clustering/cbai_transcriptomev2.0/Crab_B/cluster_LHL2.txt\n",
      "  3133 ../output/manual_clustering/cbai_transcriptomev2.0/Crab_B/cluster_LTH.txt\n",
      " 15260 total\n"
     ]
    }
   ],
   "source": [
    "!wc -l ../output/manual_clustering/cbai_transcriptomev2.0/all_genes/Crab_B/cluster_*txt"
   ]
  },
  {
   "cell_type": "code",
   "execution_count": 11,
   "metadata": {},
   "outputs": [
    {
     "name": "stdout",
     "output_type": "stream",
     "text": [
      "  1464 ../output/manual_clustering/cbai_transcriptomev2.0/Crab_B/merged_modules/HLH_merged.txt\n",
      "  5537 ../output/manual_clustering/cbai_transcriptomev2.0/Crab_B/merged_modules/HTL_merged.txt\n",
      "  5121 ../output/manual_clustering/cbai_transcriptomev2.0/Crab_B/merged_modules/LHL_merged.txt\n",
      "  3132 ../output/manual_clustering/cbai_transcriptomev2.0/Crab_B/merged_modules/LTH_merged.txt\n",
      " 15254 total\n"
     ]
    }
   ],
   "source": [
    "!wc -l ../output/manual_clustering/cbai_transcriptomev2.0/all_genes/Crab_B/merged_modules/*merged.txt"
   ]
  },
  {
   "cell_type": "markdown",
   "metadata": {},
   "source": [
    "Looks good! We can move on."
   ]
  },
  {
   "cell_type": "markdown",
   "metadata": {},
   "source": [
    "## Crab C"
   ]
  },
  {
   "cell_type": "code",
   "execution_count": 12,
   "metadata": {},
   "outputs": [
    {
     "name": "stdout",
     "output_type": "stream",
     "text": [
      "bar_5CtsPerCrab\t\t cluster_HTL2_heatmap.png  cluster_LTH2.txt\n",
      "cluster_HLH.txt\t\t cluster_HTL_heatmap.png   cluster_LTH2_heatmap.png\n",
      "cluster_HLH_heatmap.png  cluster_LHL.txt\t   cluster_LTH_heatmap.png\n",
      "cluster_HTL.txt\t\t cluster_LHL_heatmap.png   heatmap.png\n",
      "cluster_HTL2.txt\t cluster_LTH.txt\n"
     ]
    }
   ],
   "source": [
    "!ls ../output/manual_clustering/cbai_transcriptomev2.0/all_genes/Crab_C/"
   ]
  },
  {
   "cell_type": "code",
   "execution_count": 13,
   "metadata": {},
   "outputs": [],
   "source": [
    "# Make new directory for merged modules\n",
    "!mkdir ../output/manual_clustering/cbai_transcriptomev2.0/all_genes/Crab_C/merged_modules\n",
    "\n",
    "# Merge all HTL modules\n",
    "!find ../output/manual_clustering/cbai_transcriptomev2.0/all_genes/Crab_C -maxdepth 1 -name cluster_HTL*txt | xargs -n 1 tail -n +2 > ../output/manual_clustering/cbai_transcriptomev2.0/all_genes/Crab_C/merged_modules/HTL_merged.txt\n",
    "\n",
    "# Merge all LTH modules\n",
    "!find ../output/manual_clustering/cbai_transcriptomev2.0/all_genes/Crab_C -maxdepth 1 -name cluster_LTH*txt | xargs -n 1 tail -n +2 > ../output/manual_clustering/cbai_transcriptomev2.0/all_genes/Crab_C/merged_modules/LTH_merged.txt\n",
    "\n",
    "# Merge all HLH modules\n",
    "!find ../output/manual_clustering/cbai_transcriptomev2.0/all_genes/Crab_C -maxdepth 1 -name cluster_HLH*txt | xargs -n 1 tail -n +2 > ../output/manual_clustering/cbai_transcriptomev2.0/all_genes/Crab_C/merged_modules/HLH_merged.txt\n",
    "\n",
    "# Merge all LHL modules\n",
    "!find ../output/manual_clustering/cbai_transcriptomev2.0/all_genes/Crab_C -maxdepth 1 -name cluster_LHL*txt | xargs -n 1 tail -n +2 > ../output/manual_clustering/cbai_transcriptomev2.0/all_genes/Crab_C/merged_modules/LHL_merged.txt\n",
    "\n",
    "# Won't merge MIX modules, as none are present in this crab"
   ]
  },
  {
   "cell_type": "markdown",
   "metadata": {},
   "source": [
    "Check we did this right by examining number of lines. There will be slightly fewer in merged_modules, as we removed headers"
   ]
  },
  {
   "cell_type": "code",
   "execution_count": 14,
   "metadata": {},
   "outputs": [
    {
     "name": "stdout",
     "output_type": "stream",
     "text": [
      "  2933 ../output/manual_clustering/cbai_transcriptomev2.0/Crab_C/cluster_HLH.txt\n",
      "  1811 ../output/manual_clustering/cbai_transcriptomev2.0/Crab_C/cluster_HTL.txt\n",
      "  3449 ../output/manual_clustering/cbai_transcriptomev2.0/Crab_C/cluster_HTL2.txt\n",
      "  1535 ../output/manual_clustering/cbai_transcriptomev2.0/Crab_C/cluster_LHL.txt\n",
      "  2594 ../output/manual_clustering/cbai_transcriptomev2.0/Crab_C/cluster_LTH.txt\n",
      "   442 ../output/manual_clustering/cbai_transcriptomev2.0/Crab_C/cluster_LTH2.txt\n",
      " 12764 total\n"
     ]
    }
   ],
   "source": [
    "!wc -l ../output/manual_clustering/cbai_transcriptomev2.0/all_genes/Crab_C/cluster_*txt"
   ]
  },
  {
   "cell_type": "code",
   "execution_count": 15,
   "metadata": {},
   "outputs": [
    {
     "name": "stdout",
     "output_type": "stream",
     "text": [
      "  2932 ../output/manual_clustering/cbai_transcriptomev2.0/Crab_C/merged_modules/HLH_merged.txt\n",
      "  5258 ../output/manual_clustering/cbai_transcriptomev2.0/Crab_C/merged_modules/HTL_merged.txt\n",
      "  1534 ../output/manual_clustering/cbai_transcriptomev2.0/Crab_C/merged_modules/LHL_merged.txt\n",
      "  3034 ../output/manual_clustering/cbai_transcriptomev2.0/Crab_C/merged_modules/LTH_merged.txt\n",
      " 12758 total\n"
     ]
    }
   ],
   "source": [
    "!wc -l ../output/manual_clustering/cbai_transcriptomev2.0/all_genes/Crab_C/merged_modules/*merged.txt"
   ]
  },
  {
   "cell_type": "markdown",
   "metadata": {},
   "source": [
    "Looks good! We can move on."
   ]
  },
  {
   "cell_type": "markdown",
   "metadata": {},
   "source": [
    "## Crab D\n",
    "\n",
    "We'll now start on merging all modules for Crab D\n",
    "\n",
    "Let's take another look at the current modules for Crab D"
   ]
  },
  {
   "cell_type": "code",
   "execution_count": 16,
   "metadata": {},
   "outputs": [
    {
     "name": "stdout",
     "output_type": "stream",
     "text": [
      "bar_5CtsPerCrab\t\t  cluster_HTL3.txt\t    cluster_LTH2.txt\n",
      "cluster_HLH.txt\t\t  cluster_HTL3_heatmap.png  cluster_LTH2_heatmap.png\n",
      "cluster_HLH_heatmap.png   cluster_HTL_heatmap.png   cluster_LTH_heatmap.png\n",
      "cluster_HTL.txt\t\t  cluster_LHL.txt\t    heatmap.png\n",
      "cluster_HTL2.txt\t  cluster_LHL_heatmap.png\n",
      "cluster_HTL2_heatmap.png  cluster_LTH.txt\n"
     ]
    }
   ],
   "source": [
    "!ls ../output/manual_clustering/cbai_transcriptomev2.0/all_genes/Crab_D/"
   ]
  },
  {
   "cell_type": "code",
   "execution_count": 17,
   "metadata": {},
   "outputs": [],
   "source": [
    "# Make new directory for merged modules\n",
    "!mkdir ../output/manual_clustering/cbai_transcriptomev2.0/all_genes/Crab_D/merged_modules\n",
    "\n",
    "# Merge all HTL modules\n",
    "!find ../output/manual_clustering/cbai_transcriptomev2.0/all_genes/Crab_D -maxdepth 1 -name cluster_HTL*txt | xargs -n 1 tail -n +2 > ../output/manual_clustering/cbai_transcriptomev2.0/all_genes/Crab_D/merged_modules/HTL_merged.txt\n",
    "\n",
    "# Merge all LTH modules\n",
    "!find ../output/manual_clustering/cbai_transcriptomev2.0/all_genes/Crab_D -maxdepth 1 -name cluster_LTH*txt | xargs -n 1 tail -n +2 > ../output/manual_clustering/cbai_transcriptomev2.0/all_genes/Crab_D/merged_modules/LTH_merged.txt\n",
    "\n",
    "# Merge all HLH modules\n",
    "!find ../output/manual_clustering/cbai_transcriptomev2.0/all_genes/Crab_D -maxdepth 1 -name cluster_HLH*txt | xargs -n 1 tail -n +2 > ../output/manual_clustering/cbai_transcriptomev2.0/all_genes/Crab_D/merged_modules/HLH_merged.txt\n",
    "\n",
    "# Merge all LHL modules\n",
    "!find ../output/manual_clustering/cbai_transcriptomev2.0/all_genes/Crab_D -maxdepth 1 -name cluster_LHL*txt | xargs -n 1 tail -n +2 > ../output/manual_clustering/cbai_transcriptomev2.0/all_genes/Crab_D/merged_modules/LHL_merged.txt\n",
    "\n",
    "# Won't merge MIX modules, as none are present in this crab"
   ]
  },
  {
   "cell_type": "markdown",
   "metadata": {},
   "source": [
    "Check we did this right by examining number of lines. There will be slightly fewer in merged_modules, as we removed headers"
   ]
  },
  {
   "cell_type": "code",
   "execution_count": 18,
   "metadata": {},
   "outputs": [
    {
     "name": "stdout",
     "output_type": "stream",
     "text": [
      "  1688 ../output/manual_clustering/cbai_transcriptomev2.0/Crab_D/cluster_HLH.txt\n",
      "  2117 ../output/manual_clustering/cbai_transcriptomev2.0/Crab_D/cluster_HTL.txt\n",
      "  1812 ../output/manual_clustering/cbai_transcriptomev2.0/Crab_D/cluster_HTL2.txt\n",
      "   455 ../output/manual_clustering/cbai_transcriptomev2.0/Crab_D/cluster_HTL3.txt\n",
      "  4409 ../output/manual_clustering/cbai_transcriptomev2.0/Crab_D/cluster_LHL.txt\n",
      "  3146 ../output/manual_clustering/cbai_transcriptomev2.0/Crab_D/cluster_LTH.txt\n",
      "   156 ../output/manual_clustering/cbai_transcriptomev2.0/Crab_D/cluster_LTH2.txt\n",
      " 13783 total\n"
     ]
    }
   ],
   "source": [
    "!wc -l ../output/manual_clustering/cbai_transcriptomev2.0/all_genes/Crab_D/cluster_*txt"
   ]
  },
  {
   "cell_type": "code",
   "execution_count": 19,
   "metadata": {},
   "outputs": [
    {
     "name": "stdout",
     "output_type": "stream",
     "text": [
      "  1687 ../output/manual_clustering/cbai_transcriptomev2.0/Crab_D/merged_modules/HLH_merged.txt\n",
      "  4381 ../output/manual_clustering/cbai_transcriptomev2.0/Crab_D/merged_modules/HTL_merged.txt\n",
      "  4408 ../output/manual_clustering/cbai_transcriptomev2.0/Crab_D/merged_modules/LHL_merged.txt\n",
      "  3300 ../output/manual_clustering/cbai_transcriptomev2.0/Crab_D/merged_modules/LTH_merged.txt\n",
      " 13776 total\n"
     ]
    }
   ],
   "source": [
    "!wc -l ../output/manual_clustering/cbai_transcriptomev2.0/all_genes/Crab_D/merged_modules/*merged.txt"
   ]
  },
  {
   "cell_type": "markdown",
   "metadata": {},
   "source": [
    "Looks good! We can move on."
   ]
  },
  {
   "cell_type": "markdown",
   "metadata": {},
   "source": [
    "## Crab E"
   ]
  },
  {
   "cell_type": "code",
   "execution_count": 20,
   "metadata": {},
   "outputs": [
    {
     "name": "stdout",
     "output_type": "stream",
     "text": [
      "bar_5CtsPerCrab\t\t  cluster_HTL_heatmap.png   cluster_LTH3.txt\n",
      "cluster_HLH.txt\t\t  cluster_LHL.txt\t    cluster_LTH3_heatmap.png\n",
      "cluster_HLH_heatmap.png   cluster_LHL_heatmap.png   cluster_LTH_heatmap.png\n",
      "cluster_HTL.txt\t\t  cluster_LTH.txt\t    heatmap.png\n",
      "cluster_HTL2.txt\t  cluster_LTH2.txt\n",
      "cluster_HTL2_heatmap.png  cluster_LTH2_heatmap.png\n"
     ]
    }
   ],
   "source": [
    "!ls ../output/manual_clustering/cbai_transcriptomev2.0/all_genes/Crab_E/"
   ]
  },
  {
   "cell_type": "code",
   "execution_count": 21,
   "metadata": {},
   "outputs": [],
   "source": [
    "# Make new directory for merged modules\n",
    "!mkdir ../output/manual_clustering/cbai_transcriptomev2.0/all_genes/Crab_E/merged_modules\n",
    "\n",
    "# Merge all HTL modules\n",
    "!find ../output/manual_clustering/cbai_transcriptomev2.0/all_genes/Crab_E -maxdepth 1 -name cluster_HTL*txt | xargs -n 1 tail -n +2 > ../output/manual_clustering/cbai_transcriptomev2.0/all_genes/Crab_E/merged_modules/HTL_merged.txt\n",
    "\n",
    "# Merge all LTH modules\n",
    "!find ../output/manual_clustering/cbai_transcriptomev2.0/all_genes/Crab_E -maxdepth 1 -name cluster_LTH*txt | xargs -n 1 tail -n +2 > ../output/manual_clustering/cbai_transcriptomev2.0/all_genes/Crab_E/merged_modules/LTH_merged.txt\n",
    "\n",
    "# Merge all HLH modules\n",
    "!find ../output/manual_clustering/cbai_transcriptomev2.0/all_genes/Crab_E -maxdepth 1 -name cluster_HLH*txt | xargs -n 1 tail -n +2 > ../output/manual_clustering/cbai_transcriptomev2.0/all_genes/Crab_E/merged_modules/HLH_merged.txt\n",
    "\n",
    "# Merge all LHL modules\n",
    "!find ../output/manual_clustering/cbai_transcriptomev2.0/all_genes/Crab_E -maxdepth 1 -name cluster_LHL*txt | xargs -n 1 tail -n +2 > ../output/manual_clustering/cbai_transcriptomev2.0/all_genes/Crab_E/merged_modules/LHL_merged.txt\n",
    "\n",
    "# Won't merge MIX modules, as none are present in this crab"
   ]
  },
  {
   "cell_type": "markdown",
   "metadata": {},
   "source": [
    "Check we did this right by examining number of lines. There will be slightly fewer in merged_modules, as we removed headers"
   ]
  },
  {
   "cell_type": "code",
   "execution_count": 22,
   "metadata": {},
   "outputs": [
    {
     "name": "stdout",
     "output_type": "stream",
     "text": [
      "   938 ../output/manual_clustering/cbai_transcriptomev2.0/Crab_E/cluster_HLH.txt\n",
      "  3180 ../output/manual_clustering/cbai_transcriptomev2.0/Crab_E/cluster_HTL.txt\n",
      "  1865 ../output/manual_clustering/cbai_transcriptomev2.0/Crab_E/cluster_HTL2.txt\n",
      "  3512 ../output/manual_clustering/cbai_transcriptomev2.0/Crab_E/cluster_LHL.txt\n",
      "  2680 ../output/manual_clustering/cbai_transcriptomev2.0/Crab_E/cluster_LTH.txt\n",
      "   546 ../output/manual_clustering/cbai_transcriptomev2.0/Crab_E/cluster_LTH2.txt\n",
      "   448 ../output/manual_clustering/cbai_transcriptomev2.0/Crab_E/cluster_LTH3.txt\n",
      " 13169 total\n"
     ]
    }
   ],
   "source": [
    "!wc -l ../output/manual_clustering/cbai_transcriptomev2.0/all_genes/Crab_E/cluster_*txt"
   ]
  },
  {
   "cell_type": "code",
   "execution_count": 23,
   "metadata": {},
   "outputs": [
    {
     "name": "stdout",
     "output_type": "stream",
     "text": [
      "   937 ../output/manual_clustering/cbai_transcriptomev2.0/Crab_E/merged_modules/HLH_merged.txt\n",
      "  5043 ../output/manual_clustering/cbai_transcriptomev2.0/Crab_E/merged_modules/HTL_merged.txt\n",
      "  3511 ../output/manual_clustering/cbai_transcriptomev2.0/Crab_E/merged_modules/LHL_merged.txt\n",
      "  3671 ../output/manual_clustering/cbai_transcriptomev2.0/Crab_E/merged_modules/LTH_merged.txt\n",
      " 13162 total\n"
     ]
    }
   ],
   "source": [
    "!wc -l ../output/manual_clustering/cbai_transcriptomev2.0/all_genes/Crab_E/merged_modules/*merged.txt"
   ]
  },
  {
   "cell_type": "markdown",
   "metadata": {},
   "source": [
    "Looks good! We can move on."
   ]
  },
  {
   "cell_type": "markdown",
   "metadata": {},
   "source": [
    "## Crab F\n",
    "\n",
    "We'll now start on merging all modules for Crab F\n",
    "\n",
    "Let's take another look at the current modules for Crab F"
   ]
  },
  {
   "cell_type": "code",
   "execution_count": 24,
   "metadata": {},
   "outputs": [
    {
     "name": "stdout",
     "output_type": "stream",
     "text": [
      "bar_5CtsPerCrab\t\t  cluster_HTL3.txt\t    cluster_LTH2.txt\n",
      "cluster_HLH.txt\t\t  cluster_HTL3_heatmap.png  cluster_LTH2_heatmap.png\n",
      "cluster_HLH_heatmap.png   cluster_HTL_heatmap.png   cluster_LTH_heatmap.png\n",
      "cluster_HTL.txt\t\t  cluster_LHL.txt\t    heatmap.png\n",
      "cluster_HTL2.txt\t  cluster_LHL_heatmap.png\n",
      "cluster_HTL2_heatmap.png  cluster_LTH.txt\n"
     ]
    }
   ],
   "source": [
    "!ls ../output/manual_clustering/cbai_transcriptomev2.0/all_genes/Crab_F/"
   ]
  },
  {
   "cell_type": "code",
   "execution_count": 25,
   "metadata": {},
   "outputs": [],
   "source": [
    "# Make new directory for merged modules\n",
    "!mkdir ../output/manual_clustering/cbai_transcriptomev2.0/all_genes/Crab_F/merged_modules\n",
    "\n",
    "# Merge all HTL modules\n",
    "!find ../output/manual_clustering/cbai_transcriptomev2.0/all_genes/Crab_F -maxdepth 1 -name cluster_HTL*txt | xargs -n 1 tail -n +2 > ../output/manual_clustering/cbai_transcriptomev2.0/all_genes/Crab_F/merged_modules/HTL_merged.txt\n",
    "\n",
    "# Merge all LTH modules\n",
    "!find ../output/manual_clustering/cbai_transcriptomev2.0/all_genes/Crab_F -maxdepth 1 -name cluster_LTH*txt | xargs -n 1 tail -n +2 > ../output/manual_clustering/cbai_transcriptomev2.0/all_genes/Crab_F/merged_modules/LTH_merged.txt\n",
    "\n",
    "# Merge all HLH modules\n",
    "!find ../output/manual_clustering/cbai_transcriptomev2.0/all_genes/Crab_F -maxdepth 1 -name cluster_HLH*txt | xargs -n 1 tail -n +2 > ../output/manual_clustering/cbai_transcriptomev2.0/all_genes/Crab_F/merged_modules/HLH_merged.txt\n",
    "\n",
    "# Merge all LHL modules\n",
    "!find ../output/manual_clustering/cbai_transcriptomev2.0/all_genes/Crab_F -maxdepth 1 -name cluster_LHL*txt | xargs -n 1 tail -n +2 > ../output/manual_clustering/cbai_transcriptomev2.0/all_genes/Crab_F/merged_modules/LHL_merged.txt\n",
    "\n",
    "# Won't merge MIX modules, as none are present in this crab"
   ]
  },
  {
   "cell_type": "markdown",
   "metadata": {},
   "source": [
    "Check we did this right by examining number of lines. There will be slightly fewer in merged_modules, as we removed headers"
   ]
  },
  {
   "cell_type": "code",
   "execution_count": 26,
   "metadata": {},
   "outputs": [
    {
     "name": "stdout",
     "output_type": "stream",
     "text": [
      "    85 ../output/manual_clustering/cbai_transcriptomev2.0/Crab_F/cluster_HLH.txt\n",
      "  6684 ../output/manual_clustering/cbai_transcriptomev2.0/Crab_F/cluster_HTL.txt\n",
      "   352 ../output/manual_clustering/cbai_transcriptomev2.0/Crab_F/cluster_HTL2.txt\n",
      "   318 ../output/manual_clustering/cbai_transcriptomev2.0/Crab_F/cluster_HTL3.txt\n",
      "  1300 ../output/manual_clustering/cbai_transcriptomev2.0/Crab_F/cluster_LHL.txt\n",
      "  2912 ../output/manual_clustering/cbai_transcriptomev2.0/Crab_F/cluster_LTH.txt\n",
      "   925 ../output/manual_clustering/cbai_transcriptomev2.0/Crab_F/cluster_LTH2.txt\n",
      " 12576 total\n"
     ]
    }
   ],
   "source": [
    "!wc -l ../output/manual_clustering/cbai_transcriptomev2.0/all_genes/Crab_F/cluster_*txt"
   ]
  },
  {
   "cell_type": "code",
   "execution_count": 27,
   "metadata": {},
   "outputs": [
    {
     "name": "stdout",
     "output_type": "stream",
     "text": [
      "    84 ../output/manual_clustering/cbai_transcriptomev2.0/Crab_F/merged_modules/HLH_merged.txt\n",
      "  7351 ../output/manual_clustering/cbai_transcriptomev2.0/Crab_F/merged_modules/HTL_merged.txt\n",
      "  1299 ../output/manual_clustering/cbai_transcriptomev2.0/Crab_F/merged_modules/LHL_merged.txt\n",
      "  3835 ../output/manual_clustering/cbai_transcriptomev2.0/Crab_F/merged_modules/LTH_merged.txt\n",
      " 12569 total\n"
     ]
    }
   ],
   "source": [
    "!wc -l ../output/manual_clustering/cbai_transcriptomev2.0/all_genes/Crab_F/merged_modules/*merged.txt"
   ]
  },
  {
   "cell_type": "markdown",
   "metadata": {},
   "source": [
    "Looks good! We can move on."
   ]
  },
  {
   "cell_type": "markdown",
   "metadata": {},
   "source": [
    "## Crab G"
   ]
  },
  {
   "cell_type": "code",
   "execution_count": 28,
   "metadata": {},
   "outputs": [
    {
     "name": "stdout",
     "output_type": "stream",
     "text": [
      "bar_5CtsPerCrab\t\tcluster_LH2_heatmap.png   cluster_MIX3.txt\n",
      "cluster_HL.txt\t\tcluster_LH_heatmap.png\t  cluster_MIX3_heatmap.png\n",
      "cluster_HL_heatmap.png\tcluster_MIX.txt\t\t  cluster_MIX_heatmap.png\n",
      "cluster_LH.txt\t\tcluster_MIX2.txt\t  heatmap.png\n",
      "cluster_LH2.txt\t\tcluster_MIX2_heatmap.png\n"
     ]
    }
   ],
   "source": [
    "!ls ../output/manual_clustering/cbai_transcriptomev2.0/all_genes/Crab_G/"
   ]
  },
  {
   "cell_type": "code",
   "execution_count": 29,
   "metadata": {},
   "outputs": [],
   "source": [
    "# Make new directory for merged modules\n",
    "!mkdir ../output/manual_clustering/cbai_transcriptomev2.0/all_genes/Crab_G/merged_modules\n",
    "\n",
    "# Merge all HL modules\n",
    "!find ../output/manual_clustering/cbai_transcriptomev2.0/all_genes/Crab_G -maxdepth 1 -name cluster_HL*txt | xargs -n 1 tail -n +2 > ../output/manual_clustering/cbai_transcriptomev2.0/all_genes/Crab_G/merged_modules/HL_merged.txt\n",
    "\n",
    "# Merge all LH modules\n",
    "!find ../output/manual_clustering/cbai_transcriptomev2.0/all_genes/Crab_G -maxdepth 1 -name cluster_LH*txt | xargs -n 1 tail -n +2 > ../output/manual_clustering/cbai_transcriptomev2.0/all_genes/Crab_G/merged_modules/LH_merged.txt\n",
    "\n",
    "# Merge all MIX modules\n",
    "!find ../output/manual_clustering/cbai_transcriptomev2.0/all_genes/Crab_G -maxdepth 1 -name cluster_MIX*txt | xargs -n 1 tail -n +2 > ../output/manual_clustering/cbai_transcriptomev2.0/all_genes/Crab_G/merged_modules/MIX_merged.txt\n",
    "\n",
    "# Won't merge HH or LL modules, as none are present in this crab"
   ]
  },
  {
   "cell_type": "markdown",
   "metadata": {},
   "source": [
    "Check we did this right by examining number of lines. There will be slightly fewer in merged_modules, as we removed headers"
   ]
  },
  {
   "cell_type": "code",
   "execution_count": 30,
   "metadata": {},
   "outputs": [
    {
     "name": "stdout",
     "output_type": "stream",
     "text": [
      "   675 ../output/manual_clustering/cbai_transcriptomev2.0/Crab_G/cluster_HL.txt\n",
      "  3530 ../output/manual_clustering/cbai_transcriptomev2.0/Crab_G/cluster_LH.txt\n",
      "   113 ../output/manual_clustering/cbai_transcriptomev2.0/Crab_G/cluster_LH2.txt\n",
      " 11005 ../output/manual_clustering/cbai_transcriptomev2.0/Crab_G/cluster_MIX.txt\n",
      "    25 ../output/manual_clustering/cbai_transcriptomev2.0/Crab_G/cluster_MIX2.txt\n",
      "   313 ../output/manual_clustering/cbai_transcriptomev2.0/Crab_G/cluster_MIX3.txt\n",
      " 15661 total\n"
     ]
    }
   ],
   "source": [
    "!wc -l ../output/manual_clustering/cbai_transcriptomev2.0/all_genes/Crab_G/cluster_*txt"
   ]
  },
  {
   "cell_type": "code",
   "execution_count": 31,
   "metadata": {},
   "outputs": [
    {
     "name": "stdout",
     "output_type": "stream",
     "text": [
      "   674 ../output/manual_clustering/cbai_transcriptomev2.0/Crab_G/merged_modules/HL_merged.txt\n",
      "  3641 ../output/manual_clustering/cbai_transcriptomev2.0/Crab_G/merged_modules/LH_merged.txt\n",
      " 11340 ../output/manual_clustering/cbai_transcriptomev2.0/Crab_G/merged_modules/MIX_merged.txt\n",
      " 15655 total\n"
     ]
    }
   ],
   "source": [
    "!wc -l ../output/manual_clustering/cbai_transcriptomev2.0/all_genes/Crab_G/merged_modules/*merged.txt"
   ]
  },
  {
   "cell_type": "markdown",
   "metadata": {},
   "source": [
    "Looks good! We can move on."
   ]
  },
  {
   "cell_type": "markdown",
   "metadata": {},
   "source": [
    "## Crab H"
   ]
  },
  {
   "cell_type": "code",
   "execution_count": 32,
   "metadata": {},
   "outputs": [
    {
     "name": "stdout",
     "output_type": "stream",
     "text": [
      "bar_5CtsPerCrab\t\tcluster_LH_heatmap.png\t  cluster_MIX3.txt\n",
      "cluster_HL.txt\t\tcluster_MIX.txt\t\t  cluster_MIX3_heatmap.png\n",
      "cluster_HL_heatmap.png\tcluster_MIX2.txt\t  cluster_MIX_heatmap.png\n",
      "cluster_LH.txt\t\tcluster_MIX2_heatmap.png  heatmap.png\n"
     ]
    }
   ],
   "source": [
    "!ls ../output/manual_clustering/cbai_transcriptomev2.0/all_genes/Crab_H/"
   ]
  },
  {
   "cell_type": "code",
   "execution_count": 33,
   "metadata": {},
   "outputs": [],
   "source": [
    "# Make new directory for merged modules\n",
    "!mkdir ../output/manual_clustering/cbai_transcriptomev2.0/all_genes/Crab_H/merged_modules\n",
    "\n",
    "# Merge all HL modules\n",
    "!find ../output/manual_clustering/cbai_transcriptomev2.0/all_genes/Crab_H -maxdepth 1 -name cluster_HL*txt | xargs -n 1 tail -n +2 > ../output/manual_clustering/cbai_transcriptomev2.0/all_genes/Crab_H/merged_modules/HL_merged.txt\n",
    "\n",
    "# Merge all LH modules\n",
    "!find ../output/manual_clustering/cbai_transcriptomev2.0/all_genes/Crab_H -maxdepth 1 -name cluster_LH*txt | xargs -n 1 tail -n +2 > ../output/manual_clustering/cbai_transcriptomev2.0/all_genes/Crab_H/merged_modules/LH_merged.txt\n",
    "\n",
    "# Merge all MIX modules\n",
    "!find ../output/manual_clustering/cbai_transcriptomev2.0/all_genes/Crab_H -maxdepth 1 -name cluster_MIX*txt | xargs -n 1 tail -n +2 > ../output/manual_clustering/cbai_transcriptomev2.0/all_genes/Crab_H/merged_modules/MIX_merged.txt\n",
    "\n",
    "# Won't merge HH or LL modules, as none are present in this crab"
   ]
  },
  {
   "cell_type": "markdown",
   "metadata": {},
   "source": [
    "Check we did this right by examining number of lines. There will be slightly fewer in merged_modules, as we removed headers"
   ]
  },
  {
   "cell_type": "code",
   "execution_count": 34,
   "metadata": {},
   "outputs": [
    {
     "name": "stdout",
     "output_type": "stream",
     "text": [
      "  1069 ../output/manual_clustering/cbai_transcriptomev2.0/Crab_H/cluster_HL.txt\n",
      "  1719 ../output/manual_clustering/cbai_transcriptomev2.0/Crab_H/cluster_LH.txt\n",
      "  8792 ../output/manual_clustering/cbai_transcriptomev2.0/Crab_H/cluster_MIX.txt\n",
      "   854 ../output/manual_clustering/cbai_transcriptomev2.0/Crab_H/cluster_MIX2.txt\n",
      "    12 ../output/manual_clustering/cbai_transcriptomev2.0/Crab_H/cluster_MIX3.txt\n",
      " 12446 total\n"
     ]
    }
   ],
   "source": [
    "!wc -l ../output/manual_clustering/cbai_transcriptomev2.0/all_genes/Crab_H/cluster_*txt"
   ]
  },
  {
   "cell_type": "code",
   "execution_count": 35,
   "metadata": {},
   "outputs": [
    {
     "name": "stdout",
     "output_type": "stream",
     "text": [
      "  1068 ../output/manual_clustering/cbai_transcriptomev2.0/Crab_H/merged_modules/HL_merged.txt\n",
      "  1718 ../output/manual_clustering/cbai_transcriptomev2.0/Crab_H/merged_modules/LH_merged.txt\n",
      "  9655 ../output/manual_clustering/cbai_transcriptomev2.0/Crab_H/merged_modules/MIX_merged.txt\n",
      " 12441 total\n"
     ]
    }
   ],
   "source": [
    "!wc -l ../output/manual_clustering/cbai_transcriptomev2.0/all_genes/Crab_H/merged_modules/*merged.txt"
   ]
  },
  {
   "cell_type": "markdown",
   "metadata": {},
   "source": [
    "Looks good! We can move on."
   ]
  },
  {
   "cell_type": "markdown",
   "metadata": {},
   "source": [
    "## Crab I"
   ]
  },
  {
   "cell_type": "code",
   "execution_count": 36,
   "metadata": {},
   "outputs": [
    {
     "name": "stdout",
     "output_type": "stream",
     "text": [
      "bar_5CtsPerCrab\t\t cluster_LH.txt\t\t  cluster_MIX2.txt\n",
      "cluster_HL.txt\t\t cluster_LH2.txt\t  cluster_MIX2_heatmap.png\n",
      "cluster_HL2.txt\t\t cluster_LH2_heatmap.png  cluster_MIX_heatmap.png\n",
      "cluster_HL2_heatmap.png  cluster_LH_heatmap.png   heatmap.png\n",
      "cluster_HL_heatmap.png\t cluster_MIX.txt\n"
     ]
    }
   ],
   "source": [
    "!ls ../output/manual_clustering/cbai_transcriptomev2.0/all_genes/Crab_I/"
   ]
  },
  {
   "cell_type": "code",
   "execution_count": 37,
   "metadata": {},
   "outputs": [],
   "source": [
    "# Make new directory for merged modules\n",
    "!mkdir ../output/manual_clustering/cbai_transcriptomev2.0/all_genes/Crab_I/merged_modules\n",
    "\n",
    "# Merge all HL modules\n",
    "!find ../output/manual_clustering/cbai_transcriptomev2.0/all_genes/Crab_I -maxdepth 1 -name cluster_HL*txt | xargs -n 1 tail -n +2 > ../output/manual_clustering/cbai_transcriptomev2.0/all_genes/Crab_I/merged_modules/HL_merged.txt\n",
    "\n",
    "# Merge all LH modules\n",
    "!find ../output/manual_clustering/cbai_transcriptomev2.0/all_genes/Crab_I -maxdepth 1 -name cluster_LH*txt | xargs -n 1 tail -n +2 > ../output/manual_clustering/cbai_transcriptomev2.0/all_genes/Crab_I/merged_modules/LH_merged.txt\n",
    "\n",
    "# Merge all MIX modules\n",
    "!find ../output/manual_clustering/cbai_transcriptomev2.0/all_genes/Crab_I -maxdepth 1 -name cluster_MIX*txt | xargs -n 1 tail -n +2 > ../output/manual_clustering/cbai_transcriptomev2.0/all_genes/Crab_I/merged_modules/MIX_merged.txt\n",
    "\n",
    "# Won't merge HH or LL modules, as none are present in this crab"
   ]
  },
  {
   "cell_type": "markdown",
   "metadata": {},
   "source": [
    "Check we did this right by examining number of lines. There will be slightly fewer in merged_modules, as we removed headers"
   ]
  },
  {
   "cell_type": "code",
   "execution_count": 38,
   "metadata": {},
   "outputs": [
    {
     "name": "stdout",
     "output_type": "stream",
     "text": [
      "  3137 ../output/manual_clustering/cbai_transcriptomev2.0/Crab_I/cluster_HL.txt\n",
      "   832 ../output/manual_clustering/cbai_transcriptomev2.0/Crab_I/cluster_HL2.txt\n",
      "  2309 ../output/manual_clustering/cbai_transcriptomev2.0/Crab_I/cluster_LH.txt\n",
      "    94 ../output/manual_clustering/cbai_transcriptomev2.0/Crab_I/cluster_LH2.txt\n",
      "  6439 ../output/manual_clustering/cbai_transcriptomev2.0/Crab_I/cluster_MIX.txt\n",
      "    11 ../output/manual_clustering/cbai_transcriptomev2.0/Crab_I/cluster_MIX2.txt\n",
      " 12822 total\n"
     ]
    }
   ],
   "source": [
    "!wc -l ../output/manual_clustering/cbai_transcriptomev2.0/all_genes/Crab_I/cluster_*txt"
   ]
  },
  {
   "cell_type": "code",
   "execution_count": 39,
   "metadata": {},
   "outputs": [
    {
     "name": "stdout",
     "output_type": "stream",
     "text": [
      "  3967 ../output/manual_clustering/cbai_transcriptomev2.0/Crab_I/merged_modules/HL_merged.txt\n",
      "  2401 ../output/manual_clustering/cbai_transcriptomev2.0/Crab_I/merged_modules/LH_merged.txt\n",
      "  6448 ../output/manual_clustering/cbai_transcriptomev2.0/Crab_I/merged_modules/MIX_merged.txt\n",
      " 12816 total\n"
     ]
    }
   ],
   "source": [
    "!wc -l ../output/manual_clustering/cbai_transcriptomev2.0/all_genes/Crab_I/merged_modules/*merged.txt"
   ]
  },
  {
   "cell_type": "markdown",
   "metadata": {},
   "source": [
    "Looks good! We can move on."
   ]
  },
  {
   "cell_type": "markdown",
   "metadata": {},
   "source": [
    "## Done merging"
   ]
  },
  {
   "cell_type": "markdown",
   "metadata": {},
   "source": [
    "Now, let's get a count of the number of lines in each module in each crab"
   ]
  },
  {
   "cell_type": "markdown",
   "metadata": {},
   "source": [
    "## Line Counts of Modules"
   ]
  },
  {
   "cell_type": "code",
   "execution_count": 40,
   "metadata": {},
   "outputs": [
    {
     "name": "stdout",
     "output_type": "stream",
     "text": [
      "    108 ../output/manual_clustering/cbai_transcriptomev2.0/Crab_A/merged_modules/HLH_merged.txt\n",
      "   3434 ../output/manual_clustering/cbai_transcriptomev2.0/Crab_A/merged_modules/HTL_merged.txt\n",
      "   3839 ../output/manual_clustering/cbai_transcriptomev2.0/Crab_A/merged_modules/LHL_merged.txt\n",
      "   6838 ../output/manual_clustering/cbai_transcriptomev2.0/Crab_A/merged_modules/LTH_merged.txt\n",
      "   1464 ../output/manual_clustering/cbai_transcriptomev2.0/Crab_B/merged_modules/HLH_merged.txt\n",
      "   5537 ../output/manual_clustering/cbai_transcriptomev2.0/Crab_B/merged_modules/HTL_merged.txt\n",
      "   5121 ../output/manual_clustering/cbai_transcriptomev2.0/Crab_B/merged_modules/LHL_merged.txt\n",
      "   3132 ../output/manual_clustering/cbai_transcriptomev2.0/Crab_B/merged_modules/LTH_merged.txt\n",
      "   2932 ../output/manual_clustering/cbai_transcriptomev2.0/Crab_C/merged_modules/HLH_merged.txt\n",
      "   5258 ../output/manual_clustering/cbai_transcriptomev2.0/Crab_C/merged_modules/HTL_merged.txt\n",
      "   1534 ../output/manual_clustering/cbai_transcriptomev2.0/Crab_C/merged_modules/LHL_merged.txt\n",
      "   3034 ../output/manual_clustering/cbai_transcriptomev2.0/Crab_C/merged_modules/LTH_merged.txt\n",
      "   1687 ../output/manual_clustering/cbai_transcriptomev2.0/Crab_D/merged_modules/HLH_merged.txt\n",
      "   4381 ../output/manual_clustering/cbai_transcriptomev2.0/Crab_D/merged_modules/HTL_merged.txt\n",
      "   4408 ../output/manual_clustering/cbai_transcriptomev2.0/Crab_D/merged_modules/LHL_merged.txt\n",
      "   3300 ../output/manual_clustering/cbai_transcriptomev2.0/Crab_D/merged_modules/LTH_merged.txt\n",
      "    937 ../output/manual_clustering/cbai_transcriptomev2.0/Crab_E/merged_modules/HLH_merged.txt\n",
      "   5043 ../output/manual_clustering/cbai_transcriptomev2.0/Crab_E/merged_modules/HTL_merged.txt\n",
      "   3511 ../output/manual_clustering/cbai_transcriptomev2.0/Crab_E/merged_modules/LHL_merged.txt\n",
      "   3671 ../output/manual_clustering/cbai_transcriptomev2.0/Crab_E/merged_modules/LTH_merged.txt\n",
      "     84 ../output/manual_clustering/cbai_transcriptomev2.0/Crab_F/merged_modules/HLH_merged.txt\n",
      "   7351 ../output/manual_clustering/cbai_transcriptomev2.0/Crab_F/merged_modules/HTL_merged.txt\n",
      "   1299 ../output/manual_clustering/cbai_transcriptomev2.0/Crab_F/merged_modules/LHL_merged.txt\n",
      "   3835 ../output/manual_clustering/cbai_transcriptomev2.0/Crab_F/merged_modules/LTH_merged.txt\n",
      "    674 ../output/manual_clustering/cbai_transcriptomev2.0/Crab_G/merged_modules/HL_merged.txt\n",
      "   3641 ../output/manual_clustering/cbai_transcriptomev2.0/Crab_G/merged_modules/LH_merged.txt\n",
      "  11340 ../output/manual_clustering/cbai_transcriptomev2.0/Crab_G/merged_modules/MIX_merged.txt\n",
      "   1068 ../output/manual_clustering/cbai_transcriptomev2.0/Crab_H/merged_modules/HL_merged.txt\n",
      "   1718 ../output/manual_clustering/cbai_transcriptomev2.0/Crab_H/merged_modules/LH_merged.txt\n",
      "   9655 ../output/manual_clustering/cbai_transcriptomev2.0/Crab_H/merged_modules/MIX_merged.txt\n",
      "   3967 ../output/manual_clustering/cbai_transcriptomev2.0/Crab_I/merged_modules/HL_merged.txt\n",
      "   2401 ../output/manual_clustering/cbai_transcriptomev2.0/Crab_I/merged_modules/LH_merged.txt\n",
      "   6448 ../output/manual_clustering/cbai_transcriptomev2.0/Crab_I/merged_modules/MIX_merged.txt\n",
      " 122650 total\n"
     ]
    }
   ],
   "source": [
    "!wc -l ../output/manual_clustering/cbai_transcriptomev2.0/all_genes/Crab_*/merged_modules/*merged.txt"
   ]
  },
  {
   "cell_type": "markdown",
   "metadata": {},
   "source": [
    "We'll now write the above word counts to a file, which we'll then turn into a table using R"
   ]
  },
  {
   "cell_type": "code",
   "execution_count": 41,
   "metadata": {},
   "outputs": [],
   "source": [
    "!wc -l ../output/manual_clustering/cbai_transcriptomev2.0/all_genes/Crab_*/merged_modules/*merged.txt > ../output/manual_clustering/cbai_transcriptomev2.0/all_genes/merged_modules_raw_counts.txt"
   ]
  }
 ],
 "metadata": {
  "kernelspec": {
   "display_name": "Python 3",
   "language": "python",
   "name": "python3"
  },
  "language_info": {
   "codemirror_mode": {
    "name": "ipython",
    "version": 3
   },
   "file_extension": ".py",
   "mimetype": "text/x-python",
   "name": "python",
   "nbconvert_exporter": "python",
   "pygments_lexer": "ipython3",
   "version": "3.8.3"
  }
 },
 "nbformat": 4,
 "nbformat_minor": 4
}
